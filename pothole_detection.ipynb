{
 "cells": [
  {
   "cell_type": "code",
   "execution_count": 1,
   "metadata": {},
   "outputs": [],
   "source": [
    "import os\n",
    "import cv2\n",
    "import numpy as np\n",
    "import matplotlib.pyplot as plt\n",
    "from ultralytics import YOLO\n",
    "from sklearn.model_selection import train_test_split\n",
    "import shutil\n",
    "import torch"
   ]
  },
  {
   "cell_type": "code",
   "execution_count": 2,
   "metadata": {},
   "outputs": [
    {
     "name": "stdout",
     "output_type": "stream",
     "text": [
      "Ultralytics 8.3.82  Python-3.12.1 torch-2.6.0+cpu CPU (13th Gen Intel Core(TM) i7-13700H)\n",
      "\u001b[34m\u001b[1mengine\\trainer: \u001b[0mtask=detect, mode=train, model=yolov8n.pt, data=dataset.yaml, epochs=100, time=None, patience=100, batch=16, imgsz=640, save=True, save_period=-1, cache=False, device=None, workers=8, project=runs/train, name=pothole_detection, exist_ok=True, pretrained=True, optimizer=auto, verbose=True, seed=0, deterministic=True, single_cls=False, rect=False, cos_lr=False, close_mosaic=10, resume=False, amp=True, fraction=1.0, profile=False, freeze=None, multi_scale=False, overlap_mask=True, mask_ratio=4, dropout=0.0, val=True, split=val, save_json=False, save_hybrid=False, conf=None, iou=0.7, max_det=300, half=False, dnn=False, plots=True, source=None, vid_stride=1, stream_buffer=False, visualize=False, augment=False, agnostic_nms=False, classes=None, retina_masks=False, embed=None, show=False, save_frames=False, save_txt=False, save_conf=False, save_crop=False, show_labels=True, show_conf=True, show_boxes=True, line_width=None, format=torchscript, keras=False, optimize=False, int8=False, dynamic=False, simplify=True, opset=None, workspace=None, nms=False, lr0=0.01, lrf=0.01, momentum=0.937, weight_decay=0.0005, warmup_epochs=3.0, warmup_momentum=0.8, warmup_bias_lr=0.1, box=7.5, cls=0.5, dfl=1.5, pose=12.0, kobj=1.0, nbs=64, hsv_h=0.015, hsv_s=0.7, hsv_v=0.4, degrees=0.0, translate=0.1, scale=0.5, shear=0.0, perspective=0.0, flipud=0.0, fliplr=0.5, bgr=0.0, mosaic=1.0, mixup=0.0, copy_paste=0.0, copy_paste_mode=flip, auto_augment=randaugment, erasing=0.4, crop_fraction=1.0, cfg=None, tracker=botsort.yaml, save_dir=runs\\train\\pothole_detection\n",
      "Overriding model.yaml nc=80 with nc=1\n",
      "\n",
      "                   from  n    params  module                                       arguments                     \n",
      "  0                  -1  1       464  ultralytics.nn.modules.conv.Conv             [3, 16, 3, 2]                 \n",
      "  1                  -1  1      4672  ultralytics.nn.modules.conv.Conv             [16, 32, 3, 2]                \n",
      "  2                  -1  1      7360  ultralytics.nn.modules.block.C2f             [32, 32, 1, True]             \n",
      "  3                  -1  1     18560  ultralytics.nn.modules.conv.Conv             [32, 64, 3, 2]                \n",
      "  4                  -1  2     49664  ultralytics.nn.modules.block.C2f             [64, 64, 2, True]             \n",
      "  5                  -1  1     73984  ultralytics.nn.modules.conv.Conv             [64, 128, 3, 2]               \n",
      "  6                  -1  2    197632  ultralytics.nn.modules.block.C2f             [128, 128, 2, True]           \n",
      "  7                  -1  1    295424  ultralytics.nn.modules.conv.Conv             [128, 256, 3, 2]              \n",
      "  8                  -1  1    460288  ultralytics.nn.modules.block.C2f             [256, 256, 1, True]           \n",
      "  9                  -1  1    164608  ultralytics.nn.modules.block.SPPF            [256, 256, 5]                 \n",
      " 10                  -1  1         0  torch.nn.modules.upsampling.Upsample         [None, 2, 'nearest']          \n",
      " 11             [-1, 6]  1         0  ultralytics.nn.modules.conv.Concat           [1]                           \n",
      " 12                  -1  1    148224  ultralytics.nn.modules.block.C2f             [384, 128, 1]                 \n",
      " 13                  -1  1         0  torch.nn.modules.upsampling.Upsample         [None, 2, 'nearest']          \n",
      " 14             [-1, 4]  1         0  ultralytics.nn.modules.conv.Concat           [1]                           \n",
      " 15                  -1  1     37248  ultralytics.nn.modules.block.C2f             [192, 64, 1]                  \n",
      " 16                  -1  1     36992  ultralytics.nn.modules.conv.Conv             [64, 64, 3, 2]                \n",
      " 17            [-1, 12]  1         0  ultralytics.nn.modules.conv.Concat           [1]                           \n",
      " 18                  -1  1    123648  ultralytics.nn.modules.block.C2f             [192, 128, 1]                 \n",
      " 19                  -1  1    147712  ultralytics.nn.modules.conv.Conv             [128, 128, 3, 2]              \n",
      " 20             [-1, 9]  1         0  ultralytics.nn.modules.conv.Concat           [1]                           \n",
      " 21                  -1  1    493056  ultralytics.nn.modules.block.C2f             [384, 256, 1]                 \n",
      " 22        [15, 18, 21]  1    751507  ultralytics.nn.modules.head.Detect           [1, [64, 128, 256]]           \n",
      "Model summary: 129 layers, 3,011,043 parameters, 3,011,027 gradients, 8.2 GFLOPs\n",
      "\n",
      "Transferred 319/355 items from pretrained weights\n",
      "\u001b[34m\u001b[1mTensorBoard: \u001b[0mStart with 'tensorboard --logdir runs\\train\\pothole_detection', view at http://localhost:6006/\n",
      "Freezing layer 'model.22.dfl.conv.weight'\n"
     ]
    },
    {
     "name": "stderr",
     "output_type": "stream",
     "text": [
      "\u001b[34m\u001b[1mtrain: \u001b[0mScanning C:\\Users\\nandu\\Downloads\\Robotics-MFC-S4-D12\\pothole_image_data\\train\\labels... 324 images, 61 backgrounds, 0 corrupt: 100%|██████████| 324/324 [00:00<00:00, 595.49it/s]"
     ]
    },
    {
     "name": "stdout",
     "output_type": "stream",
     "text": [
      "\u001b[34m\u001b[1mtrain: \u001b[0mWARNING  C:\\Users\\nandu\\Downloads\\Robotics-MFC-S4-D12\\pothole_image_data\\train\\images\\253.jpg: corrupt JPEG restored and saved\n",
      "\u001b[34m\u001b[1mtrain: \u001b[0mWARNING  C:\\Users\\nandu\\Downloads\\Robotics-MFC-S4-D12\\pothole_image_data\\train\\images\\266.jpg: corrupt JPEG restored and saved\n",
      "\u001b[34m\u001b[1mtrain: \u001b[0mWARNING  C:\\Users\\nandu\\Downloads\\Robotics-MFC-S4-D12\\pothole_image_data\\train\\images\\279.jpg: corrupt JPEG restored and saved\n",
      "\u001b[34m\u001b[1mtrain: \u001b[0mNew cache created: C:\\Users\\nandu\\Downloads\\Robotics-MFC-S4-D12\\pothole_image_data\\train\\labels.cache\n"
     ]
    },
    {
     "name": "stderr",
     "output_type": "stream",
     "text": [
      "\n",
      "\u001b[34m\u001b[1mval: \u001b[0mScanning C:\\Users\\nandu\\Downloads\\Robotics-MFC-S4-D12\\pothole_image_data\\val\\labels.cache... 110 images, 44 backgrounds, 0 corrupt: 100%|██████████| 110/110 [00:00<?, ?it/s]\n"
     ]
    },
    {
     "name": "stdout",
     "output_type": "stream",
     "text": [
      "Plotting labels to runs\\train\\pothole_detection\\labels.jpg... \n",
      "\u001b[34m\u001b[1moptimizer:\u001b[0m 'optimizer=auto' found, ignoring 'lr0=0.01' and 'momentum=0.937' and determining best 'optimizer', 'lr0' and 'momentum' automatically... \n",
      "\u001b[34m\u001b[1moptimizer:\u001b[0m AdamW(lr=0.002, momentum=0.9) with parameter groups 57 weight(decay=0.0), 64 weight(decay=0.0005), 63 bias(decay=0.0)\n",
      "\u001b[34m\u001b[1mTensorBoard: \u001b[0mmodel graph visualization added \n",
      "Image sizes 640 train, 640 val\n",
      "Using 0 dataloader workers\n",
      "Logging results to \u001b[1mruns\\train\\pothole_detection\u001b[0m\n",
      "Starting training for 100 epochs...\n",
      "\n",
      "      Epoch    GPU_mem   box_loss   cls_loss   dfl_loss  Instances       Size\n"
     ]
    },
    {
     "name": "stderr",
     "output_type": "stream",
     "text": [
      "      1/100         0G      2.865      5.004      2.693         11        640: 100%|██████████| 21/21 [01:01<00:00,  2.91s/it]\n",
      "                 Class     Images  Instances      Box(P          R      mAP50  mAP50-95): 100%|██████████| 4/4 [00:07<00:00,  1.81s/it]"
     ]
    },
    {
     "name": "stdout",
     "output_type": "stream",
     "text": [
      "                   all        110         66    0.00194       0.97    0.00339    0.00114\n"
     ]
    },
    {
     "name": "stderr",
     "output_type": "stream",
     "text": [
      "\n"
     ]
    },
    {
     "name": "stdout",
     "output_type": "stream",
     "text": [
      "\n",
      "      Epoch    GPU_mem   box_loss   cls_loss   dfl_loss  Instances       Size\n"
     ]
    },
    {
     "name": "stderr",
     "output_type": "stream",
     "text": [
      "      2/100         0G      2.386      4.224      2.175          8        640: 100%|██████████| 21/21 [00:59<00:00,  2.83s/it]\n",
      "                 Class     Images  Instances      Box(P          R      mAP50  mAP50-95): 100%|██████████| 4/4 [00:06<00:00,  1.63s/it]"
     ]
    },
    {
     "name": "stdout",
     "output_type": "stream",
     "text": [
      "                   all        110         66    0.00188      0.939    0.00708    0.00181\n"
     ]
    },
    {
     "name": "stderr",
     "output_type": "stream",
     "text": [
      "\n"
     ]
    },
    {
     "name": "stdout",
     "output_type": "stream",
     "text": [
      "\n",
      "      Epoch    GPU_mem   box_loss   cls_loss   dfl_loss  Instances       Size\n"
     ]
    },
    {
     "name": "stderr",
     "output_type": "stream",
     "text": [
      "      3/100         0G      2.159      3.829      2.065          7        640: 100%|██████████| 21/21 [00:58<00:00,  2.78s/it]\n",
      "                 Class     Images  Instances      Box(P          R      mAP50  mAP50-95): 100%|██████████| 4/4 [00:06<00:00,  1.54s/it]"
     ]
    },
    {
     "name": "stdout",
     "output_type": "stream",
     "text": [
      "                   all        110         66   0.000606      0.303     0.0255    0.00744\n"
     ]
    },
    {
     "name": "stderr",
     "output_type": "stream",
     "text": [
      "\n"
     ]
    },
    {
     "name": "stdout",
     "output_type": "stream",
     "text": [
      "\n",
      "      Epoch    GPU_mem   box_loss   cls_loss   dfl_loss  Instances       Size\n"
     ]
    },
    {
     "name": "stderr",
     "output_type": "stream",
     "text": [
      "      4/100         0G      2.027      3.672      2.031          6        640: 100%|██████████| 21/21 [00:57<00:00,  2.75s/it]\n",
      "                 Class     Images  Instances      Box(P          R      mAP50  mAP50-95): 100%|██████████| 4/4 [00:05<00:00,  1.48s/it]"
     ]
    },
    {
     "name": "stdout",
     "output_type": "stream",
     "text": [
      "                   all        110         66    0.00167      0.833    0.00887     0.0027\n"
     ]
    },
    {
     "name": "stderr",
     "output_type": "stream",
     "text": [
      "\n"
     ]
    },
    {
     "name": "stdout",
     "output_type": "stream",
     "text": [
      "\n",
      "      Epoch    GPU_mem   box_loss   cls_loss   dfl_loss  Instances       Size\n"
     ]
    },
    {
     "name": "stderr",
     "output_type": "stream",
     "text": [
      "      5/100         0G      2.014      3.569      2.011          6        640: 100%|██████████| 21/21 [00:58<00:00,  2.78s/it]\n",
      "                 Class     Images  Instances      Box(P          R      mAP50  mAP50-95): 100%|██████████| 4/4 [00:05<00:00,  1.48s/it]"
     ]
    },
    {
     "name": "stdout",
     "output_type": "stream",
     "text": [
      "                   all        110         66     0.0462      0.288     0.0514     0.0179\n"
     ]
    },
    {
     "name": "stderr",
     "output_type": "stream",
     "text": [
      "\n"
     ]
    },
    {
     "name": "stdout",
     "output_type": "stream",
     "text": [
      "\n",
      "      Epoch    GPU_mem   box_loss   cls_loss   dfl_loss  Instances       Size\n"
     ]
    },
    {
     "name": "stderr",
     "output_type": "stream",
     "text": [
      "      6/100         0G       1.89      3.309      1.907          6        640: 100%|██████████| 21/21 [00:57<00:00,  2.75s/it]\n",
      "                 Class     Images  Instances      Box(P          R      mAP50  mAP50-95): 100%|██████████| 4/4 [00:05<00:00,  1.45s/it]"
     ]
    },
    {
     "name": "stdout",
     "output_type": "stream",
     "text": [
      "                   all        110         66     0.0454      0.212     0.0375    0.00878\n"
     ]
    },
    {
     "name": "stderr",
     "output_type": "stream",
     "text": [
      "\n"
     ]
    },
    {
     "name": "stdout",
     "output_type": "stream",
     "text": [
      "\n",
      "      Epoch    GPU_mem   box_loss   cls_loss   dfl_loss  Instances       Size\n"
     ]
    },
    {
     "name": "stderr",
     "output_type": "stream",
     "text": [
      "      7/100         0G      1.882      3.256      1.957          3        640: 100%|██████████| 21/21 [00:57<00:00,  2.75s/it]\n",
      "                 Class     Images  Instances      Box(P          R      mAP50  mAP50-95): 100%|██████████| 4/4 [00:05<00:00,  1.48s/it]"
     ]
    },
    {
     "name": "stdout",
     "output_type": "stream",
     "text": [
      "                   all        110         66     0.0156     0.0758     0.0115    0.00436\n"
     ]
    },
    {
     "name": "stderr",
     "output_type": "stream",
     "text": [
      "\n"
     ]
    },
    {
     "name": "stdout",
     "output_type": "stream",
     "text": [
      "\n",
      "      Epoch    GPU_mem   box_loss   cls_loss   dfl_loss  Instances       Size\n"
     ]
    },
    {
     "name": "stderr",
     "output_type": "stream",
     "text": [
      "      8/100         0G      1.858      3.108      1.988          5        640: 100%|██████████| 21/21 [00:57<00:00,  2.75s/it]\n",
      "                 Class     Images  Instances      Box(P          R      mAP50  mAP50-95): 100%|██████████| 4/4 [00:05<00:00,  1.43s/it]"
     ]
    },
    {
     "name": "stdout",
     "output_type": "stream",
     "text": [
      "                   all        110         66     0.0016      0.758    0.00965     0.0033\n"
     ]
    },
    {
     "name": "stderr",
     "output_type": "stream",
     "text": [
      "\n"
     ]
    },
    {
     "name": "stdout",
     "output_type": "stream",
     "text": [
      "\n",
      "      Epoch    GPU_mem   box_loss   cls_loss   dfl_loss  Instances       Size\n"
     ]
    },
    {
     "name": "stderr",
     "output_type": "stream",
     "text": [
      "      9/100         0G      1.749      3.098      1.937          8        640: 100%|██████████| 21/21 [00:57<00:00,  2.74s/it]\n",
      "                 Class     Images  Instances      Box(P          R      mAP50  mAP50-95): 100%|██████████| 4/4 [00:05<00:00,  1.44s/it]"
     ]
    },
    {
     "name": "stdout",
     "output_type": "stream",
     "text": [
      "                   all        110         66      0.127      0.227     0.0718     0.0256\n"
     ]
    },
    {
     "name": "stderr",
     "output_type": "stream",
     "text": [
      "\n"
     ]
    },
    {
     "name": "stdout",
     "output_type": "stream",
     "text": [
      "\n",
      "      Epoch    GPU_mem   box_loss   cls_loss   dfl_loss  Instances       Size\n"
     ]
    },
    {
     "name": "stderr",
     "output_type": "stream",
     "text": [
      "     10/100         0G       1.72      2.869      1.883          5        640: 100%|██████████| 21/21 [00:58<00:00,  2.78s/it]\n",
      "                 Class     Images  Instances      Box(P          R      mAP50  mAP50-95): 100%|██████████| 4/4 [00:05<00:00,  1.45s/it]"
     ]
    },
    {
     "name": "stdout",
     "output_type": "stream",
     "text": [
      "                   all        110         66      0.111      0.167     0.0734      0.033\n"
     ]
    },
    {
     "name": "stderr",
     "output_type": "stream",
     "text": [
      "\n"
     ]
    },
    {
     "name": "stdout",
     "output_type": "stream",
     "text": [
      "\n",
      "      Epoch    GPU_mem   box_loss   cls_loss   dfl_loss  Instances       Size\n"
     ]
    },
    {
     "name": "stderr",
     "output_type": "stream",
     "text": [
      "     11/100         0G      1.703      2.808      1.866          7        640: 100%|██████████| 21/21 [00:58<00:00,  2.77s/it]\n",
      "                 Class     Images  Instances      Box(P          R      mAP50  mAP50-95): 100%|██████████| 4/4 [00:05<00:00,  1.47s/it]"
     ]
    },
    {
     "name": "stdout",
     "output_type": "stream",
     "text": [
      "                   all        110         66     0.0778      0.106     0.0556     0.0255\n"
     ]
    },
    {
     "name": "stderr",
     "output_type": "stream",
     "text": [
      "\n"
     ]
    },
    {
     "name": "stdout",
     "output_type": "stream",
     "text": [
      "\n",
      "      Epoch    GPU_mem   box_loss   cls_loss   dfl_loss  Instances       Size\n"
     ]
    },
    {
     "name": "stderr",
     "output_type": "stream",
     "text": [
      "     12/100         0G      1.758      2.836       1.92         11        640: 100%|██████████| 21/21 [00:58<00:00,  2.79s/it]\n",
      "                 Class     Images  Instances      Box(P          R      mAP50  mAP50-95): 100%|██████████| 4/4 [00:05<00:00,  1.44s/it]"
     ]
    },
    {
     "name": "stdout",
     "output_type": "stream",
     "text": [
      "                   all        110         66      0.024      0.348     0.0179    0.00746\n"
     ]
    },
    {
     "name": "stderr",
     "output_type": "stream",
     "text": [
      "\n"
     ]
    },
    {
     "name": "stdout",
     "output_type": "stream",
     "text": [
      "\n",
      "      Epoch    GPU_mem   box_loss   cls_loss   dfl_loss  Instances       Size\n"
     ]
    },
    {
     "name": "stderr",
     "output_type": "stream",
     "text": [
      "     13/100         0G      1.636      2.766       1.87          6        640: 100%|██████████| 21/21 [00:59<00:00,  2.82s/it]\n",
      "                 Class     Images  Instances      Box(P          R      mAP50  mAP50-95): 100%|██████████| 4/4 [00:05<00:00,  1.45s/it]"
     ]
    },
    {
     "name": "stdout",
     "output_type": "stream",
     "text": [
      "                   all        110         66      0.461      0.379      0.417      0.169\n"
     ]
    },
    {
     "name": "stderr",
     "output_type": "stream",
     "text": [
      "\n"
     ]
    },
    {
     "name": "stdout",
     "output_type": "stream",
     "text": [
      "\n",
      "      Epoch    GPU_mem   box_loss   cls_loss   dfl_loss  Instances       Size\n"
     ]
    },
    {
     "name": "stderr",
     "output_type": "stream",
     "text": [
      "     14/100         0G      1.653      2.665      1.897          6        640: 100%|██████████| 21/21 [00:59<00:00,  2.82s/it]\n",
      "                 Class     Images  Instances      Box(P          R      mAP50  mAP50-95): 100%|██████████| 4/4 [00:05<00:00,  1.45s/it]"
     ]
    },
    {
     "name": "stdout",
     "output_type": "stream",
     "text": [
      "                   all        110         66     0.0592      0.242     0.0375     0.0116\n"
     ]
    },
    {
     "name": "stderr",
     "output_type": "stream",
     "text": [
      "\n"
     ]
    },
    {
     "name": "stdout",
     "output_type": "stream",
     "text": [
      "\n",
      "      Epoch    GPU_mem   box_loss   cls_loss   dfl_loss  Instances       Size\n"
     ]
    },
    {
     "name": "stderr",
     "output_type": "stream",
     "text": [
      "     15/100         0G      1.664      2.642      1.859         10        640: 100%|██████████| 21/21 [00:58<00:00,  2.78s/it]\n",
      "                 Class     Images  Instances      Box(P          R      mAP50  mAP50-95): 100%|██████████| 4/4 [00:05<00:00,  1.45s/it]"
     ]
    },
    {
     "name": "stdout",
     "output_type": "stream",
     "text": [
      "                   all        110         66      0.332      0.333      0.239      0.117\n"
     ]
    },
    {
     "name": "stderr",
     "output_type": "stream",
     "text": [
      "\n"
     ]
    },
    {
     "name": "stdout",
     "output_type": "stream",
     "text": [
      "\n",
      "      Epoch    GPU_mem   box_loss   cls_loss   dfl_loss  Instances       Size\n"
     ]
    },
    {
     "name": "stderr",
     "output_type": "stream",
     "text": [
      "     16/100         0G      1.666      2.694      1.916          4        640: 100%|██████████| 21/21 [00:58<00:00,  2.79s/it]\n",
      "                 Class     Images  Instances      Box(P          R      mAP50  mAP50-95): 100%|██████████| 4/4 [00:05<00:00,  1.44s/it]"
     ]
    },
    {
     "name": "stdout",
     "output_type": "stream",
     "text": [
      "                   all        110         66      0.268      0.394      0.194     0.0774\n"
     ]
    },
    {
     "name": "stderr",
     "output_type": "stream",
     "text": [
      "\n"
     ]
    },
    {
     "name": "stdout",
     "output_type": "stream",
     "text": [
      "\n",
      "      Epoch    GPU_mem   box_loss   cls_loss   dfl_loss  Instances       Size\n"
     ]
    },
    {
     "name": "stderr",
     "output_type": "stream",
     "text": [
      "     17/100         0G      1.589      2.612      1.856          7        640: 100%|██████████| 21/21 [00:58<00:00,  2.76s/it]\n",
      "                 Class     Images  Instances      Box(P          R      mAP50  mAP50-95): 100%|██████████| 4/4 [00:05<00:00,  1.45s/it]"
     ]
    },
    {
     "name": "stdout",
     "output_type": "stream",
     "text": [
      "                   all        110         66      0.156      0.318      0.101     0.0547\n"
     ]
    },
    {
     "name": "stderr",
     "output_type": "stream",
     "text": [
      "\n"
     ]
    },
    {
     "name": "stdout",
     "output_type": "stream",
     "text": [
      "\n",
      "      Epoch    GPU_mem   box_loss   cls_loss   dfl_loss  Instances       Size\n"
     ]
    },
    {
     "name": "stderr",
     "output_type": "stream",
     "text": [
      "     18/100         0G      1.588       2.55      1.837          9        640: 100%|██████████| 21/21 [00:58<00:00,  2.77s/it]\n",
      "                 Class     Images  Instances      Box(P          R      mAP50  mAP50-95): 100%|██████████| 4/4 [00:05<00:00,  1.43s/it]"
     ]
    },
    {
     "name": "stdout",
     "output_type": "stream",
     "text": [
      "                   all        110         66      0.642      0.544      0.591      0.322\n"
     ]
    },
    {
     "name": "stderr",
     "output_type": "stream",
     "text": [
      "\n"
     ]
    },
    {
     "name": "stdout",
     "output_type": "stream",
     "text": [
      "\n",
      "      Epoch    GPU_mem   box_loss   cls_loss   dfl_loss  Instances       Size\n"
     ]
    },
    {
     "name": "stderr",
     "output_type": "stream",
     "text": [
      "     19/100         0G      1.677      2.523       1.86          7        640: 100%|██████████| 21/21 [00:58<00:00,  2.78s/it]\n",
      "                 Class     Images  Instances      Box(P          R      mAP50  mAP50-95): 100%|██████████| 4/4 [00:05<00:00,  1.43s/it]"
     ]
    },
    {
     "name": "stdout",
     "output_type": "stream",
     "text": [
      "                   all        110         66      0.474       0.53      0.446      0.227\n"
     ]
    },
    {
     "name": "stderr",
     "output_type": "stream",
     "text": [
      "\n"
     ]
    },
    {
     "name": "stdout",
     "output_type": "stream",
     "text": [
      "\n",
      "      Epoch    GPU_mem   box_loss   cls_loss   dfl_loss  Instances       Size\n"
     ]
    },
    {
     "name": "stderr",
     "output_type": "stream",
     "text": [
      "     20/100         0G       1.59      2.489      1.815          7        640: 100%|██████████| 21/21 [00:57<00:00,  2.75s/it]\n",
      "                 Class     Images  Instances      Box(P          R      mAP50  mAP50-95): 100%|██████████| 4/4 [00:05<00:00,  1.42s/it]"
     ]
    },
    {
     "name": "stdout",
     "output_type": "stream",
     "text": [
      "                   all        110         66       0.61      0.455      0.534      0.343\n"
     ]
    },
    {
     "name": "stderr",
     "output_type": "stream",
     "text": [
      "\n"
     ]
    },
    {
     "name": "stdout",
     "output_type": "stream",
     "text": [
      "\n",
      "      Epoch    GPU_mem   box_loss   cls_loss   dfl_loss  Instances       Size\n"
     ]
    },
    {
     "name": "stderr",
     "output_type": "stream",
     "text": [
      "     21/100         0G       1.54      2.408      1.765          6        640: 100%|██████████| 21/21 [00:58<00:00,  2.77s/it]\n",
      "                 Class     Images  Instances      Box(P          R      mAP50  mAP50-95): 100%|██████████| 4/4 [00:05<00:00,  1.42s/it]"
     ]
    },
    {
     "name": "stdout",
     "output_type": "stream",
     "text": [
      "                   all        110         66      0.748        0.5      0.633      0.332\n"
     ]
    },
    {
     "name": "stderr",
     "output_type": "stream",
     "text": [
      "\n"
     ]
    },
    {
     "name": "stdout",
     "output_type": "stream",
     "text": [
      "\n",
      "      Epoch    GPU_mem   box_loss   cls_loss   dfl_loss  Instances       Size\n"
     ]
    },
    {
     "name": "stderr",
     "output_type": "stream",
     "text": [
      "     22/100         0G      1.567       2.54      1.821          3        640: 100%|██████████| 21/21 [00:57<00:00,  2.73s/it]\n",
      "                 Class     Images  Instances      Box(P          R      mAP50  mAP50-95): 100%|██████████| 4/4 [00:05<00:00,  1.42s/it]"
     ]
    },
    {
     "name": "stdout",
     "output_type": "stream",
     "text": [
      "                   all        110         66      0.695      0.682      0.731      0.491\n"
     ]
    },
    {
     "name": "stderr",
     "output_type": "stream",
     "text": [
      "\n"
     ]
    },
    {
     "name": "stdout",
     "output_type": "stream",
     "text": [
      "\n",
      "      Epoch    GPU_mem   box_loss   cls_loss   dfl_loss  Instances       Size\n"
     ]
    },
    {
     "name": "stderr",
     "output_type": "stream",
     "text": [
      "     23/100         0G      1.508      2.468      1.722          7        640: 100%|██████████| 21/21 [00:58<00:00,  2.76s/it]\n",
      "                 Class     Images  Instances      Box(P          R      mAP50  mAP50-95): 100%|██████████| 4/4 [00:05<00:00,  1.43s/it]"
     ]
    },
    {
     "name": "stdout",
     "output_type": "stream",
     "text": [
      "                   all        110         66      0.253      0.435      0.221      0.117\n"
     ]
    },
    {
     "name": "stderr",
     "output_type": "stream",
     "text": [
      "\n"
     ]
    },
    {
     "name": "stdout",
     "output_type": "stream",
     "text": [
      "\n",
      "      Epoch    GPU_mem   box_loss   cls_loss   dfl_loss  Instances       Size\n"
     ]
    },
    {
     "name": "stderr",
     "output_type": "stream",
     "text": [
      "     24/100         0G       1.49      2.475      1.752          7        640: 100%|██████████| 21/21 [00:58<00:00,  2.78s/it]\n",
      "                 Class     Images  Instances      Box(P          R      mAP50  mAP50-95): 100%|██████████| 4/4 [00:05<00:00,  1.45s/it]"
     ]
    },
    {
     "name": "stdout",
     "output_type": "stream",
     "text": [
      "                   all        110         66      0.358      0.485      0.292      0.102\n"
     ]
    },
    {
     "name": "stderr",
     "output_type": "stream",
     "text": [
      "\n"
     ]
    },
    {
     "name": "stdout",
     "output_type": "stream",
     "text": [
      "\n",
      "      Epoch    GPU_mem   box_loss   cls_loss   dfl_loss  Instances       Size\n"
     ]
    },
    {
     "name": "stderr",
     "output_type": "stream",
     "text": [
      "     25/100         0G      1.522      2.334      1.781         10        640: 100%|██████████| 21/21 [00:58<00:00,  2.78s/it]\n",
      "                 Class     Images  Instances      Box(P          R      mAP50  mAP50-95): 100%|██████████| 4/4 [00:05<00:00,  1.47s/it]"
     ]
    },
    {
     "name": "stdout",
     "output_type": "stream",
     "text": [
      "                   all        110         66      0.604       0.47       0.52      0.382\n"
     ]
    },
    {
     "name": "stderr",
     "output_type": "stream",
     "text": [
      "\n"
     ]
    },
    {
     "name": "stdout",
     "output_type": "stream",
     "text": [
      "\n",
      "      Epoch    GPU_mem   box_loss   cls_loss   dfl_loss  Instances       Size\n"
     ]
    },
    {
     "name": "stderr",
     "output_type": "stream",
     "text": [
      "     26/100         0G       1.53      2.346      1.793          6        640: 100%|██████████| 21/21 [00:59<00:00,  2.83s/it]\n",
      "                 Class     Images  Instances      Box(P          R      mAP50  mAP50-95): 100%|██████████| 4/4 [00:05<00:00,  1.47s/it]"
     ]
    },
    {
     "name": "stdout",
     "output_type": "stream",
     "text": [
      "                   all        110         66      0.805      0.682      0.784      0.499\n"
     ]
    },
    {
     "name": "stderr",
     "output_type": "stream",
     "text": [
      "\n"
     ]
    },
    {
     "name": "stdout",
     "output_type": "stream",
     "text": [
      "\n",
      "      Epoch    GPU_mem   box_loss   cls_loss   dfl_loss  Instances       Size\n"
     ]
    },
    {
     "name": "stderr",
     "output_type": "stream",
     "text": [
      "     27/100         0G        1.5      2.397      1.783          9        640: 100%|██████████| 21/21 [00:57<00:00,  2.76s/it]\n",
      "                 Class     Images  Instances      Box(P          R      mAP50  mAP50-95): 100%|██████████| 4/4 [00:05<00:00,  1.42s/it]"
     ]
    },
    {
     "name": "stdout",
     "output_type": "stream",
     "text": [
      "                   all        110         66      0.644      0.712      0.749      0.494\n"
     ]
    },
    {
     "name": "stderr",
     "output_type": "stream",
     "text": [
      "\n"
     ]
    },
    {
     "name": "stdout",
     "output_type": "stream",
     "text": [
      "\n",
      "      Epoch    GPU_mem   box_loss   cls_loss   dfl_loss  Instances       Size\n"
     ]
    },
    {
     "name": "stderr",
     "output_type": "stream",
     "text": [
      "     28/100         0G      1.432      2.315      1.724          7        640: 100%|██████████| 21/21 [00:58<00:00,  2.79s/it]\n",
      "                 Class     Images  Instances      Box(P          R      mAP50  mAP50-95): 100%|██████████| 4/4 [00:05<00:00,  1.40s/it]"
     ]
    },
    {
     "name": "stdout",
     "output_type": "stream",
     "text": [
      "                   all        110         66      0.807      0.634      0.733      0.481\n"
     ]
    },
    {
     "name": "stderr",
     "output_type": "stream",
     "text": [
      "\n"
     ]
    },
    {
     "name": "stdout",
     "output_type": "stream",
     "text": [
      "\n",
      "      Epoch    GPU_mem   box_loss   cls_loss   dfl_loss  Instances       Size\n"
     ]
    },
    {
     "name": "stderr",
     "output_type": "stream",
     "text": [
      "     29/100         0G      1.472      2.272      1.725          5        640: 100%|██████████| 21/21 [00:57<00:00,  2.72s/it]\n",
      "                 Class     Images  Instances      Box(P          R      mAP50  mAP50-95): 100%|██████████| 4/4 [00:05<00:00,  1.38s/it]"
     ]
    },
    {
     "name": "stdout",
     "output_type": "stream",
     "text": [
      "                   all        110         66      0.713      0.636      0.705       0.48\n"
     ]
    },
    {
     "name": "stderr",
     "output_type": "stream",
     "text": [
      "\n"
     ]
    },
    {
     "name": "stdout",
     "output_type": "stream",
     "text": [
      "\n",
      "      Epoch    GPU_mem   box_loss   cls_loss   dfl_loss  Instances       Size\n"
     ]
    },
    {
     "name": "stderr",
     "output_type": "stream",
     "text": [
      "     30/100         0G      1.392      2.183      1.693          8        640: 100%|██████████| 21/21 [00:56<00:00,  2.69s/it]\n",
      "                 Class     Images  Instances      Box(P          R      mAP50  mAP50-95): 100%|██████████| 4/4 [00:05<00:00,  1.39s/it]"
     ]
    },
    {
     "name": "stdout",
     "output_type": "stream",
     "text": [
      "                   all        110         66      0.662      0.561      0.601      0.379\n"
     ]
    },
    {
     "name": "stderr",
     "output_type": "stream",
     "text": [
      "\n"
     ]
    },
    {
     "name": "stdout",
     "output_type": "stream",
     "text": [
      "\n",
      "      Epoch    GPU_mem   box_loss   cls_loss   dfl_loss  Instances       Size\n"
     ]
    },
    {
     "name": "stderr",
     "output_type": "stream",
     "text": [
      "     31/100         0G      1.409      2.161      1.739          4        640: 100%|██████████| 21/21 [00:58<00:00,  2.78s/it]\n",
      "                 Class     Images  Instances      Box(P          R      mAP50  mAP50-95): 100%|██████████| 4/4 [00:05<00:00,  1.40s/it]"
     ]
    },
    {
     "name": "stdout",
     "output_type": "stream",
     "text": [
      "                   all        110         66      0.485        0.6      0.485      0.295\n"
     ]
    },
    {
     "name": "stderr",
     "output_type": "stream",
     "text": [
      "\n"
     ]
    },
    {
     "name": "stdout",
     "output_type": "stream",
     "text": [
      "\n",
      "      Epoch    GPU_mem   box_loss   cls_loss   dfl_loss  Instances       Size\n"
     ]
    },
    {
     "name": "stderr",
     "output_type": "stream",
     "text": [
      "     32/100         0G      1.479      2.276      1.807          8        640: 100%|██████████| 21/21 [00:56<00:00,  2.71s/it]\n",
      "                 Class     Images  Instances      Box(P          R      mAP50  mAP50-95): 100%|██████████| 4/4 [00:05<00:00,  1.38s/it]"
     ]
    },
    {
     "name": "stdout",
     "output_type": "stream",
     "text": [
      "                   all        110         66      0.766      0.745      0.813      0.501\n"
     ]
    },
    {
     "name": "stderr",
     "output_type": "stream",
     "text": [
      "\n"
     ]
    },
    {
     "name": "stdout",
     "output_type": "stream",
     "text": [
      "\n",
      "      Epoch    GPU_mem   box_loss   cls_loss   dfl_loss  Instances       Size\n"
     ]
    },
    {
     "name": "stderr",
     "output_type": "stream",
     "text": [
      "     33/100         0G      1.412      2.264      1.736          3        640: 100%|██████████| 21/21 [00:55<00:00,  2.64s/it]\n",
      "                 Class     Images  Instances      Box(P          R      mAP50  mAP50-95): 100%|██████████| 4/4 [00:05<00:00,  1.38s/it]"
     ]
    },
    {
     "name": "stdout",
     "output_type": "stream",
     "text": [
      "                   all        110         66      0.797      0.742      0.816      0.504\n"
     ]
    },
    {
     "name": "stderr",
     "output_type": "stream",
     "text": [
      "\n"
     ]
    },
    {
     "name": "stdout",
     "output_type": "stream",
     "text": [
      "\n",
      "      Epoch    GPU_mem   box_loss   cls_loss   dfl_loss  Instances       Size\n"
     ]
    },
    {
     "name": "stderr",
     "output_type": "stream",
     "text": [
      "     34/100         0G      1.408      2.211      1.728          6        640: 100%|██████████| 21/21 [00:55<00:00,  2.67s/it]\n",
      "                 Class     Images  Instances      Box(P          R      mAP50  mAP50-95): 100%|██████████| 4/4 [00:05<00:00,  1.38s/it]"
     ]
    },
    {
     "name": "stdout",
     "output_type": "stream",
     "text": [
      "                   all        110         66      0.767      0.647      0.777      0.519\n"
     ]
    },
    {
     "name": "stderr",
     "output_type": "stream",
     "text": [
      "\n"
     ]
    },
    {
     "name": "stdout",
     "output_type": "stream",
     "text": [
      "\n",
      "      Epoch    GPU_mem   box_loss   cls_loss   dfl_loss  Instances       Size\n"
     ]
    },
    {
     "name": "stderr",
     "output_type": "stream",
     "text": [
      "     35/100         0G      1.396      2.166      1.675          7        640: 100%|██████████| 21/21 [00:56<00:00,  2.67s/it]\n",
      "                 Class     Images  Instances      Box(P          R      mAP50  mAP50-95): 100%|██████████| 4/4 [00:05<00:00,  1.39s/it]"
     ]
    },
    {
     "name": "stdout",
     "output_type": "stream",
     "text": [
      "                   all        110         66      0.885      0.697      0.802      0.558\n"
     ]
    },
    {
     "name": "stderr",
     "output_type": "stream",
     "text": [
      "\n"
     ]
    },
    {
     "name": "stdout",
     "output_type": "stream",
     "text": [
      "\n",
      "      Epoch    GPU_mem   box_loss   cls_loss   dfl_loss  Instances       Size\n"
     ]
    },
    {
     "name": "stderr",
     "output_type": "stream",
     "text": [
      "     36/100         0G       1.36      2.201      1.675          2        640: 100%|██████████| 21/21 [00:56<00:00,  2.67s/it]\n",
      "                 Class     Images  Instances      Box(P          R      mAP50  mAP50-95): 100%|██████████| 4/4 [00:05<00:00,  1.38s/it]"
     ]
    },
    {
     "name": "stdout",
     "output_type": "stream",
     "text": [
      "                   all        110         66       0.89      0.738      0.827      0.594\n"
     ]
    },
    {
     "name": "stderr",
     "output_type": "stream",
     "text": [
      "\n"
     ]
    },
    {
     "name": "stdout",
     "output_type": "stream",
     "text": [
      "\n",
      "      Epoch    GPU_mem   box_loss   cls_loss   dfl_loss  Instances       Size\n"
     ]
    },
    {
     "name": "stderr",
     "output_type": "stream",
     "text": [
      "     37/100         0G      1.353      2.188      1.682          5        640: 100%|██████████| 21/21 [00:55<00:00,  2.65s/it]\n",
      "                 Class     Images  Instances      Box(P          R      mAP50  mAP50-95): 100%|██████████| 4/4 [00:05<00:00,  1.38s/it]"
     ]
    },
    {
     "name": "stdout",
     "output_type": "stream",
     "text": [
      "                   all        110         66      0.799      0.697      0.797      0.576\n"
     ]
    },
    {
     "name": "stderr",
     "output_type": "stream",
     "text": [
      "\n"
     ]
    },
    {
     "name": "stdout",
     "output_type": "stream",
     "text": [
      "\n",
      "      Epoch    GPU_mem   box_loss   cls_loss   dfl_loss  Instances       Size\n"
     ]
    },
    {
     "name": "stderr",
     "output_type": "stream",
     "text": [
      "     38/100         0G      1.363      2.141      1.678          8        640: 100%|██████████| 21/21 [00:55<00:00,  2.67s/it]\n",
      "                 Class     Images  Instances      Box(P          R      mAP50  mAP50-95): 100%|██████████| 4/4 [00:05<00:00,  1.38s/it]"
     ]
    },
    {
     "name": "stdout",
     "output_type": "stream",
     "text": [
      "                   all        110         66      0.818      0.758      0.855      0.654\n"
     ]
    },
    {
     "name": "stderr",
     "output_type": "stream",
     "text": [
      "\n"
     ]
    },
    {
     "name": "stdout",
     "output_type": "stream",
     "text": [
      "\n",
      "      Epoch    GPU_mem   box_loss   cls_loss   dfl_loss  Instances       Size\n"
     ]
    },
    {
     "name": "stderr",
     "output_type": "stream",
     "text": [
      "     39/100         0G      1.371      2.118      1.699          8        640: 100%|██████████| 21/21 [00:55<00:00,  2.65s/it]\n",
      "                 Class     Images  Instances      Box(P          R      mAP50  mAP50-95): 100%|██████████| 4/4 [00:05<00:00,  1.37s/it]"
     ]
    },
    {
     "name": "stdout",
     "output_type": "stream",
     "text": [
      "                   all        110         66      0.648      0.636      0.732      0.484\n"
     ]
    },
    {
     "name": "stderr",
     "output_type": "stream",
     "text": [
      "\n"
     ]
    },
    {
     "name": "stdout",
     "output_type": "stream",
     "text": [
      "\n",
      "      Epoch    GPU_mem   box_loss   cls_loss   dfl_loss  Instances       Size\n"
     ]
    },
    {
     "name": "stderr",
     "output_type": "stream",
     "text": [
      "     40/100         0G      1.421      2.259      1.764          7        640: 100%|██████████| 21/21 [00:55<00:00,  2.66s/it]\n",
      "                 Class     Images  Instances      Box(P          R      mAP50  mAP50-95): 100%|██████████| 4/4 [00:05<00:00,  1.37s/it]"
     ]
    },
    {
     "name": "stdout",
     "output_type": "stream",
     "text": [
      "                   all        110         66      0.696      0.652        0.7      0.498\n"
     ]
    },
    {
     "name": "stderr",
     "output_type": "stream",
     "text": [
      "\n"
     ]
    },
    {
     "name": "stdout",
     "output_type": "stream",
     "text": [
      "\n",
      "      Epoch    GPU_mem   box_loss   cls_loss   dfl_loss  Instances       Size\n"
     ]
    },
    {
     "name": "stderr",
     "output_type": "stream",
     "text": [
      "     41/100         0G      1.297      2.143      1.683          5        640: 100%|██████████| 21/21 [00:55<00:00,  2.65s/it]\n",
      "                 Class     Images  Instances      Box(P          R      mAP50  mAP50-95): 100%|██████████| 4/4 [00:05<00:00,  1.37s/it]"
     ]
    },
    {
     "name": "stdout",
     "output_type": "stream",
     "text": [
      "                   all        110         66      0.741      0.693      0.747       0.49\n"
     ]
    },
    {
     "name": "stderr",
     "output_type": "stream",
     "text": [
      "\n"
     ]
    },
    {
     "name": "stdout",
     "output_type": "stream",
     "text": [
      "\n",
      "      Epoch    GPU_mem   box_loss   cls_loss   dfl_loss  Instances       Size\n"
     ]
    },
    {
     "name": "stderr",
     "output_type": "stream",
     "text": [
      "     42/100         0G      1.333      2.138      1.717          8        640: 100%|██████████| 21/21 [00:55<00:00,  2.64s/it]\n",
      "                 Class     Images  Instances      Box(P          R      mAP50  mAP50-95): 100%|██████████| 4/4 [00:05<00:00,  1.37s/it]"
     ]
    },
    {
     "name": "stdout",
     "output_type": "stream",
     "text": [
      "                   all        110         66      0.879      0.774      0.861      0.632\n"
     ]
    },
    {
     "name": "stderr",
     "output_type": "stream",
     "text": [
      "\n"
     ]
    },
    {
     "name": "stdout",
     "output_type": "stream",
     "text": [
      "\n",
      "      Epoch    GPU_mem   box_loss   cls_loss   dfl_loss  Instances       Size\n"
     ]
    },
    {
     "name": "stderr",
     "output_type": "stream",
     "text": [
      "     43/100         0G      1.374      2.111      1.695         11        640: 100%|██████████| 21/21 [00:55<00:00,  2.66s/it]\n",
      "                 Class     Images  Instances      Box(P          R      mAP50  mAP50-95): 100%|██████████| 4/4 [00:05<00:00,  1.37s/it]"
     ]
    },
    {
     "name": "stdout",
     "output_type": "stream",
     "text": [
      "                   all        110         66      0.824      0.803      0.813       0.64\n"
     ]
    },
    {
     "name": "stderr",
     "output_type": "stream",
     "text": [
      "\n"
     ]
    },
    {
     "name": "stdout",
     "output_type": "stream",
     "text": [
      "\n",
      "      Epoch    GPU_mem   box_loss   cls_loss   dfl_loss  Instances       Size\n"
     ]
    },
    {
     "name": "stderr",
     "output_type": "stream",
     "text": [
      "     44/100         0G      1.349      2.041      1.667         10        640: 100%|██████████| 21/21 [00:55<00:00,  2.65s/it]\n",
      "                 Class     Images  Instances      Box(P          R      mAP50  mAP50-95): 100%|██████████| 4/4 [00:05<00:00,  1.37s/it]"
     ]
    },
    {
     "name": "stdout",
     "output_type": "stream",
     "text": [
      "                   all        110         66      0.774      0.788      0.778      0.633\n"
     ]
    },
    {
     "name": "stderr",
     "output_type": "stream",
     "text": [
      "\n"
     ]
    },
    {
     "name": "stdout",
     "output_type": "stream",
     "text": [
      "\n",
      "      Epoch    GPU_mem   box_loss   cls_loss   dfl_loss  Instances       Size\n"
     ]
    },
    {
     "name": "stderr",
     "output_type": "stream",
     "text": [
      "     45/100         0G      1.302      2.021      1.631          5        640: 100%|██████████| 21/21 [00:55<00:00,  2.65s/it]\n",
      "                 Class     Images  Instances      Box(P          R      mAP50  mAP50-95): 100%|██████████| 4/4 [00:05<00:00,  1.38s/it]"
     ]
    },
    {
     "name": "stdout",
     "output_type": "stream",
     "text": [
      "                   all        110         66       0.79      0.697      0.806      0.623\n"
     ]
    },
    {
     "name": "stderr",
     "output_type": "stream",
     "text": [
      "\n"
     ]
    },
    {
     "name": "stdout",
     "output_type": "stream",
     "text": [
      "\n",
      "      Epoch    GPU_mem   box_loss   cls_loss   dfl_loss  Instances       Size\n"
     ]
    },
    {
     "name": "stderr",
     "output_type": "stream",
     "text": [
      "     46/100         0G      1.264      1.991       1.59          9        640: 100%|██████████| 21/21 [00:55<00:00,  2.63s/it]\n",
      "                 Class     Images  Instances      Box(P          R      mAP50  mAP50-95): 100%|██████████| 4/4 [00:05<00:00,  1.38s/it]"
     ]
    },
    {
     "name": "stdout",
     "output_type": "stream",
     "text": [
      "                   all        110         66      0.767      0.682      0.805      0.583\n"
     ]
    },
    {
     "name": "stderr",
     "output_type": "stream",
     "text": [
      "\n"
     ]
    },
    {
     "name": "stdout",
     "output_type": "stream",
     "text": [
      "\n",
      "      Epoch    GPU_mem   box_loss   cls_loss   dfl_loss  Instances       Size\n"
     ]
    },
    {
     "name": "stderr",
     "output_type": "stream",
     "text": [
      "     47/100         0G      1.323      2.023      1.654          6        640: 100%|██████████| 21/21 [00:55<00:00,  2.66s/it]\n",
      "                 Class     Images  Instances      Box(P          R      mAP50  mAP50-95): 100%|██████████| 4/4 [00:05<00:00,  1.37s/it]"
     ]
    },
    {
     "name": "stdout",
     "output_type": "stream",
     "text": [
      "                   all        110         66      0.801      0.731      0.815      0.627\n"
     ]
    },
    {
     "name": "stderr",
     "output_type": "stream",
     "text": [
      "\n"
     ]
    },
    {
     "name": "stdout",
     "output_type": "stream",
     "text": [
      "\n",
      "      Epoch    GPU_mem   box_loss   cls_loss   dfl_loss  Instances       Size\n"
     ]
    },
    {
     "name": "stderr",
     "output_type": "stream",
     "text": [
      "     48/100         0G      1.319      1.943      1.625          9        640: 100%|██████████| 21/21 [00:55<00:00,  2.65s/it]\n",
      "                 Class     Images  Instances      Box(P          R      mAP50  mAP50-95): 100%|██████████| 4/4 [00:05<00:00,  1.37s/it]"
     ]
    },
    {
     "name": "stdout",
     "output_type": "stream",
     "text": [
      "                   all        110         66      0.871      0.815      0.889      0.628\n"
     ]
    },
    {
     "name": "stderr",
     "output_type": "stream",
     "text": [
      "\n"
     ]
    },
    {
     "name": "stdout",
     "output_type": "stream",
     "text": [
      "\n",
      "      Epoch    GPU_mem   box_loss   cls_loss   dfl_loss  Instances       Size\n"
     ]
    },
    {
     "name": "stderr",
     "output_type": "stream",
     "text": [
      "     49/100         0G      1.256      1.961       1.62         10        640: 100%|██████████| 21/21 [00:55<00:00,  2.65s/it]\n",
      "                 Class     Images  Instances      Box(P          R      mAP50  mAP50-95): 100%|██████████| 4/4 [00:05<00:00,  1.37s/it]"
     ]
    },
    {
     "name": "stdout",
     "output_type": "stream",
     "text": [
      "                   all        110         66      0.797      0.758      0.816      0.591\n"
     ]
    },
    {
     "name": "stderr",
     "output_type": "stream",
     "text": [
      "\n"
     ]
    },
    {
     "name": "stdout",
     "output_type": "stream",
     "text": [
      "\n",
      "      Epoch    GPU_mem   box_loss   cls_loss   dfl_loss  Instances       Size\n"
     ]
    },
    {
     "name": "stderr",
     "output_type": "stream",
     "text": [
      "     50/100         0G      1.304      2.006      1.651          8        640: 100%|██████████| 21/21 [00:55<00:00,  2.65s/it]\n",
      "                 Class     Images  Instances      Box(P          R      mAP50  mAP50-95): 100%|██████████| 4/4 [00:05<00:00,  1.38s/it]"
     ]
    },
    {
     "name": "stdout",
     "output_type": "stream",
     "text": [
      "                   all        110         66      0.896      0.786      0.833      0.597\n"
     ]
    },
    {
     "name": "stderr",
     "output_type": "stream",
     "text": [
      "\n"
     ]
    },
    {
     "name": "stdout",
     "output_type": "stream",
     "text": [
      "\n",
      "      Epoch    GPU_mem   box_loss   cls_loss   dfl_loss  Instances       Size\n"
     ]
    },
    {
     "name": "stderr",
     "output_type": "stream",
     "text": [
      "     51/100         0G      1.284      1.998      1.643          8        640: 100%|██████████| 21/21 [00:55<00:00,  2.65s/it]\n",
      "                 Class     Images  Instances      Box(P          R      mAP50  mAP50-95): 100%|██████████| 4/4 [00:05<00:00,  1.37s/it]"
     ]
    },
    {
     "name": "stdout",
     "output_type": "stream",
     "text": [
      "                   all        110         66      0.845      0.833       0.85       0.65\n"
     ]
    },
    {
     "name": "stderr",
     "output_type": "stream",
     "text": [
      "\n"
     ]
    },
    {
     "name": "stdout",
     "output_type": "stream",
     "text": [
      "\n",
      "      Epoch    GPU_mem   box_loss   cls_loss   dfl_loss  Instances       Size\n"
     ]
    },
    {
     "name": "stderr",
     "output_type": "stream",
     "text": [
      "     52/100         0G      1.236      2.021      1.631          5        640: 100%|██████████| 21/21 [00:55<00:00,  2.66s/it]\n",
      "                 Class     Images  Instances      Box(P          R      mAP50  mAP50-95): 100%|██████████| 4/4 [00:05<00:00,  1.37s/it]"
     ]
    },
    {
     "name": "stdout",
     "output_type": "stream",
     "text": [
      "                   all        110         66      0.875      0.846      0.837      0.616\n"
     ]
    },
    {
     "name": "stderr",
     "output_type": "stream",
     "text": [
      "\n"
     ]
    },
    {
     "name": "stdout",
     "output_type": "stream",
     "text": [
      "\n",
      "      Epoch    GPU_mem   box_loss   cls_loss   dfl_loss  Instances       Size\n"
     ]
    },
    {
     "name": "stderr",
     "output_type": "stream",
     "text": [
      "     53/100         0G      1.245      1.961      1.601          4        640: 100%|██████████| 21/21 [00:55<00:00,  2.64s/it]\n",
      "                 Class     Images  Instances      Box(P          R      mAP50  mAP50-95): 100%|██████████| 4/4 [00:05<00:00,  1.36s/it]"
     ]
    },
    {
     "name": "stdout",
     "output_type": "stream",
     "text": [
      "                   all        110         66      0.869      0.894      0.909       0.76\n"
     ]
    },
    {
     "name": "stderr",
     "output_type": "stream",
     "text": [
      "\n"
     ]
    },
    {
     "name": "stdout",
     "output_type": "stream",
     "text": [
      "\n",
      "      Epoch    GPU_mem   box_loss   cls_loss   dfl_loss  Instances       Size\n"
     ]
    },
    {
     "name": "stderr",
     "output_type": "stream",
     "text": [
      "     54/100         0G      1.262      1.921      1.593          6        640: 100%|██████████| 21/21 [00:55<00:00,  2.65s/it]\n",
      "                 Class     Images  Instances      Box(P          R      mAP50  mAP50-95): 100%|██████████| 4/4 [00:05<00:00,  1.38s/it]"
     ]
    },
    {
     "name": "stdout",
     "output_type": "stream",
     "text": [
      "                   all        110         66      0.905      0.864      0.911      0.766\n"
     ]
    },
    {
     "name": "stderr",
     "output_type": "stream",
     "text": [
      "\n"
     ]
    },
    {
     "name": "stdout",
     "output_type": "stream",
     "text": [
      "\n",
      "      Epoch    GPU_mem   box_loss   cls_loss   dfl_loss  Instances       Size\n"
     ]
    },
    {
     "name": "stderr",
     "output_type": "stream",
     "text": [
      "     55/100         0G      1.196      1.912      1.559          7        640: 100%|██████████| 21/21 [00:56<00:00,  2.67s/it]\n",
      "                 Class     Images  Instances      Box(P          R      mAP50  mAP50-95): 100%|██████████| 4/4 [00:05<00:00,  1.40s/it]"
     ]
    },
    {
     "name": "stdout",
     "output_type": "stream",
     "text": [
      "                   all        110         66       0.93      0.811       0.88        0.7\n"
     ]
    },
    {
     "name": "stderr",
     "output_type": "stream",
     "text": [
      "\n"
     ]
    },
    {
     "name": "stdout",
     "output_type": "stream",
     "text": [
      "\n",
      "      Epoch    GPU_mem   box_loss   cls_loss   dfl_loss  Instances       Size\n"
     ]
    },
    {
     "name": "stderr",
     "output_type": "stream",
     "text": [
      "     56/100         0G      1.228      1.907      1.594          8        640: 100%|██████████| 21/21 [00:55<00:00,  2.66s/it]\n",
      "                 Class     Images  Instances      Box(P          R      mAP50  mAP50-95): 100%|██████████| 4/4 [00:05<00:00,  1.36s/it]"
     ]
    },
    {
     "name": "stdout",
     "output_type": "stream",
     "text": [
      "                   all        110         66      0.918      0.852      0.895       0.67\n"
     ]
    },
    {
     "name": "stderr",
     "output_type": "stream",
     "text": [
      "\n"
     ]
    },
    {
     "name": "stdout",
     "output_type": "stream",
     "text": [
      "\n",
      "      Epoch    GPU_mem   box_loss   cls_loss   dfl_loss  Instances       Size\n"
     ]
    },
    {
     "name": "stderr",
     "output_type": "stream",
     "text": [
      "     57/100         0G      1.262      1.891      1.589          9        640: 100%|██████████| 21/21 [00:55<00:00,  2.66s/it]\n",
      "                 Class     Images  Instances      Box(P          R      mAP50  mAP50-95): 100%|██████████| 4/4 [00:05<00:00,  1.40s/it]"
     ]
    },
    {
     "name": "stdout",
     "output_type": "stream",
     "text": [
      "                   all        110         66      0.864      0.866      0.888      0.684\n"
     ]
    },
    {
     "name": "stderr",
     "output_type": "stream",
     "text": [
      "\n"
     ]
    },
    {
     "name": "stdout",
     "output_type": "stream",
     "text": [
      "\n",
      "      Epoch    GPU_mem   box_loss   cls_loss   dfl_loss  Instances       Size\n"
     ]
    },
    {
     "name": "stderr",
     "output_type": "stream",
     "text": [
      "     58/100         0G      1.212      1.876      1.567          6        640: 100%|██████████| 21/21 [00:55<00:00,  2.65s/it]\n",
      "                 Class     Images  Instances      Box(P          R      mAP50  mAP50-95): 100%|██████████| 4/4 [00:05<00:00,  1.45s/it]"
     ]
    },
    {
     "name": "stdout",
     "output_type": "stream",
     "text": [
      "                   all        110         66      0.839      0.758      0.848      0.644\n"
     ]
    },
    {
     "name": "stderr",
     "output_type": "stream",
     "text": [
      "\n"
     ]
    },
    {
     "name": "stdout",
     "output_type": "stream",
     "text": [
      "\n",
      "      Epoch    GPU_mem   box_loss   cls_loss   dfl_loss  Instances       Size\n"
     ]
    },
    {
     "name": "stderr",
     "output_type": "stream",
     "text": [
      "     59/100         0G      1.221       1.86      1.596         10        640: 100%|██████████| 21/21 [01:01<00:00,  2.94s/it]\n",
      "                 Class     Images  Instances      Box(P          R      mAP50  mAP50-95): 100%|██████████| 4/4 [00:07<00:00,  1.92s/it]"
     ]
    },
    {
     "name": "stdout",
     "output_type": "stream",
     "text": [
      "                   all        110         66      0.769      0.848      0.811      0.578\n"
     ]
    },
    {
     "name": "stderr",
     "output_type": "stream",
     "text": [
      "\n"
     ]
    },
    {
     "name": "stdout",
     "output_type": "stream",
     "text": [
      "\n",
      "      Epoch    GPU_mem   box_loss   cls_loss   dfl_loss  Instances       Size\n"
     ]
    },
    {
     "name": "stderr",
     "output_type": "stream",
     "text": [
      "     60/100         0G      1.253      1.888      1.646         10        640: 100%|██████████| 21/21 [01:20<00:00,  3.86s/it]\n",
      "                 Class     Images  Instances      Box(P          R      mAP50  mAP50-95): 100%|██████████| 4/4 [00:08<00:00,  2.06s/it]"
     ]
    },
    {
     "name": "stdout",
     "output_type": "stream",
     "text": [
      "                   all        110         66      0.858      0.818      0.879      0.721\n"
     ]
    },
    {
     "name": "stderr",
     "output_type": "stream",
     "text": [
      "\n"
     ]
    },
    {
     "name": "stdout",
     "output_type": "stream",
     "text": [
      "\n",
      "      Epoch    GPU_mem   box_loss   cls_loss   dfl_loss  Instances       Size\n"
     ]
    },
    {
     "name": "stderr",
     "output_type": "stream",
     "text": [
      "     61/100         0G      1.233       1.98      1.605          8        640: 100%|██████████| 21/21 [01:18<00:00,  3.76s/it]\n",
      "                 Class     Images  Instances      Box(P          R      mAP50  mAP50-95): 100%|██████████| 4/4 [00:07<00:00,  1.99s/it]"
     ]
    },
    {
     "name": "stdout",
     "output_type": "stream",
     "text": [
      "                   all        110         66      0.823      0.845      0.854       0.66\n"
     ]
    },
    {
     "name": "stderr",
     "output_type": "stream",
     "text": [
      "\n"
     ]
    },
    {
     "name": "stdout",
     "output_type": "stream",
     "text": [
      "\n",
      "      Epoch    GPU_mem   box_loss   cls_loss   dfl_loss  Instances       Size\n"
     ]
    },
    {
     "name": "stderr",
     "output_type": "stream",
     "text": [
      "     62/100         0G        1.2      1.885      1.581         10        640: 100%|██████████| 21/21 [01:19<00:00,  3.79s/it]\n",
      "                 Class     Images  Instances      Box(P          R      mAP50  mAP50-95): 100%|██████████| 4/4 [00:07<00:00,  1.95s/it]"
     ]
    },
    {
     "name": "stdout",
     "output_type": "stream",
     "text": [
      "                   all        110         66      0.824      0.864      0.869      0.692\n"
     ]
    },
    {
     "name": "stderr",
     "output_type": "stream",
     "text": [
      "\n"
     ]
    },
    {
     "name": "stdout",
     "output_type": "stream",
     "text": [
      "\n",
      "      Epoch    GPU_mem   box_loss   cls_loss   dfl_loss  Instances       Size\n"
     ]
    },
    {
     "name": "stderr",
     "output_type": "stream",
     "text": [
      "     63/100         0G      1.276      1.957      1.607          8        640: 100%|██████████| 21/21 [01:15<00:00,  3.60s/it]\n",
      "                 Class     Images  Instances      Box(P          R      mAP50  mAP50-95): 100%|██████████| 4/4 [00:07<00:00,  1.91s/it]"
     ]
    },
    {
     "name": "stdout",
     "output_type": "stream",
     "text": [
      "                   all        110         66      0.851      0.879      0.911      0.696\n"
     ]
    },
    {
     "name": "stderr",
     "output_type": "stream",
     "text": [
      "\n"
     ]
    },
    {
     "name": "stdout",
     "output_type": "stream",
     "text": [
      "\n",
      "      Epoch    GPU_mem   box_loss   cls_loss   dfl_loss  Instances       Size\n"
     ]
    },
    {
     "name": "stderr",
     "output_type": "stream",
     "text": [
      "     64/100         0G      1.186      1.837      1.552          3        640: 100%|██████████| 21/21 [01:11<00:00,  3.42s/it]\n",
      "                 Class     Images  Instances      Box(P          R      mAP50  mAP50-95): 100%|██████████| 4/4 [00:07<00:00,  1.85s/it]"
     ]
    },
    {
     "name": "stdout",
     "output_type": "stream",
     "text": [
      "                   all        110         66      0.869      0.908      0.906      0.778\n"
     ]
    },
    {
     "name": "stderr",
     "output_type": "stream",
     "text": [
      "\n"
     ]
    },
    {
     "name": "stdout",
     "output_type": "stream",
     "text": [
      "\n",
      "      Epoch    GPU_mem   box_loss   cls_loss   dfl_loss  Instances       Size\n"
     ]
    },
    {
     "name": "stderr",
     "output_type": "stream",
     "text": [
      "     65/100         0G      1.257      1.926      1.617          6        640: 100%|██████████| 21/21 [00:57<00:00,  2.72s/it]\n",
      "                 Class     Images  Instances      Box(P          R      mAP50  mAP50-95): 100%|██████████| 4/4 [00:05<00:00,  1.40s/it]"
     ]
    },
    {
     "name": "stdout",
     "output_type": "stream",
     "text": [
      "                   all        110         66      0.795      0.884      0.852       0.62\n"
     ]
    },
    {
     "name": "stderr",
     "output_type": "stream",
     "text": [
      "\n"
     ]
    },
    {
     "name": "stdout",
     "output_type": "stream",
     "text": [
      "\n",
      "      Epoch    GPU_mem   box_loss   cls_loss   dfl_loss  Instances       Size\n"
     ]
    },
    {
     "name": "stderr",
     "output_type": "stream",
     "text": [
      "     66/100         0G        1.2      1.902      1.552          7        640: 100%|██████████| 21/21 [00:56<00:00,  2.70s/it]\n",
      "                 Class     Images  Instances      Box(P          R      mAP50  mAP50-95): 100%|██████████| 4/4 [00:05<00:00,  1.41s/it]"
     ]
    },
    {
     "name": "stdout",
     "output_type": "stream",
     "text": [
      "                   all        110         66       0.82      0.833      0.815       0.67\n"
     ]
    },
    {
     "name": "stderr",
     "output_type": "stream",
     "text": [
      "\n"
     ]
    },
    {
     "name": "stdout",
     "output_type": "stream",
     "text": [
      "\n",
      "      Epoch    GPU_mem   box_loss   cls_loss   dfl_loss  Instances       Size\n"
     ]
    },
    {
     "name": "stderr",
     "output_type": "stream",
     "text": [
      "     67/100         0G      1.212      1.817      1.577          5        640: 100%|██████████| 21/21 [00:57<00:00,  2.72s/it]\n",
      "                 Class     Images  Instances      Box(P          R      mAP50  mAP50-95): 100%|██████████| 4/4 [00:05<00:00,  1.40s/it]"
     ]
    },
    {
     "name": "stdout",
     "output_type": "stream",
     "text": [
      "                   all        110         66       0.82      0.848      0.839      0.708\n"
     ]
    },
    {
     "name": "stderr",
     "output_type": "stream",
     "text": [
      "\n"
     ]
    },
    {
     "name": "stdout",
     "output_type": "stream",
     "text": [
      "\n",
      "      Epoch    GPU_mem   box_loss   cls_loss   dfl_loss  Instances       Size\n"
     ]
    },
    {
     "name": "stderr",
     "output_type": "stream",
     "text": [
      "     68/100         0G      1.182      1.801      1.594          3        640: 100%|██████████| 21/21 [00:56<00:00,  2.70s/it]\n",
      "                 Class     Images  Instances      Box(P          R      mAP50  mAP50-95): 100%|██████████| 4/4 [00:05<00:00,  1.45s/it]"
     ]
    },
    {
     "name": "stdout",
     "output_type": "stream",
     "text": [
      "                   all        110         66      0.866      0.803      0.846      0.641\n"
     ]
    },
    {
     "name": "stderr",
     "output_type": "stream",
     "text": [
      "\n"
     ]
    },
    {
     "name": "stdout",
     "output_type": "stream",
     "text": [
      "\n",
      "      Epoch    GPU_mem   box_loss   cls_loss   dfl_loss  Instances       Size\n"
     ]
    },
    {
     "name": "stderr",
     "output_type": "stream",
     "text": [
      "     69/100         0G      1.201      1.846      1.615          5        640: 100%|██████████| 21/21 [00:56<00:00,  2.70s/it]\n",
      "                 Class     Images  Instances      Box(P          R      mAP50  mAP50-95): 100%|██████████| 4/4 [00:05<00:00,  1.40s/it]"
     ]
    },
    {
     "name": "stdout",
     "output_type": "stream",
     "text": [
      "                   all        110         66      0.896      0.781      0.857      0.734\n"
     ]
    },
    {
     "name": "stderr",
     "output_type": "stream",
     "text": [
      "\n"
     ]
    },
    {
     "name": "stdout",
     "output_type": "stream",
     "text": [
      "\n",
      "      Epoch    GPU_mem   box_loss   cls_loss   dfl_loss  Instances       Size\n"
     ]
    },
    {
     "name": "stderr",
     "output_type": "stream",
     "text": [
      "     70/100         0G      1.166      1.794      1.562         11        640: 100%|██████████| 21/21 [00:56<00:00,  2.68s/it]\n",
      "                 Class     Images  Instances      Box(P          R      mAP50  mAP50-95): 100%|██████████| 4/4 [00:05<00:00,  1.39s/it]"
     ]
    },
    {
     "name": "stdout",
     "output_type": "stream",
     "text": [
      "                   all        110         66      0.861      0.844      0.883      0.753\n"
     ]
    },
    {
     "name": "stderr",
     "output_type": "stream",
     "text": [
      "\n"
     ]
    },
    {
     "name": "stdout",
     "output_type": "stream",
     "text": [
      "\n",
      "      Epoch    GPU_mem   box_loss   cls_loss   dfl_loss  Instances       Size\n"
     ]
    },
    {
     "name": "stderr",
     "output_type": "stream",
     "text": [
      "     71/100         0G      1.201      1.688      1.564          7        640: 100%|██████████| 21/21 [00:56<00:00,  2.69s/it]\n",
      "                 Class     Images  Instances      Box(P          R      mAP50  mAP50-95): 100%|██████████| 4/4 [00:05<00:00,  1.40s/it]"
     ]
    },
    {
     "name": "stdout",
     "output_type": "stream",
     "text": [
      "                   all        110         66      0.886      0.818      0.873      0.659\n"
     ]
    },
    {
     "name": "stderr",
     "output_type": "stream",
     "text": [
      "\n"
     ]
    },
    {
     "name": "stdout",
     "output_type": "stream",
     "text": [
      "\n",
      "      Epoch    GPU_mem   box_loss   cls_loss   dfl_loss  Instances       Size\n"
     ]
    },
    {
     "name": "stderr",
     "output_type": "stream",
     "text": [
      "     72/100         0G       1.19      1.764      1.553          9        640: 100%|██████████| 21/21 [00:56<00:00,  2.70s/it]\n",
      "                 Class     Images  Instances      Box(P          R      mAP50  mAP50-95): 100%|██████████| 4/4 [00:05<00:00,  1.40s/it]"
     ]
    },
    {
     "name": "stdout",
     "output_type": "stream",
     "text": [
      "                   all        110         66      0.829      0.803      0.872      0.702\n"
     ]
    },
    {
     "name": "stderr",
     "output_type": "stream",
     "text": [
      "\n"
     ]
    },
    {
     "name": "stdout",
     "output_type": "stream",
     "text": [
      "\n",
      "      Epoch    GPU_mem   box_loss   cls_loss   dfl_loss  Instances       Size\n"
     ]
    },
    {
     "name": "stderr",
     "output_type": "stream",
     "text": [
      "     73/100         0G      1.174      1.697      1.521         14        640: 100%|██████████| 21/21 [00:56<00:00,  2.67s/it]\n",
      "                 Class     Images  Instances      Box(P          R      mAP50  mAP50-95): 100%|██████████| 4/4 [00:05<00:00,  1.37s/it]"
     ]
    },
    {
     "name": "stdout",
     "output_type": "stream",
     "text": [
      "                   all        110         66      0.865      0.848      0.893      0.655\n"
     ]
    },
    {
     "name": "stderr",
     "output_type": "stream",
     "text": [
      "\n"
     ]
    },
    {
     "name": "stdout",
     "output_type": "stream",
     "text": [
      "\n",
      "      Epoch    GPU_mem   box_loss   cls_loss   dfl_loss  Instances       Size\n"
     ]
    },
    {
     "name": "stderr",
     "output_type": "stream",
     "text": [
      "     74/100         0G      1.142      1.753      1.565          5        640: 100%|██████████| 21/21 [00:55<00:00,  2.66s/it]\n",
      "                 Class     Images  Instances      Box(P          R      mAP50  mAP50-95): 100%|██████████| 4/4 [00:05<00:00,  1.38s/it]"
     ]
    },
    {
     "name": "stdout",
     "output_type": "stream",
     "text": [
      "                   all        110         66      0.851      0.865      0.909      0.747\n"
     ]
    },
    {
     "name": "stderr",
     "output_type": "stream",
     "text": [
      "\n"
     ]
    },
    {
     "name": "stdout",
     "output_type": "stream",
     "text": [
      "\n",
      "      Epoch    GPU_mem   box_loss   cls_loss   dfl_loss  Instances       Size\n"
     ]
    },
    {
     "name": "stderr",
     "output_type": "stream",
     "text": [
      "     75/100         0G      1.183      1.756      1.574          6        640: 100%|██████████| 21/21 [00:55<00:00,  2.66s/it]\n",
      "                 Class     Images  Instances      Box(P          R      mAP50  mAP50-95): 100%|██████████| 4/4 [00:05<00:00,  1.38s/it]"
     ]
    },
    {
     "name": "stdout",
     "output_type": "stream",
     "text": [
      "                   all        110         66      0.842      0.848      0.889      0.756\n"
     ]
    },
    {
     "name": "stderr",
     "output_type": "stream",
     "text": [
      "\n"
     ]
    },
    {
     "name": "stdout",
     "output_type": "stream",
     "text": [
      "\n",
      "      Epoch    GPU_mem   box_loss   cls_loss   dfl_loss  Instances       Size\n"
     ]
    },
    {
     "name": "stderr",
     "output_type": "stream",
     "text": [
      "     76/100         0G      1.098      1.624      1.478          6        640: 100%|██████████| 21/21 [00:56<00:00,  2.67s/it]\n",
      "                 Class     Images  Instances      Box(P          R      mAP50  mAP50-95): 100%|██████████| 4/4 [00:05<00:00,  1.38s/it]"
     ]
    },
    {
     "name": "stdout",
     "output_type": "stream",
     "text": [
      "                   all        110         66      0.879      0.883      0.882      0.749\n"
     ]
    },
    {
     "name": "stderr",
     "output_type": "stream",
     "text": [
      "\n"
     ]
    },
    {
     "name": "stdout",
     "output_type": "stream",
     "text": [
      "\n",
      "      Epoch    GPU_mem   box_loss   cls_loss   dfl_loss  Instances       Size\n"
     ]
    },
    {
     "name": "stderr",
     "output_type": "stream",
     "text": [
      "     77/100         0G      1.092      1.626      1.473          5        640: 100%|██████████| 21/21 [00:56<00:00,  2.67s/it]\n",
      "                 Class     Images  Instances      Box(P          R      mAP50  mAP50-95): 100%|██████████| 4/4 [00:05<00:00,  1.37s/it]"
     ]
    },
    {
     "name": "stdout",
     "output_type": "stream",
     "text": [
      "                   all        110         66      0.895      0.864      0.896      0.733\n"
     ]
    },
    {
     "name": "stderr",
     "output_type": "stream",
     "text": [
      "\n"
     ]
    },
    {
     "name": "stdout",
     "output_type": "stream",
     "text": [
      "\n",
      "      Epoch    GPU_mem   box_loss   cls_loss   dfl_loss  Instances       Size\n"
     ]
    },
    {
     "name": "stderr",
     "output_type": "stream",
     "text": [
      "     78/100         0G      1.091      1.647      1.481          4        640: 100%|██████████| 21/21 [00:55<00:00,  2.64s/it]\n",
      "                 Class     Images  Instances      Box(P          R      mAP50  mAP50-95): 100%|██████████| 4/4 [00:05<00:00,  1.38s/it]"
     ]
    },
    {
     "name": "stdout",
     "output_type": "stream",
     "text": [
      "                   all        110         66       0.91      0.833      0.898      0.713\n"
     ]
    },
    {
     "name": "stderr",
     "output_type": "stream",
     "text": [
      "\n"
     ]
    },
    {
     "name": "stdout",
     "output_type": "stream",
     "text": [
      "\n",
      "      Epoch    GPU_mem   box_loss   cls_loss   dfl_loss  Instances       Size\n"
     ]
    },
    {
     "name": "stderr",
     "output_type": "stream",
     "text": [
      "     79/100         0G      1.118      1.616      1.489          7        640: 100%|██████████| 21/21 [00:55<00:00,  2.66s/it]\n",
      "                 Class     Images  Instances      Box(P          R      mAP50  mAP50-95): 100%|██████████| 4/4 [00:05<00:00,  1.38s/it]"
     ]
    },
    {
     "name": "stdout",
     "output_type": "stream",
     "text": [
      "                   all        110         66      0.892      0.818      0.888      0.673\n"
     ]
    },
    {
     "name": "stderr",
     "output_type": "stream",
     "text": [
      "\n"
     ]
    },
    {
     "name": "stdout",
     "output_type": "stream",
     "text": [
      "\n",
      "      Epoch    GPU_mem   box_loss   cls_loss   dfl_loss  Instances       Size\n"
     ]
    },
    {
     "name": "stderr",
     "output_type": "stream",
     "text": [
      "     80/100         0G      1.074      1.578      1.485         11        640: 100%|██████████| 21/21 [00:55<00:00,  2.66s/it]\n",
      "                 Class     Images  Instances      Box(P          R      mAP50  mAP50-95): 100%|██████████| 4/4 [00:05<00:00,  1.39s/it]"
     ]
    },
    {
     "name": "stdout",
     "output_type": "stream",
     "text": [
      "                   all        110         66      0.874      0.894      0.892      0.714\n"
     ]
    },
    {
     "name": "stderr",
     "output_type": "stream",
     "text": [
      "\n"
     ]
    },
    {
     "name": "stdout",
     "output_type": "stream",
     "text": [
      "\n",
      "      Epoch    GPU_mem   box_loss   cls_loss   dfl_loss  Instances       Size\n"
     ]
    },
    {
     "name": "stderr",
     "output_type": "stream",
     "text": [
      "     81/100         0G       1.15      1.674      1.546          6        640: 100%|██████████| 21/21 [00:56<00:00,  2.68s/it]\n",
      "                 Class     Images  Instances      Box(P          R      mAP50  mAP50-95): 100%|██████████| 4/4 [00:05<00:00,  1.49s/it]"
     ]
    },
    {
     "name": "stdout",
     "output_type": "stream",
     "text": [
      "                   all        110         66      0.853      0.864      0.898      0.731\n"
     ]
    },
    {
     "name": "stderr",
     "output_type": "stream",
     "text": [
      "\n"
     ]
    },
    {
     "name": "stdout",
     "output_type": "stream",
     "text": [
      "\n",
      "      Epoch    GPU_mem   box_loss   cls_loss   dfl_loss  Instances       Size\n"
     ]
    },
    {
     "name": "stderr",
     "output_type": "stream",
     "text": [
      "     82/100         0G      1.124      1.614      1.521          7        640: 100%|██████████| 21/21 [00:57<00:00,  2.71s/it]\n",
      "                 Class     Images  Instances      Box(P          R      mAP50  mAP50-95): 100%|██████████| 4/4 [00:05<00:00,  1.42s/it]"
     ]
    },
    {
     "name": "stdout",
     "output_type": "stream",
     "text": [
      "                   all        110         66      0.852      0.864      0.867       0.71\n"
     ]
    },
    {
     "name": "stderr",
     "output_type": "stream",
     "text": [
      "\n"
     ]
    },
    {
     "name": "stdout",
     "output_type": "stream",
     "text": [
      "\n",
      "      Epoch    GPU_mem   box_loss   cls_loss   dfl_loss  Instances       Size\n"
     ]
    },
    {
     "name": "stderr",
     "output_type": "stream",
     "text": [
      "     83/100         0G      1.085      1.559      1.456          9        640: 100%|██████████| 21/21 [00:55<00:00,  2.64s/it]\n",
      "                 Class     Images  Instances      Box(P          R      mAP50  mAP50-95): 100%|██████████| 4/4 [00:05<00:00,  1.41s/it]"
     ]
    },
    {
     "name": "stdout",
     "output_type": "stream",
     "text": [
      "                   all        110         66       0.87      0.879      0.877      0.729\n"
     ]
    },
    {
     "name": "stderr",
     "output_type": "stream",
     "text": [
      "\n"
     ]
    },
    {
     "name": "stdout",
     "output_type": "stream",
     "text": [
      "\n",
      "      Epoch    GPU_mem   box_loss   cls_loss   dfl_loss  Instances       Size\n"
     ]
    },
    {
     "name": "stderr",
     "output_type": "stream",
     "text": [
      "     84/100         0G      1.142      1.665      1.513          6        640: 100%|██████████| 21/21 [00:55<00:00,  2.64s/it]\n",
      "                 Class     Images  Instances      Box(P          R      mAP50  mAP50-95): 100%|██████████| 4/4 [00:05<00:00,  1.41s/it]"
     ]
    },
    {
     "name": "stdout",
     "output_type": "stream",
     "text": [
      "                   all        110         66      0.888      0.864      0.891      0.742\n"
     ]
    },
    {
     "name": "stderr",
     "output_type": "stream",
     "text": [
      "\n"
     ]
    },
    {
     "name": "stdout",
     "output_type": "stream",
     "text": [
      "\n",
      "      Epoch    GPU_mem   box_loss   cls_loss   dfl_loss  Instances       Size\n"
     ]
    },
    {
     "name": "stderr",
     "output_type": "stream",
     "text": [
      "     85/100         0G      1.117      1.664      1.531          5        640: 100%|██████████| 21/21 [00:54<00:00,  2.61s/it]\n",
      "                 Class     Images  Instances      Box(P          R      mAP50  mAP50-95): 100%|██████████| 4/4 [00:05<00:00,  1.40s/it]"
     ]
    },
    {
     "name": "stdout",
     "output_type": "stream",
     "text": [
      "                   all        110         66      0.877      0.879      0.899      0.756\n"
     ]
    },
    {
     "name": "stderr",
     "output_type": "stream",
     "text": [
      "\n"
     ]
    },
    {
     "name": "stdout",
     "output_type": "stream",
     "text": [
      "\n",
      "      Epoch    GPU_mem   box_loss   cls_loss   dfl_loss  Instances       Size\n"
     ]
    },
    {
     "name": "stderr",
     "output_type": "stream",
     "text": [
      "     86/100         0G      1.109      1.633      1.503          6        640: 100%|██████████| 21/21 [00:55<00:00,  2.66s/it]\n",
      "                 Class     Images  Instances      Box(P          R      mAP50  mAP50-95): 100%|██████████| 4/4 [00:05<00:00,  1.40s/it]"
     ]
    },
    {
     "name": "stdout",
     "output_type": "stream",
     "text": [
      "                   all        110         66      0.874      0.842      0.906      0.749\n"
     ]
    },
    {
     "name": "stderr",
     "output_type": "stream",
     "text": [
      "\n"
     ]
    },
    {
     "name": "stdout",
     "output_type": "stream",
     "text": [
      "\n",
      "      Epoch    GPU_mem   box_loss   cls_loss   dfl_loss  Instances       Size\n"
     ]
    },
    {
     "name": "stderr",
     "output_type": "stream",
     "text": [
      "     87/100         0G      1.121      1.656        1.5          6        640: 100%|██████████| 21/21 [00:55<00:00,  2.64s/it]\n",
      "                 Class     Images  Instances      Box(P          R      mAP50  mAP50-95): 100%|██████████| 4/4 [00:05<00:00,  1.31s/it]"
     ]
    },
    {
     "name": "stdout",
     "output_type": "stream",
     "text": [
      "                   all        110         66       0.87      0.864      0.906      0.773\n"
     ]
    },
    {
     "name": "stderr",
     "output_type": "stream",
     "text": [
      "\n"
     ]
    },
    {
     "name": "stdout",
     "output_type": "stream",
     "text": [
      "\n",
      "      Epoch    GPU_mem   box_loss   cls_loss   dfl_loss  Instances       Size\n"
     ]
    },
    {
     "name": "stderr",
     "output_type": "stream",
     "text": [
      "     88/100         0G      1.047      1.568      1.467          7        640: 100%|██████████| 21/21 [00:57<00:00,  2.76s/it]\n",
      "                 Class     Images  Instances      Box(P          R      mAP50  mAP50-95): 100%|██████████| 4/4 [00:05<00:00,  1.39s/it]"
     ]
    },
    {
     "name": "stdout",
     "output_type": "stream",
     "text": [
      "                   all        110         66      0.876      0.894      0.905       0.78\n"
     ]
    },
    {
     "name": "stderr",
     "output_type": "stream",
     "text": [
      "\n"
     ]
    },
    {
     "name": "stdout",
     "output_type": "stream",
     "text": [
      "\n",
      "      Epoch    GPU_mem   box_loss   cls_loss   dfl_loss  Instances       Size\n"
     ]
    },
    {
     "name": "stderr",
     "output_type": "stream",
     "text": [
      "     89/100         0G      1.049      1.608      1.486          7        640: 100%|██████████| 21/21 [00:55<00:00,  2.64s/it]\n",
      "                 Class     Images  Instances      Box(P          R      mAP50  mAP50-95): 100%|██████████| 4/4 [00:05<00:00,  1.39s/it]"
     ]
    },
    {
     "name": "stdout",
     "output_type": "stream",
     "text": [
      "                   all        110         66      0.872      0.894      0.904      0.766\n"
     ]
    },
    {
     "name": "stderr",
     "output_type": "stream",
     "text": [
      "\n"
     ]
    },
    {
     "name": "stdout",
     "output_type": "stream",
     "text": [
      "\n",
      "      Epoch    GPU_mem   box_loss   cls_loss   dfl_loss  Instances       Size\n"
     ]
    },
    {
     "name": "stderr",
     "output_type": "stream",
     "text": [
      "     90/100         0G      1.082      1.543      1.473          8        640: 100%|██████████| 21/21 [00:55<00:00,  2.64s/it]\n",
      "                 Class     Images  Instances      Box(P          R      mAP50  mAP50-95): 100%|██████████| 4/4 [00:05<00:00,  1.39s/it]"
     ]
    },
    {
     "name": "stdout",
     "output_type": "stream",
     "text": [
      "                   all        110         66      0.893      0.879      0.909      0.757\n"
     ]
    },
    {
     "name": "stderr",
     "output_type": "stream",
     "text": [
      "\n"
     ]
    },
    {
     "name": "stdout",
     "output_type": "stream",
     "text": [
      "Closing dataloader mosaic\n",
      "\n",
      "      Epoch    GPU_mem   box_loss   cls_loss   dfl_loss  Instances       Size\n"
     ]
    },
    {
     "name": "stderr",
     "output_type": "stream",
     "text": [
      "     91/100         0G     0.8891      1.266       1.51          4        640: 100%|██████████| 21/21 [00:54<00:00,  2.58s/it]\n",
      "                 Class     Images  Instances      Box(P          R      mAP50  mAP50-95): 100%|██████████| 4/4 [00:05<00:00,  1.40s/it]"
     ]
    },
    {
     "name": "stdout",
     "output_type": "stream",
     "text": [
      "                   all        110         66      0.901      0.879      0.892      0.731\n"
     ]
    },
    {
     "name": "stderr",
     "output_type": "stream",
     "text": [
      "\n"
     ]
    },
    {
     "name": "stdout",
     "output_type": "stream",
     "text": [
      "\n",
      "      Epoch    GPU_mem   box_loss   cls_loss   dfl_loss  Instances       Size\n"
     ]
    },
    {
     "name": "stderr",
     "output_type": "stream",
     "text": [
      "     92/100         0G     0.8024      1.087      1.446          2        640: 100%|██████████| 21/21 [00:56<00:00,  2.69s/it]\n",
      "                 Class     Images  Instances      Box(P          R      mAP50  mAP50-95): 100%|██████████| 4/4 [00:05<00:00,  1.39s/it]"
     ]
    },
    {
     "name": "stdout",
     "output_type": "stream",
     "text": [
      "                   all        110         66      0.888      0.864      0.873      0.709\n"
     ]
    },
    {
     "name": "stderr",
     "output_type": "stream",
     "text": [
      "\n"
     ]
    },
    {
     "name": "stdout",
     "output_type": "stream",
     "text": [
      "\n",
      "      Epoch    GPU_mem   box_loss   cls_loss   dfl_loss  Instances       Size\n"
     ]
    },
    {
     "name": "stderr",
     "output_type": "stream",
     "text": [
      "     93/100         0G     0.8268      1.085      1.431          2        640: 100%|██████████| 21/21 [00:54<00:00,  2.59s/it]\n",
      "                 Class     Images  Instances      Box(P          R      mAP50  mAP50-95): 100%|██████████| 4/4 [00:05<00:00,  1.39s/it]"
     ]
    },
    {
     "name": "stdout",
     "output_type": "stream",
     "text": [
      "                   all        110         66      0.842      0.886      0.884      0.742\n"
     ]
    },
    {
     "name": "stderr",
     "output_type": "stream",
     "text": [
      "\n"
     ]
    },
    {
     "name": "stdout",
     "output_type": "stream",
     "text": [
      "\n",
      "      Epoch    GPU_mem   box_loss   cls_loss   dfl_loss  Instances       Size\n"
     ]
    },
    {
     "name": "stderr",
     "output_type": "stream",
     "text": [
      "     94/100         0G     0.7766      0.985      1.419          3        640: 100%|██████████| 21/21 [00:54<00:00,  2.60s/it]\n",
      "                 Class     Images  Instances      Box(P          R      mAP50  mAP50-95): 100%|██████████| 4/4 [00:05<00:00,  1.42s/it]"
     ]
    },
    {
     "name": "stdout",
     "output_type": "stream",
     "text": [
      "                   all        110         66      0.853      0.894      0.896      0.763\n"
     ]
    },
    {
     "name": "stderr",
     "output_type": "stream",
     "text": [
      "\n"
     ]
    },
    {
     "name": "stdout",
     "output_type": "stream",
     "text": [
      "\n",
      "      Epoch    GPU_mem   box_loss   cls_loss   dfl_loss  Instances       Size\n"
     ]
    },
    {
     "name": "stderr",
     "output_type": "stream",
     "text": [
      "     95/100         0G     0.7908      0.969      1.426          2        640: 100%|██████████| 21/21 [00:55<00:00,  2.65s/it]\n",
      "                 Class     Images  Instances      Box(P          R      mAP50  mAP50-95): 100%|██████████| 4/4 [00:05<00:00,  1.41s/it]"
     ]
    },
    {
     "name": "stdout",
     "output_type": "stream",
     "text": [
      "                   all        110         66      0.862      0.894      0.933      0.795\n"
     ]
    },
    {
     "name": "stderr",
     "output_type": "stream",
     "text": [
      "\n"
     ]
    },
    {
     "name": "stdout",
     "output_type": "stream",
     "text": [
      "\n",
      "      Epoch    GPU_mem   box_loss   cls_loss   dfl_loss  Instances       Size\n"
     ]
    },
    {
     "name": "stderr",
     "output_type": "stream",
     "text": [
      "     96/100         0G     0.7198     0.8832      1.336          3        640: 100%|██████████| 21/21 [00:54<00:00,  2.61s/it]\n",
      "                 Class     Images  Instances      Box(P          R      mAP50  mAP50-95): 100%|██████████| 4/4 [00:05<00:00,  1.39s/it]"
     ]
    },
    {
     "name": "stdout",
     "output_type": "stream",
     "text": [
      "                   all        110         66      0.866      0.909      0.936      0.808\n"
     ]
    },
    {
     "name": "stderr",
     "output_type": "stream",
     "text": [
      "\n"
     ]
    },
    {
     "name": "stdout",
     "output_type": "stream",
     "text": [
      "\n",
      "      Epoch    GPU_mem   box_loss   cls_loss   dfl_loss  Instances       Size\n"
     ]
    },
    {
     "name": "stderr",
     "output_type": "stream",
     "text": [
      "     97/100         0G      0.726     0.8639      1.347          2        640: 100%|██████████| 21/21 [00:54<00:00,  2.59s/it]\n",
      "                 Class     Images  Instances      Box(P          R      mAP50  mAP50-95): 100%|██████████| 4/4 [00:05<00:00,  1.39s/it]"
     ]
    },
    {
     "name": "stdout",
     "output_type": "stream",
     "text": [
      "                   all        110         66      0.874      0.909       0.94      0.815\n"
     ]
    },
    {
     "name": "stderr",
     "output_type": "stream",
     "text": [
      "\n"
     ]
    },
    {
     "name": "stdout",
     "output_type": "stream",
     "text": [
      "\n",
      "      Epoch    GPU_mem   box_loss   cls_loss   dfl_loss  Instances       Size\n"
     ]
    },
    {
     "name": "stderr",
     "output_type": "stream",
     "text": [
      "     98/100         0G     0.7412     0.8819      1.381          4        640: 100%|██████████| 21/21 [00:53<00:00,  2.56s/it]\n",
      "                 Class     Images  Instances      Box(P          R      mAP50  mAP50-95): 100%|██████████| 4/4 [00:05<00:00,  1.40s/it]"
     ]
    },
    {
     "name": "stdout",
     "output_type": "stream",
     "text": [
      "                   all        110         66      0.881        0.9      0.927      0.803\n"
     ]
    },
    {
     "name": "stderr",
     "output_type": "stream",
     "text": [
      "\n"
     ]
    },
    {
     "name": "stdout",
     "output_type": "stream",
     "text": [
      "\n",
      "      Epoch    GPU_mem   box_loss   cls_loss   dfl_loss  Instances       Size\n"
     ]
    },
    {
     "name": "stderr",
     "output_type": "stream",
     "text": [
      "     99/100         0G     0.7417     0.8827      1.362          3        640: 100%|██████████| 21/21 [00:55<00:00,  2.63s/it]\n",
      "                 Class     Images  Instances      Box(P          R      mAP50  mAP50-95): 100%|██████████| 4/4 [00:05<00:00,  1.40s/it]"
     ]
    },
    {
     "name": "stdout",
     "output_type": "stream",
     "text": [
      "                   all        110         66      0.879      0.909       0.92      0.798\n"
     ]
    },
    {
     "name": "stderr",
     "output_type": "stream",
     "text": [
      "\n"
     ]
    },
    {
     "name": "stdout",
     "output_type": "stream",
     "text": [
      "\n",
      "      Epoch    GPU_mem   box_loss   cls_loss   dfl_loss  Instances       Size\n"
     ]
    },
    {
     "name": "stderr",
     "output_type": "stream",
     "text": [
      "    100/100         0G     0.7157     0.8222       1.37          4        640: 100%|██████████| 21/21 [00:54<00:00,  2.61s/it]\n",
      "                 Class     Images  Instances      Box(P          R      mAP50  mAP50-95): 100%|██████████| 4/4 [00:05<00:00,  1.40s/it]"
     ]
    },
    {
     "name": "stdout",
     "output_type": "stream",
     "text": [
      "                   all        110         66      0.858      0.919      0.921      0.809\n"
     ]
    },
    {
     "name": "stderr",
     "output_type": "stream",
     "text": [
      "\n"
     ]
    },
    {
     "name": "stdout",
     "output_type": "stream",
     "text": [
      "\n",
      "100 epochs completed in 1.773 hours.\n",
      "Optimizer stripped from runs\\train\\pothole_detection\\weights\\last.pt, 6.3MB\n",
      "Optimizer stripped from runs\\train\\pothole_detection\\weights\\best.pt, 6.3MB\n",
      "\n",
      "Validating runs\\train\\pothole_detection\\weights\\best.pt...\n",
      "Ultralytics 8.3.82  Python-3.12.1 torch-2.6.0+cpu CPU (13th Gen Intel Core(TM) i7-13700H)\n",
      "Model summary (fused): 72 layers, 3,005,843 parameters, 0 gradients, 8.1 GFLOPs\n"
     ]
    },
    {
     "name": "stderr",
     "output_type": "stream",
     "text": [
      "                 Class     Images  Instances      Box(P          R      mAP50  mAP50-95): 100%|██████████| 4/4 [00:05<00:00,  1.28s/it]\n"
     ]
    },
    {
     "name": "stdout",
     "output_type": "stream",
     "text": [
      "                   all        110         66      0.874      0.909       0.94      0.815\n",
      "Speed: 0.7ms preprocess, 33.8ms inference, 0.0ms loss, 0.3ms postprocess per image\n",
      "Results saved to \u001b[1mruns\\train\\pothole_detection\u001b[0m\n"
     ]
    }
   ],
   "source": [
    "# Define paths for your dataset\n",
    "base_path = 'C:\\\\Users\\\\nandu\\\\Downloads\\\\Robotics-MFC-S4-D12\\\\pothole_image_data'\n",
    "normal_path = os.path.join(base_path, 'normal')\n",
    "potholes_path = os.path.join(base_path, 'potholes')\n",
    "\n",
    "# Create train and val directories under pothole_image_data\n",
    "train_images_path = os.path.join(base_path, 'train', 'images')\n",
    "train_labels_path = os.path.join(base_path, 'train', 'labels')\n",
    "val_images_path = os.path.join(base_path, 'val', 'images')\n",
    "val_labels_path = os.path.join(base_path, 'val', 'labels')\n",
    "\n",
    "# Create directories if they don't exist\n",
    "for path in [train_images_path, train_labels_path, val_images_path, val_labels_path]:\n",
    "    os.makedirs(path, exist_ok=True)\n",
    "\n",
    "# Function to split dataset into train and val\n",
    "def split_dataset(normal_path, potholes_path, train_ratio=0.8):\n",
    "    # Get all normal and pothole image paths\n",
    "    normal_images = [os.path.join(normal_path, f) for f in os.listdir(normal_path) if f.endswith('.jpg')]\n",
    "    pothole_images = [os.path.join(potholes_path, f) for f in os.listdir(potholes_path) if f.endswith('.jpg')]\n",
    "    \n",
    "    # Split normal images\n",
    "    normal_train, normal_val = train_test_split(normal_images, train_size=train_ratio, random_state=42)\n",
    "    # Split pothole images\n",
    "    pothole_train, pothole_val = train_test_split(pothole_images, train_size=train_ratio, random_state=42)\n",
    "    \n",
    "    # Copy images to train and val directories\n",
    "    for img_path in normal_train:\n",
    "        shutil.copy(img_path, os.path.join(train_images_path, os.path.basename(img_path)))\n",
    "        # Create empty label file for normal (no potholes)\n",
    "        label_path = os.path.join(train_labels_path, os.path.splitext(os.path.basename(img_path))[0] + '.txt')\n",
    "        with open(label_path, 'w') as f:\n",
    "            pass  # Empty file indicates no potholes\n",
    "    \n",
    "    for img_path in normal_val:\n",
    "        shutil.copy(img_path, os.path.join(val_images_path, os.path.basename(img_path)))\n",
    "        label_path = os.path.join(val_labels_path, os.path.splitext(os.path.basename(img_path))[0] + '.txt')\n",
    "        with open(label_path, 'w') as f:\n",
    "            pass  # Empty file indicates no potholes\n",
    "    \n",
    "    for img_path in pothole_train:\n",
    "        shutil.copy(img_path, os.path.join(train_images_path, os.path.basename(img_path)))\n",
    "        # You need to provide or generate YOLO annotations for potholes\n",
    "        label_path = os.path.join(train_labels_path, os.path.splitext(os.path.basename(img_path))[0] + '.txt')\n",
    "        # Placeholder for pothole annotation (replace with actual annotations)\n",
    "        # Example: '0 0.5 0.5 0.2 0.2' for a pothole centered with width/height 20% of image\n",
    "        # You must create these manually or using a tool like LabelImg/Roboflow\n",
    "        with open(label_path, 'w') as f:\n",
    "            f.write('0 0.5 0.5 0.2 0.2')  # Example, replace with real annotations\n",
    "    \n",
    "    for img_path in pothole_val:\n",
    "        shutil.copy(img_path, os.path.join(val_images_path, os.path.basename(img_path)))\n",
    "        label_path = os.path.join(val_labels_path, os.path.splitext(os.path.basename(img_path))[0] + '.txt')\n",
    "        with open(label_path, 'w') as f:\n",
    "            f.write('0 0.5 0.5 0.2 0.2')  # Example, replace with real annotations\n",
    "\n",
    "# Split the dataset\n",
    "split_dataset(normal_path, potholes_path)\n",
    "\n",
    "# Create dataset.yaml with absolute paths\n",
    "dataset_yaml = '''\n",
    "train: {train_images_path}\n",
    "val: {val_images_path}\n",
    "nc: 1  # Number of classes (1 for potholes)\n",
    "names: ['pothole']  # Class names\n",
    "'''\n",
    "\n",
    "# Write dataset.yaml to file with absolute paths\n",
    "with open('dataset.yaml', 'w') as f:\n",
    "    f.write(dataset_yaml.format(train_images_path=train_images_path.replace('\\\\', '/'), \n",
    "                               val_images_path=val_images_path.replace('\\\\', '/')))\n",
    "\n",
    "# Update Ultralytics settings to use the correct dataset directory (optional)\n",
    "settings_path = os.path.join(os.path.expanduser('~'), 'AppData', 'Roaming', 'Ultralytics', 'settings.json')\n",
    "if os.path.exists(settings_path):\n",
    "    import json\n",
    "    with open(settings_path, 'r') as f:\n",
    "        settings = json.load(f)\n",
    "    settings['datasets_dir'] = base_path  # Update to your pothole_image_data directory\n",
    "    with open(settings_path, 'w') as f:\n",
    "        json.dump(settings, f, indent=4)\n",
    "else:\n",
    "    print(f\"Settings file not found at {settings_path}. Using default dataset directory.\")\n",
    "\n",
    "# Load or train a custom YOLOv8 model\n",
    "model = YOLO('yolov8n.pt')  # Start with pre-trained YOLOv8 nano model\n",
    "\n",
    "# Train the model on your pothole dataset\n",
    "model.train(\n",
    "    data='dataset.yaml',\n",
    "    epochs=100,  # Increase for better accuracy, adjust as needed\n",
    "    imgsz=640,   # Image size, adjust based on your images (YOLOv8 default is 640)\n",
    "    batch=16,    # Batch size, adjust based on your GPU/CPU memory\n",
    "    project='runs/train',  # Output directory for training results\n",
    "    name='pothole_detection',  # Experiment name\n",
    "    exist_ok=True  # Allow overwriting existing runs\n",
    ")\n",
    "\n",
    "# Load the best trained model\n",
    "best_model = YOLO('runs/train/pothole_detection/weights/best.pt')  # Path to best model weights"
   ]
  },
  {
   "cell_type": "code",
   "execution_count": 7,
   "metadata": {},
   "outputs": [],
   "source": [
    "def preprocess_image_with_edges(frame):\n",
    "    # Convert to grayscale if frame is color\n",
    "    if len(frame.shape) == 3:\n",
    "        gray = cv2.cvtColor(frame, cv2.COLOR_BGR2GRAY)\n",
    "    else:\n",
    "        gray = frame\n",
    "    \n",
    "    # Apply bilateral filtering for noise reduction and edge preservation\n",
    "    smoothed = cv2.bilateralFilter(gray, 9, 75, 75)  # d=9, sigmaColor=75, sigmaSpace=75\n",
    "    \n",
    "    # Enhance contrast with CLAHE (Contrast Limited Adaptive Histogram Equalization)\n",
    "    clahe = cv2.createCLAHE(clipLimit=2.0, tileGridSize=(8, 8))\n",
    "    enhanced = clahe.apply(smoothed)\n",
    "    \n",
    "    # Use Canny edge detection with adaptive thresholding\n",
    "    edges = cv2.Canny(enhanced, 50, 150)  # Adjust thresholds as needed\n",
    "    \n",
    "    # Morphological operations to clean edges\n",
    "    kernel = np.ones((3, 3), np.uint8)\n",
    "    edges = cv2.dilate(edges, kernel, iterations=1)\n",
    "    edges = cv2.erode(edges, kernel, iterations=1)\n",
    "    \n",
    "    return frame, edges  # Return original frame and edges for consistency\n",
    "\n",
    "def get_grid_position(width, height, center_x, center_y, grid_size=10):\n",
    "    # Divide the image into a grid_size x grid_size grid\n",
    "    grid_width = width // grid_size\n",
    "    grid_height = height // grid_size\n",
    "    \n",
    "    # Calculate grid cell (row, column) based on center coordinates\n",
    "    row = center_y // grid_height\n",
    "    col = center_x // grid_width\n",
    "    \n",
    "    # Ensure row and col are within bounds\n",
    "    row = min(max(0, row), grid_size - 1)\n",
    "    col = min(max(0, col), grid_size - 1)\n",
    "    \n",
    "    return row, col\n",
    "\n",
    "def detect_pothole_in_image(model, image_path, scale_factor=0.1, grid_size=10):\n",
    "    # Preprocess the image\n",
    "    original_image, edges = preprocess_image_with_edges(cv2.imread(image_path))\n",
    "    \n",
    "    # Load and predict with YOLOv8\n",
    "    results = model(image_path, conf=0.5)  # Confidence threshold of 0.5\n",
    "    \n",
    "    # Convert BGR to RGB for display\n",
    "    rgb_image = cv2.cvtColor(original_image, cv2.COLOR_BGR2RGB)\n",
    "    \n",
    "    pothole_detected = False\n",
    "    image_width, image_height = rgb_image.shape[1], rgb_image.shape[0]\n",
    "    \n",
    "    for result in results:\n",
    "        boxes = result.boxes  # Get bounding boxes\n",
    "        for box in boxes:\n",
    "            x1, y1, x2, y2 = box.xyxy[0].cpu().numpy().astype(int)  # Convert to CPU and int\n",
    "            conf = box.conf.cpu().numpy()[0]  # Confidence score\n",
    "            \n",
    "            if conf >= 0.5:  # Ensure confidence threshold\n",
    "                pothole_detected = True\n",
    "                print(f\"Pothole Detected with confidence {conf:.2f}!\")\n",
    "                \n",
    "                # Calculate width and height in pixels\n",
    "                w = x2 - x1\n",
    "                h = y2 - y1\n",
    "                \n",
    "                # Calculate dimensions in cm (adjust scale_factor based on image resolution and real-world distance)\n",
    "                width_cm = w * scale_factor\n",
    "                height_cm = h * scale_factor\n",
    "                \n",
    "                # Calculate position (center coordinates in pixels)\n",
    "                center_x = (x1 + x2) // 2\n",
    "                center_y = (y1 + y2) // 2\n",
    "                \n",
    "                # Get grid position (row, column) in a 10x10 grid\n",
    "                grid_row, grid_col = get_grid_position(image_width, image_height, center_x, center_y, grid_size)\n",
    "                \n",
    "                # Draw bounding box and text\n",
    "                cv2.rectangle(rgb_image, (x1, y1), (x2, y2), (0, 255, 0), 2)\n",
    "                text = f'Pothole: {width_cm:.2f}cm x {height_cm:.2f}cm\\nGrid Position: Row {grid_row}, Col {grid_col}'\n",
    "                cv2.putText(rgb_image, text, (x1, y1-10), \n",
    "                           cv2.FONT_HERSHEY_SIMPLEX, 0.9, (0, 255, 0), 2)\n",
    "    \n",
    "    if not pothole_detected:\n",
    "        print(\"No Pothole Detected.\")\n",
    "        cv2.putText(rgb_image, 'No Pothole', (50, 50),\n",
    "                   cv2.FONT_HERSHEY_SIMPLEX, 1, (0, 0, 255), 2)\n",
    "    \n",
    "    # Display the result\n",
    "    plt.figure(figsize=(10, 8))\n",
    "    plt.imshow(rgb_image)\n",
    "    plt.title('Pothole Detection Result')\n",
    "    plt.axis('off')\n",
    "    plt.show()\n",
    "\n",
    "    # Optionally save the annotated image\n",
    "    output_path = 'pothole_detection_result.jpg'\n",
    "    cv2.imwrite(output_path, cv2.cvtColor(rgb_image, cv2.COLOR_RGB2BGR))\n",
    "    print(f\"Annotated image saved as {output_path}\")"
   ]
  },
  {
   "cell_type": "code",
   "execution_count": 8,
   "metadata": {},
   "outputs": [],
   "source": [
    "def detect_potholes_in_video(model, video_path, output_path='pothole_detection_output.avi', scale_factor=0.1, grid_size=10):\n",
    "    # Open the video file\n",
    "    cap = cv2.VideoCapture(video_path)\n",
    "    if not cap.isOpened():\n",
    "        print(f\"Error: Could not open video file at {video_path}\")\n",
    "        return\n",
    "    \n",
    "    # Get video properties\n",
    "    frame_width = int(cap.get(cv2.CAP_PROP_FRAME_WIDTH))\n",
    "    frame_height = int(cap.get(cv2.CAP_PROP_FRAME_HEIGHT))\n",
    "    fps = int(cap.get(cv2.CAP_PROP_FPS))\n",
    "    \n",
    "    # Define the codec and create VideoWriter object to save the output video\n",
    "    fourcc = cv2.VideoWriter_fourcc(*'XVID')  # You can use 'MJPG' or other codecs\n",
    "    out = cv2.VideoWriter(output_path, fourcc, fps, (frame_width, frame_height))\n",
    "    \n",
    "    frame_count = 0\n",
    "    while True:\n",
    "        ret, frame = cap.read()\n",
    "        if not ret:\n",
    "            break  # End of video\n",
    "        \n",
    "        frame_count += 1\n",
    "        print(f\"Processing frame {frame_count}\")\n",
    "        \n",
    "        # Preprocess the frame\n",
    "        original_frame, edges = preprocess_image_with_edges(frame)\n",
    "        # No need to reshape for YOLOv8, as it handles raw frames directly\n",
    "        \n",
    "        # Predict if a pothole is present\n",
    "        results = model(frame, conf=0.5)  # YOLOv8 prediction on the raw frame (BGR)\n",
    "        \n",
    "        # Convert BGR frame to RGB for display and processing\n",
    "        rgb_frame = cv2.cvtColor(original_frame, cv2.COLOR_BGR2RGB)\n",
    "        \n",
    "        pothole_detected = False\n",
    "        \n",
    "        for result in results:\n",
    "            boxes = result.boxes  # Get bounding boxes\n",
    "            for box in boxes:\n",
    "                x1, y1, x2, y2 = box.xyxy[0].cpu().numpy().astype(int)\n",
    "                conf = box.conf.cpu().numpy()[0]\n",
    "                \n",
    "                if conf >= 0.5:\n",
    "                    pothole_detected = True\n",
    "                    print(f\"Frame {frame_count}: Pothole Detected with confidence {conf:.2f}!\")\n",
    "                    \n",
    "                    # Calculate width and height in pixels\n",
    "                    w = x2 - x1\n",
    "                    h = y2 - y1\n",
    "                    \n",
    "                    # Calculate dimensions in cm\n",
    "                    width_cm = w * scale_factor\n",
    "                    height_cm = h * scale_factor\n",
    "                    \n",
    "                    # Calculate position (center coordinates in pixels)\n",
    "                    center_x = (x1 + x2) // 2\n",
    "                    center_y = (y1 + y2) // 2\n",
    "                    \n",
    "                    # Get grid position (row, column) in a 10x10 grid\n",
    "                    grid_row, grid_col = get_grid_position(frame_width, frame_height, center_x, center_y, grid_size)\n",
    "                    \n",
    "                    # Draw bounding box and text\n",
    "                    cv2.rectangle(rgb_frame, (x1, y1), (x2, y2), (0, 255, 0), 2)\n",
    "                    text = f'Pothole: {width_cm:.2f}cm x {height_cm:.2f}cm\\nGrid Position: Row {grid_row}, Col {grid_col}'\n",
    "                    cv2.putText(rgb_frame, text, (x1, y1-10), \n",
    "                               cv2.FONT_HERSHEY_SIMPLEX, 0.9, (0, 255, 0), 2)\n",
    "        \n",
    "        if not pothole_detected:\n",
    "            cv2.putText(rgb_frame, 'No Pothole', (50, 50),\n",
    "                       cv2.FONT_HERSHEY_SIMPLEX, 1, (0, 0, 255), 2)\n",
    "        \n",
    "        # Convert back to BGR for OpenCV output and writing to video\n",
    "        annotated_frame = cv2.cvtColor(rgb_frame, cv2.COLOR_RGB2BGR)\n",
    "        \n",
    "        # Write the annotated frame to the output video\n",
    "        out.write(annotated_frame)\n",
    "    \n",
    "    # Release resources\n",
    "    cap.release()\n",
    "    out.release()\n",
    "    print(f\"Annotated video saved as {output_path}\")"
   ]
  },
  {
   "cell_type": "code",
   "execution_count": 9,
   "metadata": {},
   "outputs": [
    {
     "name": "stdout",
     "output_type": "stream",
     "text": [
      "\n",
      "image 1/1 c:\\Users\\nandu\\Downloads\\Robotics-MFC-S4-D12\\pothole.jpg: 416x640 (no detections), 55.2ms\n",
      "Speed: 1.8ms preprocess, 55.2ms inference, 0.3ms postprocess per image at shape (1, 3, 416, 640)\n",
      "No Pothole Detected.\n"
     ]
    },
    {
     "data": {
      "text/plain": [
       "<Figure size 1000x800 with 1 Axes>"
      ]
     },
     "metadata": {},
     "output_type": "display_data"
    },
    {
     "name": "stdout",
     "output_type": "stream",
     "text": [
      "Annotated image saved as pothole_detection_result.jpg\n"
     ]
    }
   ],
   "source": [
    "# Process a single image\n",
    "image_path = 'pothole.jpg'  \n",
    "detect_pothole_in_image(best_model, image_path, scale_factor=0.1, grid_size=10)"
   ]
  },
  {
   "cell_type": "code",
   "execution_count": 10,
   "metadata": {},
   "outputs": [
    {
     "name": "stdout",
     "output_type": "stream",
     "text": [
      "Processing frame 1\n",
      "\n",
      "0: 384x640 (no detections), 52.7ms\n",
      "Speed: 1.4ms preprocess, 52.7ms inference, 0.3ms postprocess per image at shape (1, 3, 384, 640)\n",
      "Processing frame 2\n",
      "\n",
      "0: 384x640 (no detections), 40.1ms\n",
      "Speed: 1.4ms preprocess, 40.1ms inference, 0.2ms postprocess per image at shape (1, 3, 384, 640)\n",
      "Processing frame 3\n",
      "\n",
      "0: 384x640 (no detections), 41.5ms\n",
      "Speed: 1.2ms preprocess, 41.5ms inference, 0.2ms postprocess per image at shape (1, 3, 384, 640)\n",
      "Processing frame 4\n",
      "\n",
      "0: 384x640 (no detections), 44.3ms\n",
      "Speed: 1.3ms preprocess, 44.3ms inference, 0.2ms postprocess per image at shape (1, 3, 384, 640)\n",
      "Processing frame 5\n",
      "\n",
      "0: 384x640 (no detections), 47.5ms\n",
      "Speed: 1.7ms preprocess, 47.5ms inference, 0.2ms postprocess per image at shape (1, 3, 384, 640)\n",
      "Processing frame 6\n",
      "\n",
      "0: 384x640 (no detections), 43.2ms\n",
      "Speed: 1.7ms preprocess, 43.2ms inference, 0.2ms postprocess per image at shape (1, 3, 384, 640)\n",
      "Processing frame 7\n",
      "\n",
      "0: 384x640 (no detections), 41.0ms\n",
      "Speed: 1.8ms preprocess, 41.0ms inference, 0.3ms postprocess per image at shape (1, 3, 384, 640)\n",
      "Processing frame 8\n",
      "\n",
      "0: 384x640 (no detections), 40.3ms\n",
      "Speed: 1.1ms preprocess, 40.3ms inference, 0.3ms postprocess per image at shape (1, 3, 384, 640)\n",
      "Processing frame 9\n",
      "\n",
      "0: 384x640 (no detections), 45.1ms\n",
      "Speed: 1.7ms preprocess, 45.1ms inference, 0.9ms postprocess per image at shape (1, 3, 384, 640)\n",
      "Processing frame 10\n",
      "\n",
      "0: 384x640 (no detections), 53.2ms\n",
      "Speed: 1.9ms preprocess, 53.2ms inference, 0.3ms postprocess per image at shape (1, 3, 384, 640)\n",
      "Processing frame 11\n",
      "\n",
      "0: 384x640 (no detections), 54.8ms\n",
      "Speed: 1.2ms preprocess, 54.8ms inference, 0.2ms postprocess per image at shape (1, 3, 384, 640)\n",
      "Processing frame 12\n",
      "\n",
      "0: 384x640 (no detections), 51.8ms\n",
      "Speed: 1.7ms preprocess, 51.8ms inference, 0.4ms postprocess per image at shape (1, 3, 384, 640)\n",
      "Processing frame 13\n",
      "\n",
      "0: 384x640 (no detections), 50.2ms\n",
      "Speed: 1.4ms preprocess, 50.2ms inference, 0.3ms postprocess per image at shape (1, 3, 384, 640)\n",
      "Processing frame 14\n",
      "\n",
      "0: 384x640 (no detections), 43.5ms\n",
      "Speed: 1.6ms preprocess, 43.5ms inference, 0.3ms postprocess per image at shape (1, 3, 384, 640)\n",
      "Processing frame 15\n",
      "\n",
      "0: 384x640 (no detections), 43.4ms\n",
      "Speed: 2.0ms preprocess, 43.4ms inference, 0.2ms postprocess per image at shape (1, 3, 384, 640)\n",
      "Processing frame 16\n",
      "\n",
      "0: 384x640 (no detections), 51.6ms\n",
      "Speed: 2.4ms preprocess, 51.6ms inference, 0.2ms postprocess per image at shape (1, 3, 384, 640)\n",
      "Processing frame 17\n",
      "\n",
      "0: 384x640 (no detections), 55.2ms\n",
      "Speed: 1.5ms preprocess, 55.2ms inference, 0.2ms postprocess per image at shape (1, 3, 384, 640)\n",
      "Processing frame 18\n",
      "\n",
      "0: 384x640 (no detections), 54.6ms\n",
      "Speed: 1.5ms preprocess, 54.6ms inference, 0.3ms postprocess per image at shape (1, 3, 384, 640)\n",
      "Processing frame 19\n",
      "\n",
      "0: 384x640 (no detections), 51.3ms\n",
      "Speed: 1.5ms preprocess, 51.3ms inference, 0.3ms postprocess per image at shape (1, 3, 384, 640)\n",
      "Processing frame 20\n",
      "\n",
      "0: 384x640 (no detections), 52.3ms\n",
      "Speed: 1.3ms preprocess, 52.3ms inference, 0.3ms postprocess per image at shape (1, 3, 384, 640)\n",
      "Processing frame 21\n",
      "\n",
      "0: 384x640 (no detections), 46.7ms\n",
      "Speed: 1.4ms preprocess, 46.7ms inference, 0.3ms postprocess per image at shape (1, 3, 384, 640)\n",
      "Processing frame 22\n",
      "\n",
      "0: 384x640 (no detections), 43.5ms\n",
      "Speed: 1.3ms preprocess, 43.5ms inference, 0.3ms postprocess per image at shape (1, 3, 384, 640)\n",
      "Processing frame 23\n",
      "\n",
      "0: 384x640 (no detections), 54.2ms\n",
      "Speed: 1.3ms preprocess, 54.2ms inference, 0.3ms postprocess per image at shape (1, 3, 384, 640)\n",
      "Processing frame 24\n",
      "\n",
      "0: 384x640 (no detections), 60.9ms\n",
      "Speed: 1.4ms preprocess, 60.9ms inference, 0.3ms postprocess per image at shape (1, 3, 384, 640)\n",
      "Processing frame 25\n",
      "\n",
      "0: 384x640 (no detections), 56.2ms\n",
      "Speed: 1.2ms preprocess, 56.2ms inference, 0.2ms postprocess per image at shape (1, 3, 384, 640)\n",
      "Processing frame 26\n",
      "\n",
      "0: 384x640 (no detections), 43.9ms\n",
      "Speed: 1.2ms preprocess, 43.9ms inference, 0.3ms postprocess per image at shape (1, 3, 384, 640)\n",
      "Processing frame 27\n",
      "\n",
      "0: 384x640 (no detections), 50.5ms\n",
      "Speed: 1.1ms preprocess, 50.5ms inference, 0.3ms postprocess per image at shape (1, 3, 384, 640)\n",
      "Processing frame 28\n",
      "\n",
      "0: 384x640 (no detections), 43.6ms\n",
      "Speed: 1.7ms preprocess, 43.6ms inference, 0.3ms postprocess per image at shape (1, 3, 384, 640)\n",
      "Processing frame 29\n",
      "\n",
      "0: 384x640 (no detections), 50.6ms\n",
      "Speed: 1.5ms preprocess, 50.6ms inference, 0.3ms postprocess per image at shape (1, 3, 384, 640)\n",
      "Processing frame 30\n",
      "\n",
      "0: 384x640 (no detections), 73.2ms\n",
      "Speed: 1.5ms preprocess, 73.2ms inference, 0.3ms postprocess per image at shape (1, 3, 384, 640)\n",
      "Processing frame 31\n",
      "\n",
      "0: 384x640 (no detections), 52.1ms\n",
      "Speed: 1.4ms preprocess, 52.1ms inference, 0.3ms postprocess per image at shape (1, 3, 384, 640)\n",
      "Processing frame 32\n",
      "\n",
      "0: 384x640 (no detections), 52.7ms\n",
      "Speed: 1.6ms preprocess, 52.7ms inference, 0.3ms postprocess per image at shape (1, 3, 384, 640)\n",
      "Processing frame 33\n",
      "\n",
      "0: 384x640 (no detections), 43.4ms\n",
      "Speed: 1.1ms preprocess, 43.4ms inference, 0.3ms postprocess per image at shape (1, 3, 384, 640)\n",
      "Processing frame 34\n",
      "\n",
      "0: 384x640 (no detections), 40.9ms\n",
      "Speed: 1.7ms preprocess, 40.9ms inference, 0.4ms postprocess per image at shape (1, 3, 384, 640)\n",
      "Processing frame 35\n",
      "\n",
      "0: 384x640 (no detections), 41.7ms\n",
      "Speed: 1.5ms preprocess, 41.7ms inference, 0.2ms postprocess per image at shape (1, 3, 384, 640)\n",
      "Processing frame 36\n",
      "\n",
      "0: 384x640 (no detections), 42.9ms\n",
      "Speed: 1.6ms preprocess, 42.9ms inference, 0.2ms postprocess per image at shape (1, 3, 384, 640)\n",
      "Processing frame 37\n",
      "\n",
      "0: 384x640 (no detections), 45.3ms\n",
      "Speed: 1.7ms preprocess, 45.3ms inference, 0.2ms postprocess per image at shape (1, 3, 384, 640)\n",
      "Processing frame 38\n",
      "\n",
      "0: 384x640 (no detections), 43.5ms\n",
      "Speed: 1.8ms preprocess, 43.5ms inference, 0.2ms postprocess per image at shape (1, 3, 384, 640)\n",
      "Processing frame 39\n",
      "\n",
      "0: 384x640 (no detections), 45.0ms\n",
      "Speed: 1.4ms preprocess, 45.0ms inference, 0.2ms postprocess per image at shape (1, 3, 384, 640)\n",
      "Processing frame 40\n",
      "\n",
      "0: 384x640 (no detections), 43.3ms\n",
      "Speed: 1.5ms preprocess, 43.3ms inference, 0.2ms postprocess per image at shape (1, 3, 384, 640)\n",
      "Processing frame 41\n",
      "\n",
      "0: 384x640 (no detections), 44.2ms\n",
      "Speed: 1.3ms preprocess, 44.2ms inference, 0.2ms postprocess per image at shape (1, 3, 384, 640)\n",
      "Processing frame 42\n",
      "\n",
      "0: 384x640 (no detections), 43.2ms\n",
      "Speed: 1.2ms preprocess, 43.2ms inference, 0.3ms postprocess per image at shape (1, 3, 384, 640)\n",
      "Processing frame 43\n",
      "\n",
      "0: 384x640 (no detections), 43.9ms\n",
      "Speed: 1.4ms preprocess, 43.9ms inference, 0.3ms postprocess per image at shape (1, 3, 384, 640)\n",
      "Processing frame 44\n",
      "\n",
      "0: 384x640 (no detections), 47.1ms\n",
      "Speed: 2.5ms preprocess, 47.1ms inference, 0.3ms postprocess per image at shape (1, 3, 384, 640)\n",
      "Processing frame 45\n",
      "\n",
      "0: 384x640 (no detections), 43.4ms\n",
      "Speed: 1.2ms preprocess, 43.4ms inference, 0.2ms postprocess per image at shape (1, 3, 384, 640)\n",
      "Processing frame 46\n",
      "\n",
      "0: 384x640 (no detections), 47.5ms\n",
      "Speed: 1.7ms preprocess, 47.5ms inference, 0.3ms postprocess per image at shape (1, 3, 384, 640)\n",
      "Processing frame 47\n",
      "\n",
      "0: 384x640 (no detections), 49.5ms\n",
      "Speed: 2.0ms preprocess, 49.5ms inference, 0.3ms postprocess per image at shape (1, 3, 384, 640)\n",
      "Processing frame 48\n",
      "\n",
      "0: 384x640 (no detections), 42.7ms\n",
      "Speed: 1.4ms preprocess, 42.7ms inference, 0.3ms postprocess per image at shape (1, 3, 384, 640)\n",
      "Processing frame 49\n",
      "\n",
      "0: 384x640 (no detections), 46.7ms\n",
      "Speed: 1.4ms preprocess, 46.7ms inference, 0.2ms postprocess per image at shape (1, 3, 384, 640)\n",
      "Processing frame 50\n",
      "\n",
      "0: 384x640 (no detections), 39.5ms\n",
      "Speed: 1.9ms preprocess, 39.5ms inference, 0.3ms postprocess per image at shape (1, 3, 384, 640)\n",
      "Processing frame 51\n",
      "\n",
      "0: 384x640 (no detections), 40.2ms\n",
      "Speed: 1.6ms preprocess, 40.2ms inference, 0.3ms postprocess per image at shape (1, 3, 384, 640)\n",
      "Processing frame 52\n",
      "\n",
      "0: 384x640 (no detections), 39.8ms\n",
      "Speed: 1.3ms preprocess, 39.8ms inference, 0.3ms postprocess per image at shape (1, 3, 384, 640)\n",
      "Processing frame 53\n",
      "\n",
      "0: 384x640 (no detections), 40.7ms\n",
      "Speed: 1.3ms preprocess, 40.7ms inference, 0.3ms postprocess per image at shape (1, 3, 384, 640)\n",
      "Processing frame 54\n",
      "\n",
      "0: 384x640 (no detections), 39.9ms\n",
      "Speed: 1.3ms preprocess, 39.9ms inference, 0.3ms postprocess per image at shape (1, 3, 384, 640)\n",
      "Processing frame 55\n",
      "\n",
      "0: 384x640 (no detections), 42.6ms\n",
      "Speed: 1.9ms preprocess, 42.6ms inference, 0.3ms postprocess per image at shape (1, 3, 384, 640)\n",
      "Processing frame 56\n",
      "\n",
      "0: 384x640 (no detections), 40.3ms\n",
      "Speed: 1.5ms preprocess, 40.3ms inference, 0.3ms postprocess per image at shape (1, 3, 384, 640)\n",
      "Processing frame 57\n",
      "\n",
      "0: 384x640 (no detections), 39.9ms\n",
      "Speed: 1.2ms preprocess, 39.9ms inference, 0.2ms postprocess per image at shape (1, 3, 384, 640)\n",
      "Processing frame 58\n",
      "\n",
      "0: 384x640 (no detections), 40.1ms\n",
      "Speed: 1.6ms preprocess, 40.1ms inference, 0.3ms postprocess per image at shape (1, 3, 384, 640)\n",
      "Processing frame 59\n",
      "\n",
      "0: 384x640 (no detections), 40.7ms\n",
      "Speed: 1.3ms preprocess, 40.7ms inference, 0.3ms postprocess per image at shape (1, 3, 384, 640)\n",
      "Processing frame 60\n",
      "\n",
      "0: 384x640 (no detections), 39.6ms\n",
      "Speed: 1.2ms preprocess, 39.6ms inference, 0.3ms postprocess per image at shape (1, 3, 384, 640)\n",
      "Processing frame 61\n",
      "\n",
      "0: 384x640 (no detections), 39.6ms\n",
      "Speed: 1.4ms preprocess, 39.6ms inference, 0.3ms postprocess per image at shape (1, 3, 384, 640)\n",
      "Processing frame 62\n",
      "\n",
      "0: 384x640 (no detections), 39.9ms\n",
      "Speed: 1.7ms preprocess, 39.9ms inference, 0.2ms postprocess per image at shape (1, 3, 384, 640)\n",
      "Processing frame 63\n",
      "\n",
      "0: 384x640 1 pothole, 40.4ms\n",
      "Speed: 1.3ms preprocess, 40.4ms inference, 0.4ms postprocess per image at shape (1, 3, 384, 640)\n",
      "Frame 63: Pothole Detected with confidence 0.57!\n",
      "Processing frame 64\n",
      "\n",
      "0: 384x640 (no detections), 38.7ms\n",
      "Speed: 1.1ms preprocess, 38.7ms inference, 0.3ms postprocess per image at shape (1, 3, 384, 640)\n",
      "Processing frame 65\n",
      "\n",
      "0: 384x640 (no detections), 41.6ms\n",
      "Speed: 1.7ms preprocess, 41.6ms inference, 0.3ms postprocess per image at shape (1, 3, 384, 640)\n",
      "Processing frame 66\n",
      "\n",
      "0: 384x640 1 pothole, 40.3ms\n",
      "Speed: 1.1ms preprocess, 40.3ms inference, 0.5ms postprocess per image at shape (1, 3, 384, 640)\n",
      "Frame 66: Pothole Detected with confidence 0.53!\n",
      "Processing frame 67\n",
      "\n",
      "0: 384x640 1 pothole, 41.2ms\n",
      "Speed: 1.3ms preprocess, 41.2ms inference, 0.4ms postprocess per image at shape (1, 3, 384, 640)\n",
      "Frame 67: Pothole Detected with confidence 0.53!\n",
      "Processing frame 68\n",
      "\n",
      "0: 384x640 1 pothole, 39.7ms\n",
      "Speed: 1.3ms preprocess, 39.7ms inference, 0.4ms postprocess per image at shape (1, 3, 384, 640)\n",
      "Frame 68: Pothole Detected with confidence 0.52!\n",
      "Processing frame 69\n",
      "\n",
      "0: 384x640 (no detections), 49.1ms\n",
      "Speed: 2.0ms preprocess, 49.1ms inference, 0.2ms postprocess per image at shape (1, 3, 384, 640)\n",
      "Processing frame 70\n",
      "\n",
      "0: 384x640 (no detections), 49.2ms\n",
      "Speed: 1.2ms preprocess, 49.2ms inference, 0.2ms postprocess per image at shape (1, 3, 384, 640)\n",
      "Processing frame 71\n",
      "\n",
      "0: 384x640 1 pothole, 42.2ms\n",
      "Speed: 1.3ms preprocess, 42.2ms inference, 0.4ms postprocess per image at shape (1, 3, 384, 640)\n",
      "Frame 71: Pothole Detected with confidence 0.60!\n",
      "Processing frame 72\n",
      "\n",
      "0: 384x640 (no detections), 43.0ms\n",
      "Speed: 1.3ms preprocess, 43.0ms inference, 0.3ms postprocess per image at shape (1, 3, 384, 640)\n",
      "Processing frame 73\n",
      "\n",
      "0: 384x640 (no detections), 39.3ms\n",
      "Speed: 1.8ms preprocess, 39.3ms inference, 0.2ms postprocess per image at shape (1, 3, 384, 640)\n",
      "Processing frame 74\n",
      "\n",
      "0: 384x640 (no detections), 39.7ms\n",
      "Speed: 1.3ms preprocess, 39.7ms inference, 0.2ms postprocess per image at shape (1, 3, 384, 640)\n",
      "Processing frame 75\n",
      "\n",
      "0: 384x640 (no detections), 41.3ms\n",
      "Speed: 2.2ms preprocess, 41.3ms inference, 0.3ms postprocess per image at shape (1, 3, 384, 640)\n",
      "Processing frame 76\n",
      "\n",
      "0: 384x640 (no detections), 43.2ms\n",
      "Speed: 1.9ms preprocess, 43.2ms inference, 0.2ms postprocess per image at shape (1, 3, 384, 640)\n",
      "Processing frame 77\n",
      "\n",
      "0: 384x640 (no detections), 42.2ms\n",
      "Speed: 1.8ms preprocess, 42.2ms inference, 0.3ms postprocess per image at shape (1, 3, 384, 640)\n",
      "Processing frame 78\n",
      "\n",
      "0: 384x640 (no detections), 40.7ms\n",
      "Speed: 1.5ms preprocess, 40.7ms inference, 0.3ms postprocess per image at shape (1, 3, 384, 640)\n",
      "Processing frame 79\n",
      "\n",
      "0: 384x640 (no detections), 40.7ms\n",
      "Speed: 1.6ms preprocess, 40.7ms inference, 0.3ms postprocess per image at shape (1, 3, 384, 640)\n",
      "Processing frame 80\n",
      "\n",
      "0: 384x640 (no detections), 40.8ms\n",
      "Speed: 1.6ms preprocess, 40.8ms inference, 0.2ms postprocess per image at shape (1, 3, 384, 640)\n",
      "Processing frame 81\n",
      "\n",
      "0: 384x640 (no detections), 41.3ms\n",
      "Speed: 2.0ms preprocess, 41.3ms inference, 0.3ms postprocess per image at shape (1, 3, 384, 640)\n",
      "Processing frame 82\n",
      "\n",
      "0: 384x640 (no detections), 39.6ms\n",
      "Speed: 1.6ms preprocess, 39.6ms inference, 0.3ms postprocess per image at shape (1, 3, 384, 640)\n",
      "Processing frame 83\n",
      "\n",
      "0: 384x640 (no detections), 42.8ms\n",
      "Speed: 1.7ms preprocess, 42.8ms inference, 0.2ms postprocess per image at shape (1, 3, 384, 640)\n",
      "Processing frame 84\n",
      "\n",
      "0: 384x640 (no detections), 38.9ms\n",
      "Speed: 1.3ms preprocess, 38.9ms inference, 0.3ms postprocess per image at shape (1, 3, 384, 640)\n",
      "Processing frame 85\n",
      "\n",
      "0: 384x640 (no detections), 41.4ms\n",
      "Speed: 1.5ms preprocess, 41.4ms inference, 0.3ms postprocess per image at shape (1, 3, 384, 640)\n",
      "Processing frame 86\n",
      "\n",
      "0: 384x640 (no detections), 43.1ms\n",
      "Speed: 2.4ms preprocess, 43.1ms inference, 0.3ms postprocess per image at shape (1, 3, 384, 640)\n",
      "Processing frame 87\n",
      "\n",
      "0: 384x640 1 pothole, 41.7ms\n",
      "Speed: 1.9ms preprocess, 41.7ms inference, 0.4ms postprocess per image at shape (1, 3, 384, 640)\n",
      "Frame 87: Pothole Detected with confidence 0.52!\n",
      "Processing frame 88\n",
      "\n",
      "0: 384x640 (no detections), 49.4ms\n",
      "Speed: 2.0ms preprocess, 49.4ms inference, 0.2ms postprocess per image at shape (1, 3, 384, 640)\n",
      "Processing frame 89\n",
      "\n",
      "0: 384x640 (no detections), 61.5ms\n",
      "Speed: 1.6ms preprocess, 61.5ms inference, 0.2ms postprocess per image at shape (1, 3, 384, 640)\n",
      "Processing frame 90\n",
      "\n",
      "0: 384x640 (no detections), 52.0ms\n",
      "Speed: 1.4ms preprocess, 52.0ms inference, 0.2ms postprocess per image at shape (1, 3, 384, 640)\n",
      "Processing frame 91\n",
      "\n",
      "0: 384x640 (no detections), 39.6ms\n",
      "Speed: 1.5ms preprocess, 39.6ms inference, 0.3ms postprocess per image at shape (1, 3, 384, 640)\n",
      "Processing frame 92\n",
      "\n",
      "0: 384x640 (no detections), 41.5ms\n",
      "Speed: 1.9ms preprocess, 41.5ms inference, 0.2ms postprocess per image at shape (1, 3, 384, 640)\n",
      "Processing frame 93\n",
      "\n",
      "0: 384x640 (no detections), 41.1ms\n",
      "Speed: 1.3ms preprocess, 41.1ms inference, 0.3ms postprocess per image at shape (1, 3, 384, 640)\n",
      "Processing frame 94\n",
      "\n",
      "0: 384x640 (no detections), 41.4ms\n",
      "Speed: 1.4ms preprocess, 41.4ms inference, 0.2ms postprocess per image at shape (1, 3, 384, 640)\n",
      "Processing frame 95\n",
      "\n",
      "0: 384x640 (no detections), 43.7ms\n",
      "Speed: 1.7ms preprocess, 43.7ms inference, 0.2ms postprocess per image at shape (1, 3, 384, 640)\n",
      "Processing frame 96\n",
      "\n",
      "0: 384x640 (no detections), 41.0ms\n",
      "Speed: 1.7ms preprocess, 41.0ms inference, 0.2ms postprocess per image at shape (1, 3, 384, 640)\n",
      "Processing frame 97\n",
      "\n",
      "0: 384x640 (no detections), 40.1ms\n",
      "Speed: 1.4ms preprocess, 40.1ms inference, 0.3ms postprocess per image at shape (1, 3, 384, 640)\n",
      "Processing frame 98\n",
      "\n",
      "0: 384x640 (no detections), 39.5ms\n",
      "Speed: 1.7ms preprocess, 39.5ms inference, 0.2ms postprocess per image at shape (1, 3, 384, 640)\n",
      "Processing frame 99\n",
      "\n",
      "0: 384x640 (no detections), 39.9ms\n",
      "Speed: 1.4ms preprocess, 39.9ms inference, 0.3ms postprocess per image at shape (1, 3, 384, 640)\n",
      "Processing frame 100\n",
      "\n",
      "0: 384x640 (no detections), 41.7ms\n",
      "Speed: 2.0ms preprocess, 41.7ms inference, 0.2ms postprocess per image at shape (1, 3, 384, 640)\n",
      "Processing frame 101\n",
      "\n",
      "0: 384x640 (no detections), 39.2ms\n",
      "Speed: 1.2ms preprocess, 39.2ms inference, 0.3ms postprocess per image at shape (1, 3, 384, 640)\n",
      "Processing frame 102\n",
      "\n",
      "0: 384x640 (no detections), 45.2ms\n",
      "Speed: 1.5ms preprocess, 45.2ms inference, 0.3ms postprocess per image at shape (1, 3, 384, 640)\n",
      "Processing frame 103\n",
      "\n",
      "0: 384x640 (no detections), 44.7ms\n",
      "Speed: 1.6ms preprocess, 44.7ms inference, 0.3ms postprocess per image at shape (1, 3, 384, 640)\n",
      "Processing frame 104\n",
      "\n",
      "0: 384x640 (no detections), 40.9ms\n",
      "Speed: 1.5ms preprocess, 40.9ms inference, 0.2ms postprocess per image at shape (1, 3, 384, 640)\n",
      "Processing frame 105\n",
      "\n",
      "0: 384x640 (no detections), 40.9ms\n",
      "Speed: 1.5ms preprocess, 40.9ms inference, 0.3ms postprocess per image at shape (1, 3, 384, 640)\n",
      "Processing frame 106\n",
      "\n",
      "0: 384x640 (no detections), 40.8ms\n",
      "Speed: 1.2ms preprocess, 40.8ms inference, 0.3ms postprocess per image at shape (1, 3, 384, 640)\n",
      "Processing frame 107\n",
      "\n",
      "0: 384x640 (no detections), 40.3ms\n",
      "Speed: 1.3ms preprocess, 40.3ms inference, 0.2ms postprocess per image at shape (1, 3, 384, 640)\n",
      "Processing frame 108\n",
      "\n",
      "0: 384x640 (no detections), 41.0ms\n",
      "Speed: 1.6ms preprocess, 41.0ms inference, 0.2ms postprocess per image at shape (1, 3, 384, 640)\n",
      "Processing frame 109\n",
      "\n",
      "0: 384x640 (no detections), 54.8ms\n",
      "Speed: 1.8ms preprocess, 54.8ms inference, 0.2ms postprocess per image at shape (1, 3, 384, 640)\n",
      "Processing frame 110\n",
      "\n",
      "0: 384x640 (no detections), 50.1ms\n",
      "Speed: 1.7ms preprocess, 50.1ms inference, 0.2ms postprocess per image at shape (1, 3, 384, 640)\n",
      "Processing frame 111\n",
      "\n",
      "0: 384x640 (no detections), 41.2ms\n",
      "Speed: 1.4ms preprocess, 41.2ms inference, 0.3ms postprocess per image at shape (1, 3, 384, 640)\n",
      "Processing frame 112\n",
      "\n",
      "0: 384x640 (no detections), 40.2ms\n",
      "Speed: 1.5ms preprocess, 40.2ms inference, 0.3ms postprocess per image at shape (1, 3, 384, 640)\n",
      "Processing frame 113\n",
      "\n",
      "0: 384x640 (no detections), 41.9ms\n",
      "Speed: 1.9ms preprocess, 41.9ms inference, 0.2ms postprocess per image at shape (1, 3, 384, 640)\n",
      "Processing frame 114\n",
      "\n",
      "0: 384x640 (no detections), 40.0ms\n",
      "Speed: 1.6ms preprocess, 40.0ms inference, 0.2ms postprocess per image at shape (1, 3, 384, 640)\n",
      "Processing frame 115\n",
      "\n",
      "0: 384x640 (no detections), 41.1ms\n",
      "Speed: 1.2ms preprocess, 41.1ms inference, 0.2ms postprocess per image at shape (1, 3, 384, 640)\n",
      "Processing frame 116\n",
      "\n",
      "0: 384x640 (no detections), 40.8ms\n",
      "Speed: 1.5ms preprocess, 40.8ms inference, 0.2ms postprocess per image at shape (1, 3, 384, 640)\n",
      "Processing frame 117\n",
      "\n",
      "0: 384x640 (no detections), 39.6ms\n",
      "Speed: 1.6ms preprocess, 39.6ms inference, 0.2ms postprocess per image at shape (1, 3, 384, 640)\n",
      "Processing frame 118\n",
      "\n",
      "0: 384x640 (no detections), 42.0ms\n",
      "Speed: 1.8ms preprocess, 42.0ms inference, 0.4ms postprocess per image at shape (1, 3, 384, 640)\n",
      "Processing frame 119\n",
      "\n",
      "0: 384x640 (no detections), 40.9ms\n",
      "Speed: 1.7ms preprocess, 40.9ms inference, 0.2ms postprocess per image at shape (1, 3, 384, 640)\n",
      "Processing frame 120\n",
      "\n",
      "0: 384x640 (no detections), 42.0ms\n",
      "Speed: 1.5ms preprocess, 42.0ms inference, 0.2ms postprocess per image at shape (1, 3, 384, 640)\n",
      "Processing frame 121\n",
      "\n",
      "0: 384x640 (no detections), 42.2ms\n",
      "Speed: 2.1ms preprocess, 42.2ms inference, 0.2ms postprocess per image at shape (1, 3, 384, 640)\n",
      "Processing frame 122\n",
      "\n",
      "0: 384x640 (no detections), 40.8ms\n",
      "Speed: 1.6ms preprocess, 40.8ms inference, 0.3ms postprocess per image at shape (1, 3, 384, 640)\n",
      "Processing frame 123\n",
      "\n",
      "0: 384x640 (no detections), 41.8ms\n",
      "Speed: 2.0ms preprocess, 41.8ms inference, 0.3ms postprocess per image at shape (1, 3, 384, 640)\n",
      "Processing frame 124\n",
      "\n",
      "0: 384x640 (no detections), 41.7ms\n",
      "Speed: 1.1ms preprocess, 41.7ms inference, 0.3ms postprocess per image at shape (1, 3, 384, 640)\n",
      "Processing frame 125\n",
      "\n",
      "0: 384x640 (no detections), 41.9ms\n",
      "Speed: 1.7ms preprocess, 41.9ms inference, 0.2ms postprocess per image at shape (1, 3, 384, 640)\n",
      "Processing frame 126\n",
      "\n",
      "0: 384x640 (no detections), 43.0ms\n",
      "Speed: 1.8ms preprocess, 43.0ms inference, 0.2ms postprocess per image at shape (1, 3, 384, 640)\n",
      "Processing frame 127\n",
      "\n",
      "0: 384x640 (no detections), 40.6ms\n",
      "Speed: 1.2ms preprocess, 40.6ms inference, 0.2ms postprocess per image at shape (1, 3, 384, 640)\n",
      "Processing frame 128\n",
      "\n",
      "0: 384x640 (no detections), 40.1ms\n",
      "Speed: 1.3ms preprocess, 40.1ms inference, 0.3ms postprocess per image at shape (1, 3, 384, 640)\n",
      "Processing frame 129\n",
      "\n",
      "0: 384x640 (no detections), 66.6ms\n",
      "Speed: 1.7ms preprocess, 66.6ms inference, 0.2ms postprocess per image at shape (1, 3, 384, 640)\n",
      "Processing frame 130\n",
      "\n",
      "0: 384x640 (no detections), 46.4ms\n",
      "Speed: 1.6ms preprocess, 46.4ms inference, 0.2ms postprocess per image at shape (1, 3, 384, 640)\n",
      "Processing frame 131\n",
      "\n",
      "0: 384x640 (no detections), 42.0ms\n",
      "Speed: 1.4ms preprocess, 42.0ms inference, 0.2ms postprocess per image at shape (1, 3, 384, 640)\n",
      "Processing frame 132\n",
      "\n",
      "0: 384x640 (no detections), 41.8ms\n",
      "Speed: 1.6ms preprocess, 41.8ms inference, 0.2ms postprocess per image at shape (1, 3, 384, 640)\n",
      "Processing frame 133\n",
      "\n",
      "0: 384x640 (no detections), 41.9ms\n",
      "Speed: 1.5ms preprocess, 41.9ms inference, 0.2ms postprocess per image at shape (1, 3, 384, 640)\n",
      "Processing frame 134\n",
      "\n",
      "0: 384x640 (no detections), 41.0ms\n",
      "Speed: 1.8ms preprocess, 41.0ms inference, 0.2ms postprocess per image at shape (1, 3, 384, 640)\n",
      "Processing frame 135\n",
      "\n",
      "0: 384x640 (no detections), 41.5ms\n",
      "Speed: 2.2ms preprocess, 41.5ms inference, 0.3ms postprocess per image at shape (1, 3, 384, 640)\n",
      "Processing frame 136\n",
      "\n",
      "0: 384x640 (no detections), 39.3ms\n",
      "Speed: 1.5ms preprocess, 39.3ms inference, 0.3ms postprocess per image at shape (1, 3, 384, 640)\n",
      "Processing frame 137\n",
      "\n",
      "0: 384x640 (no detections), 40.0ms\n",
      "Speed: 1.5ms preprocess, 40.0ms inference, 0.3ms postprocess per image at shape (1, 3, 384, 640)\n",
      "Processing frame 138\n",
      "\n",
      "0: 384x640 (no detections), 41.6ms\n",
      "Speed: 2.0ms preprocess, 41.6ms inference, 0.3ms postprocess per image at shape (1, 3, 384, 640)\n",
      "Processing frame 139\n",
      "\n",
      "0: 384x640 (no detections), 42.6ms\n",
      "Speed: 1.9ms preprocess, 42.6ms inference, 0.2ms postprocess per image at shape (1, 3, 384, 640)\n",
      "Processing frame 140\n",
      "\n",
      "0: 384x640 (no detections), 42.5ms\n",
      "Speed: 1.6ms preprocess, 42.5ms inference, 0.2ms postprocess per image at shape (1, 3, 384, 640)\n",
      "Processing frame 141\n",
      "\n",
      "0: 384x640 (no detections), 43.2ms\n",
      "Speed: 1.6ms preprocess, 43.2ms inference, 0.2ms postprocess per image at shape (1, 3, 384, 640)\n",
      "Processing frame 142\n",
      "\n",
      "0: 384x640 (no detections), 40.0ms\n",
      "Speed: 1.5ms preprocess, 40.0ms inference, 0.4ms postprocess per image at shape (1, 3, 384, 640)\n",
      "Processing frame 143\n",
      "\n",
      "0: 384x640 (no detections), 41.2ms\n",
      "Speed: 1.2ms preprocess, 41.2ms inference, 0.2ms postprocess per image at shape (1, 3, 384, 640)\n",
      "Processing frame 144\n",
      "\n",
      "0: 384x640 (no detections), 42.5ms\n",
      "Speed: 1.7ms preprocess, 42.5ms inference, 0.3ms postprocess per image at shape (1, 3, 384, 640)\n",
      "Processing frame 145\n",
      "\n",
      "0: 384x640 (no detections), 39.7ms\n",
      "Speed: 1.2ms preprocess, 39.7ms inference, 0.2ms postprocess per image at shape (1, 3, 384, 640)\n",
      "Processing frame 146\n",
      "\n",
      "0: 384x640 (no detections), 41.8ms\n",
      "Speed: 1.5ms preprocess, 41.8ms inference, 0.2ms postprocess per image at shape (1, 3, 384, 640)\n",
      "Processing frame 147\n",
      "\n",
      "0: 384x640 (no detections), 40.1ms\n",
      "Speed: 1.7ms preprocess, 40.1ms inference, 0.2ms postprocess per image at shape (1, 3, 384, 640)\n",
      "Processing frame 148\n",
      "\n",
      "0: 384x640 (no detections), 40.9ms\n",
      "Speed: 1.4ms preprocess, 40.9ms inference, 0.2ms postprocess per image at shape (1, 3, 384, 640)\n",
      "Processing frame 149\n",
      "\n",
      "0: 384x640 (no detections), 41.9ms\n",
      "Speed: 1.5ms preprocess, 41.9ms inference, 0.2ms postprocess per image at shape (1, 3, 384, 640)\n",
      "Processing frame 150\n",
      "\n",
      "0: 384x640 (no detections), 54.2ms\n",
      "Speed: 2.0ms preprocess, 54.2ms inference, 0.2ms postprocess per image at shape (1, 3, 384, 640)\n",
      "Processing frame 151\n",
      "\n",
      "0: 384x640 (no detections), 45.7ms\n",
      "Speed: 1.4ms preprocess, 45.7ms inference, 0.2ms postprocess per image at shape (1, 3, 384, 640)\n",
      "Processing frame 152\n",
      "\n",
      "0: 384x640 (no detections), 44.3ms\n",
      "Speed: 1.6ms preprocess, 44.3ms inference, 0.2ms postprocess per image at shape (1, 3, 384, 640)\n",
      "Processing frame 153\n",
      "\n",
      "0: 384x640 (no detections), 41.1ms\n",
      "Speed: 1.7ms preprocess, 41.1ms inference, 0.3ms postprocess per image at shape (1, 3, 384, 640)\n",
      "Processing frame 154\n",
      "\n",
      "0: 384x640 (no detections), 46.6ms\n",
      "Speed: 1.6ms preprocess, 46.6ms inference, 0.2ms postprocess per image at shape (1, 3, 384, 640)\n",
      "Processing frame 155\n",
      "\n",
      "0: 384x640 (no detections), 44.8ms\n",
      "Speed: 1.6ms preprocess, 44.8ms inference, 0.3ms postprocess per image at shape (1, 3, 384, 640)\n",
      "Processing frame 156\n",
      "\n",
      "0: 384x640 (no detections), 41.3ms\n",
      "Speed: 2.3ms preprocess, 41.3ms inference, 0.2ms postprocess per image at shape (1, 3, 384, 640)\n",
      "Processing frame 157\n",
      "\n",
      "0: 384x640 (no detections), 43.3ms\n",
      "Speed: 1.6ms preprocess, 43.3ms inference, 0.3ms postprocess per image at shape (1, 3, 384, 640)\n",
      "Processing frame 158\n",
      "\n",
      "0: 384x640 (no detections), 41.6ms\n",
      "Speed: 2.0ms preprocess, 41.6ms inference, 0.3ms postprocess per image at shape (1, 3, 384, 640)\n",
      "Processing frame 159\n",
      "\n",
      "0: 384x640 (no detections), 40.7ms\n",
      "Speed: 1.2ms preprocess, 40.7ms inference, 0.2ms postprocess per image at shape (1, 3, 384, 640)\n",
      "Processing frame 160\n",
      "\n",
      "0: 384x640 (no detections), 39.7ms\n",
      "Speed: 1.3ms preprocess, 39.7ms inference, 0.3ms postprocess per image at shape (1, 3, 384, 640)\n",
      "Processing frame 161\n",
      "\n",
      "0: 384x640 (no detections), 40.9ms\n",
      "Speed: 1.3ms preprocess, 40.9ms inference, 0.3ms postprocess per image at shape (1, 3, 384, 640)\n",
      "Processing frame 162\n",
      "\n",
      "0: 384x640 (no detections), 43.1ms\n",
      "Speed: 1.8ms preprocess, 43.1ms inference, 0.2ms postprocess per image at shape (1, 3, 384, 640)\n",
      "Processing frame 163\n",
      "\n",
      "0: 384x640 (no detections), 40.8ms\n",
      "Speed: 2.3ms preprocess, 40.8ms inference, 0.2ms postprocess per image at shape (1, 3, 384, 640)\n",
      "Processing frame 164\n",
      "\n",
      "0: 384x640 (no detections), 41.9ms\n",
      "Speed: 1.9ms preprocess, 41.9ms inference, 0.2ms postprocess per image at shape (1, 3, 384, 640)\n",
      "Processing frame 165\n",
      "\n",
      "0: 384x640 (no detections), 43.5ms\n",
      "Speed: 1.9ms preprocess, 43.5ms inference, 0.2ms postprocess per image at shape (1, 3, 384, 640)\n",
      "Processing frame 166\n",
      "\n",
      "0: 384x640 (no detections), 39.8ms\n",
      "Speed: 1.2ms preprocess, 39.8ms inference, 0.4ms postprocess per image at shape (1, 3, 384, 640)\n",
      "Processing frame 167\n",
      "\n",
      "0: 384x640 (no detections), 41.1ms\n",
      "Speed: 1.2ms preprocess, 41.1ms inference, 0.3ms postprocess per image at shape (1, 3, 384, 640)\n",
      "Processing frame 168\n",
      "\n",
      "0: 384x640 (no detections), 42.7ms\n",
      "Speed: 2.1ms preprocess, 42.7ms inference, 0.2ms postprocess per image at shape (1, 3, 384, 640)\n",
      "Processing frame 169\n",
      "\n",
      "0: 384x640 (no detections), 51.1ms\n",
      "Speed: 2.2ms preprocess, 51.1ms inference, 0.2ms postprocess per image at shape (1, 3, 384, 640)\n",
      "Processing frame 170\n",
      "\n",
      "0: 384x640 (no detections), 52.3ms\n",
      "Speed: 1.6ms preprocess, 52.3ms inference, 0.2ms postprocess per image at shape (1, 3, 384, 640)\n",
      "Processing frame 171\n",
      "\n",
      "0: 384x640 (no detections), 41.5ms\n",
      "Speed: 1.8ms preprocess, 41.5ms inference, 0.3ms postprocess per image at shape (1, 3, 384, 640)\n",
      "Processing frame 172\n",
      "\n",
      "0: 384x640 (no detections), 39.8ms\n",
      "Speed: 1.7ms preprocess, 39.8ms inference, 0.2ms postprocess per image at shape (1, 3, 384, 640)\n",
      "Processing frame 173\n",
      "\n",
      "0: 384x640 (no detections), 42.1ms\n",
      "Speed: 2.0ms preprocess, 42.1ms inference, 0.3ms postprocess per image at shape (1, 3, 384, 640)\n",
      "Processing frame 174\n",
      "\n",
      "0: 384x640 (no detections), 41.3ms\n",
      "Speed: 2.0ms preprocess, 41.3ms inference, 0.3ms postprocess per image at shape (1, 3, 384, 640)\n",
      "Processing frame 175\n",
      "\n",
      "0: 384x640 (no detections), 41.0ms\n",
      "Speed: 1.5ms preprocess, 41.0ms inference, 0.4ms postprocess per image at shape (1, 3, 384, 640)\n",
      "Processing frame 176\n",
      "\n",
      "0: 384x640 (no detections), 39.7ms\n",
      "Speed: 1.7ms preprocess, 39.7ms inference, 0.2ms postprocess per image at shape (1, 3, 384, 640)\n",
      "Processing frame 177\n",
      "\n",
      "0: 384x640 (no detections), 42.4ms\n",
      "Speed: 1.8ms preprocess, 42.4ms inference, 0.3ms postprocess per image at shape (1, 3, 384, 640)\n",
      "Processing frame 178\n",
      "\n",
      "0: 384x640 (no detections), 40.5ms\n",
      "Speed: 1.6ms preprocess, 40.5ms inference, 0.2ms postprocess per image at shape (1, 3, 384, 640)\n",
      "Processing frame 179\n",
      "\n",
      "0: 384x640 (no detections), 41.3ms\n",
      "Speed: 1.2ms preprocess, 41.3ms inference, 0.2ms postprocess per image at shape (1, 3, 384, 640)\n",
      "Processing frame 180\n",
      "\n",
      "0: 384x640 (no detections), 44.5ms\n",
      "Speed: 1.8ms preprocess, 44.5ms inference, 0.2ms postprocess per image at shape (1, 3, 384, 640)\n",
      "Processing frame 181\n",
      "\n",
      "0: 384x640 (no detections), 40.8ms\n",
      "Speed: 1.3ms preprocess, 40.8ms inference, 0.3ms postprocess per image at shape (1, 3, 384, 640)\n",
      "Processing frame 182\n",
      "\n",
      "0: 384x640 (no detections), 40.5ms\n",
      "Speed: 1.5ms preprocess, 40.5ms inference, 0.2ms postprocess per image at shape (1, 3, 384, 640)\n",
      "Processing frame 183\n",
      "\n",
      "0: 384x640 (no detections), 40.5ms\n",
      "Speed: 2.0ms preprocess, 40.5ms inference, 0.3ms postprocess per image at shape (1, 3, 384, 640)\n",
      "Processing frame 184\n",
      "\n",
      "0: 384x640 (no detections), 42.1ms\n",
      "Speed: 1.9ms preprocess, 42.1ms inference, 0.3ms postprocess per image at shape (1, 3, 384, 640)\n",
      "Processing frame 185\n",
      "\n",
      "0: 384x640 (no detections), 42.4ms\n",
      "Speed: 1.8ms preprocess, 42.4ms inference, 0.3ms postprocess per image at shape (1, 3, 384, 640)\n",
      "Processing frame 186\n",
      "\n",
      "0: 384x640 (no detections), 44.0ms\n",
      "Speed: 1.8ms preprocess, 44.0ms inference, 0.2ms postprocess per image at shape (1, 3, 384, 640)\n",
      "Processing frame 187\n",
      "\n",
      "0: 384x640 (no detections), 41.7ms\n",
      "Speed: 1.2ms preprocess, 41.7ms inference, 0.2ms postprocess per image at shape (1, 3, 384, 640)\n",
      "Processing frame 188\n",
      "\n",
      "0: 384x640 (no detections), 40.6ms\n",
      "Speed: 1.3ms preprocess, 40.6ms inference, 0.5ms postprocess per image at shape (1, 3, 384, 640)\n",
      "Processing frame 189\n",
      "\n",
      "0: 384x640 (no detections), 52.2ms\n",
      "Speed: 2.3ms preprocess, 52.2ms inference, 0.3ms postprocess per image at shape (1, 3, 384, 640)\n",
      "Processing frame 190\n",
      "\n",
      "0: 384x640 (no detections), 51.7ms\n",
      "Speed: 1.5ms preprocess, 51.7ms inference, 0.3ms postprocess per image at shape (1, 3, 384, 640)\n",
      "Processing frame 191\n",
      "\n",
      "0: 384x640 (no detections), 41.4ms\n",
      "Speed: 2.1ms preprocess, 41.4ms inference, 0.2ms postprocess per image at shape (1, 3, 384, 640)\n",
      "Processing frame 192\n",
      "\n",
      "0: 384x640 (no detections), 41.7ms\n",
      "Speed: 1.6ms preprocess, 41.7ms inference, 0.2ms postprocess per image at shape (1, 3, 384, 640)\n",
      "Processing frame 193\n",
      "\n",
      "0: 384x640 (no detections), 39.5ms\n",
      "Speed: 1.3ms preprocess, 39.5ms inference, 0.2ms postprocess per image at shape (1, 3, 384, 640)\n",
      "Processing frame 194\n",
      "\n",
      "0: 384x640 (no detections), 42.5ms\n",
      "Speed: 2.0ms preprocess, 42.5ms inference, 0.2ms postprocess per image at shape (1, 3, 384, 640)\n",
      "Processing frame 195\n",
      "\n",
      "0: 384x640 (no detections), 40.9ms\n",
      "Speed: 1.3ms preprocess, 40.9ms inference, 0.3ms postprocess per image at shape (1, 3, 384, 640)\n",
      "Processing frame 196\n",
      "\n",
      "0: 384x640 (no detections), 41.4ms\n",
      "Speed: 1.9ms preprocess, 41.4ms inference, 0.3ms postprocess per image at shape (1, 3, 384, 640)\n",
      "Processing frame 197\n",
      "\n",
      "0: 384x640 (no detections), 40.1ms\n",
      "Speed: 1.6ms preprocess, 40.1ms inference, 0.2ms postprocess per image at shape (1, 3, 384, 640)\n",
      "Processing frame 198\n",
      "\n",
      "0: 384x640 1 pothole, 40.9ms\n",
      "Speed: 2.2ms preprocess, 40.9ms inference, 0.6ms postprocess per image at shape (1, 3, 384, 640)\n",
      "Frame 198: Pothole Detected with confidence 0.56!\n",
      "Processing frame 199\n",
      "\n",
      "0: 384x640 1 pothole, 40.8ms\n",
      "Speed: 1.7ms preprocess, 40.8ms inference, 0.6ms postprocess per image at shape (1, 3, 384, 640)\n",
      "Frame 199: Pothole Detected with confidence 0.58!\n",
      "Processing frame 200\n",
      "\n",
      "0: 384x640 1 pothole, 40.8ms\n",
      "Speed: 1.8ms preprocess, 40.8ms inference, 0.4ms postprocess per image at shape (1, 3, 384, 640)\n",
      "Frame 200: Pothole Detected with confidence 0.51!\n",
      "Processing frame 201\n",
      "\n",
      "0: 384x640 (no detections), 42.5ms\n",
      "Speed: 1.9ms preprocess, 42.5ms inference, 0.3ms postprocess per image at shape (1, 3, 384, 640)\n",
      "Processing frame 202\n",
      "\n",
      "0: 384x640 1 pothole, 39.9ms\n",
      "Speed: 1.2ms preprocess, 39.9ms inference, 0.4ms postprocess per image at shape (1, 3, 384, 640)\n",
      "Frame 202: Pothole Detected with confidence 0.51!\n",
      "Processing frame 203\n",
      "\n",
      "0: 384x640 (no detections), 40.5ms\n",
      "Speed: 1.1ms preprocess, 40.5ms inference, 0.2ms postprocess per image at shape (1, 3, 384, 640)\n",
      "Processing frame 204\n",
      "\n",
      "0: 384x640 1 pothole, 41.5ms\n",
      "Speed: 1.7ms preprocess, 41.5ms inference, 0.6ms postprocess per image at shape (1, 3, 384, 640)\n",
      "Frame 204: Pothole Detected with confidence 0.52!\n",
      "Processing frame 205\n",
      "\n",
      "0: 384x640 1 pothole, 40.6ms\n",
      "Speed: 1.2ms preprocess, 40.6ms inference, 0.6ms postprocess per image at shape (1, 3, 384, 640)\n",
      "Frame 205: Pothole Detected with confidence 0.62!\n",
      "Processing frame 206\n",
      "\n",
      "0: 384x640 1 pothole, 40.1ms\n",
      "Speed: 1.8ms preprocess, 40.1ms inference, 0.6ms postprocess per image at shape (1, 3, 384, 640)\n",
      "Frame 206: Pothole Detected with confidence 0.62!\n",
      "Processing frame 207\n",
      "\n",
      "0: 384x640 1 pothole, 42.4ms\n",
      "Speed: 2.0ms preprocess, 42.4ms inference, 0.6ms postprocess per image at shape (1, 3, 384, 640)\n",
      "Frame 207: Pothole Detected with confidence 0.59!\n",
      "Processing frame 208\n",
      "\n",
      "0: 384x640 1 pothole, 42.4ms\n",
      "Speed: 2.0ms preprocess, 42.4ms inference, 0.6ms postprocess per image at shape (1, 3, 384, 640)\n",
      "Frame 208: Pothole Detected with confidence 0.70!\n",
      "Processing frame 209\n",
      "\n",
      "0: 384x640 1 pothole, 51.9ms\n",
      "Speed: 1.4ms preprocess, 51.9ms inference, 0.6ms postprocess per image at shape (1, 3, 384, 640)\n",
      "Frame 209: Pothole Detected with confidence 0.67!\n",
      "Processing frame 210\n",
      "\n",
      "0: 384x640 1 pothole, 46.7ms\n",
      "Speed: 1.9ms preprocess, 46.7ms inference, 0.6ms postprocess per image at shape (1, 3, 384, 640)\n",
      "Frame 210: Pothole Detected with confidence 0.72!\n",
      "Processing frame 211\n",
      "\n",
      "0: 384x640 1 pothole, 46.3ms\n",
      "Speed: 1.7ms preprocess, 46.3ms inference, 0.6ms postprocess per image at shape (1, 3, 384, 640)\n",
      "Frame 211: Pothole Detected with confidence 0.68!\n",
      "Processing frame 212\n",
      "\n",
      "0: 384x640 1 pothole, 41.5ms\n",
      "Speed: 1.7ms preprocess, 41.5ms inference, 0.6ms postprocess per image at shape (1, 3, 384, 640)\n",
      "Frame 212: Pothole Detected with confidence 0.57!\n",
      "Processing frame 213\n",
      "\n",
      "0: 384x640 1 pothole, 39.8ms\n",
      "Speed: 1.5ms preprocess, 39.8ms inference, 0.4ms postprocess per image at shape (1, 3, 384, 640)\n",
      "Frame 213: Pothole Detected with confidence 0.54!\n",
      "Processing frame 214\n",
      "\n",
      "0: 384x640 1 pothole, 43.0ms\n",
      "Speed: 1.9ms preprocess, 43.0ms inference, 0.6ms postprocess per image at shape (1, 3, 384, 640)\n",
      "Frame 214: Pothole Detected with confidence 0.63!\n",
      "Processing frame 215\n",
      "\n",
      "0: 384x640 1 pothole, 40.0ms\n",
      "Speed: 1.4ms preprocess, 40.0ms inference, 0.6ms postprocess per image at shape (1, 3, 384, 640)\n",
      "Frame 215: Pothole Detected with confidence 0.63!\n",
      "Processing frame 216\n",
      "\n",
      "0: 384x640 1 pothole, 41.1ms\n",
      "Speed: 1.6ms preprocess, 41.1ms inference, 0.5ms postprocess per image at shape (1, 3, 384, 640)\n",
      "Frame 216: Pothole Detected with confidence 0.68!\n",
      "Processing frame 217\n",
      "\n",
      "0: 384x640 1 pothole, 40.7ms\n",
      "Speed: 1.5ms preprocess, 40.7ms inference, 0.6ms postprocess per image at shape (1, 3, 384, 640)\n",
      "Frame 217: Pothole Detected with confidence 0.62!\n",
      "Processing frame 218\n",
      "\n",
      "0: 384x640 1 pothole, 39.9ms\n",
      "Speed: 1.5ms preprocess, 39.9ms inference, 0.4ms postprocess per image at shape (1, 3, 384, 640)\n",
      "Frame 218: Pothole Detected with confidence 0.59!\n",
      "Processing frame 219\n",
      "\n",
      "0: 384x640 1 pothole, 40.9ms\n",
      "Speed: 1.8ms preprocess, 40.9ms inference, 0.5ms postprocess per image at shape (1, 3, 384, 640)\n",
      "Frame 219: Pothole Detected with confidence 0.56!\n",
      "Processing frame 220\n",
      "\n",
      "0: 384x640 (no detections), 43.7ms\n",
      "Speed: 3.2ms preprocess, 43.7ms inference, 0.2ms postprocess per image at shape (1, 3, 384, 640)\n",
      "Processing frame 221\n",
      "\n",
      "0: 384x640 (no detections), 39.5ms\n",
      "Speed: 1.6ms preprocess, 39.5ms inference, 0.2ms postprocess per image at shape (1, 3, 384, 640)\n",
      "Processing frame 222\n",
      "\n",
      "0: 384x640 1 pothole, 40.9ms\n",
      "Speed: 1.6ms preprocess, 40.9ms inference, 0.4ms postprocess per image at shape (1, 3, 384, 640)\n",
      "Frame 222: Pothole Detected with confidence 0.52!\n",
      "Processing frame 223\n",
      "\n",
      "0: 384x640 1 pothole, 40.6ms\n",
      "Speed: 1.7ms preprocess, 40.6ms inference, 0.6ms postprocess per image at shape (1, 3, 384, 640)\n",
      "Frame 223: Pothole Detected with confidence 0.55!\n",
      "Processing frame 224\n",
      "\n",
      "0: 384x640 1 pothole, 40.9ms\n",
      "Speed: 1.6ms preprocess, 40.9ms inference, 0.5ms postprocess per image at shape (1, 3, 384, 640)\n",
      "Frame 224: Pothole Detected with confidence 0.56!\n",
      "Processing frame 225\n",
      "\n",
      "0: 384x640 1 pothole, 42.6ms\n",
      "Speed: 1.7ms preprocess, 42.6ms inference, 0.7ms postprocess per image at shape (1, 3, 384, 640)\n",
      "Frame 225: Pothole Detected with confidence 0.69!\n",
      "Processing frame 226\n",
      "\n",
      "0: 384x640 1 pothole, 39.6ms\n",
      "Speed: 1.4ms preprocess, 39.6ms inference, 0.6ms postprocess per image at shape (1, 3, 384, 640)\n",
      "Frame 226: Pothole Detected with confidence 0.71!\n",
      "Processing frame 227\n",
      "\n",
      "0: 384x640 1 pothole, 53.5ms\n",
      "Speed: 1.7ms preprocess, 53.5ms inference, 0.8ms postprocess per image at shape (1, 3, 384, 640)\n",
      "Frame 227: Pothole Detected with confidence 0.58!\n",
      "Processing frame 228\n",
      "\n",
      "0: 384x640 1 pothole, 44.5ms\n",
      "Speed: 1.6ms preprocess, 44.5ms inference, 0.6ms postprocess per image at shape (1, 3, 384, 640)\n",
      "Frame 228: Pothole Detected with confidence 0.59!\n",
      "Processing frame 229\n",
      "\n",
      "0: 384x640 1 pothole, 49.2ms\n",
      "Speed: 1.9ms preprocess, 49.2ms inference, 0.5ms postprocess per image at shape (1, 3, 384, 640)\n",
      "Frame 229: Pothole Detected with confidence 0.62!\n",
      "Processing frame 230\n",
      "\n",
      "0: 384x640 1 pothole, 53.3ms\n",
      "Speed: 1.8ms preprocess, 53.3ms inference, 0.6ms postprocess per image at shape (1, 3, 384, 640)\n",
      "Frame 230: Pothole Detected with confidence 0.60!\n",
      "Processing frame 231\n",
      "\n",
      "0: 384x640 1 pothole, 43.2ms\n",
      "Speed: 1.9ms preprocess, 43.2ms inference, 0.6ms postprocess per image at shape (1, 3, 384, 640)\n",
      "Frame 231: Pothole Detected with confidence 0.60!\n",
      "Processing frame 232\n",
      "\n",
      "0: 384x640 1 pothole, 41.7ms\n",
      "Speed: 1.4ms preprocess, 41.7ms inference, 0.6ms postprocess per image at shape (1, 3, 384, 640)\n",
      "Frame 232: Pothole Detected with confidence 0.70!\n",
      "Processing frame 233\n",
      "\n",
      "0: 384x640 1 pothole, 39.0ms\n",
      "Speed: 1.3ms preprocess, 39.0ms inference, 0.6ms postprocess per image at shape (1, 3, 384, 640)\n",
      "Frame 233: Pothole Detected with confidence 0.69!\n",
      "Processing frame 234\n",
      "\n",
      "0: 384x640 1 pothole, 39.6ms\n",
      "Speed: 1.3ms preprocess, 39.6ms inference, 0.6ms postprocess per image at shape (1, 3, 384, 640)\n",
      "Frame 234: Pothole Detected with confidence 0.64!\n",
      "Processing frame 235\n",
      "\n",
      "0: 384x640 1 pothole, 38.9ms\n",
      "Speed: 1.3ms preprocess, 38.9ms inference, 0.6ms postprocess per image at shape (1, 3, 384, 640)\n",
      "Frame 235: Pothole Detected with confidence 0.54!\n",
      "Processing frame 236\n",
      "\n",
      "0: 384x640 1 pothole, 39.7ms\n",
      "Speed: 1.4ms preprocess, 39.7ms inference, 0.6ms postprocess per image at shape (1, 3, 384, 640)\n",
      "Frame 236: Pothole Detected with confidence 0.63!\n",
      "Processing frame 237\n",
      "\n",
      "0: 384x640 1 pothole, 41.8ms\n",
      "Speed: 1.4ms preprocess, 41.8ms inference, 0.6ms postprocess per image at shape (1, 3, 384, 640)\n",
      "Frame 237: Pothole Detected with confidence 0.60!\n",
      "Processing frame 238\n",
      "\n",
      "0: 384x640 1 pothole, 39.6ms\n",
      "Speed: 1.4ms preprocess, 39.6ms inference, 0.7ms postprocess per image at shape (1, 3, 384, 640)\n",
      "Frame 238: Pothole Detected with confidence 0.53!\n",
      "Processing frame 239\n",
      "\n",
      "0: 384x640 1 pothole, 39.6ms\n",
      "Speed: 1.4ms preprocess, 39.6ms inference, 0.6ms postprocess per image at shape (1, 3, 384, 640)\n",
      "Frame 239: Pothole Detected with confidence 0.61!\n",
      "Processing frame 240\n",
      "\n",
      "0: 384x640 1 pothole, 40.7ms\n",
      "Speed: 1.7ms preprocess, 40.7ms inference, 0.6ms postprocess per image at shape (1, 3, 384, 640)\n",
      "Frame 240: Pothole Detected with confidence 0.56!\n",
      "Processing frame 241\n",
      "\n",
      "0: 384x640 (no detections), 40.3ms\n",
      "Speed: 1.7ms preprocess, 40.3ms inference, 0.3ms postprocess per image at shape (1, 3, 384, 640)\n",
      "Processing frame 242\n",
      "\n",
      "0: 384x640 (no detections), 42.2ms\n",
      "Speed: 1.6ms preprocess, 42.2ms inference, 0.3ms postprocess per image at shape (1, 3, 384, 640)\n",
      "Processing frame 243\n",
      "\n",
      "0: 384x640 (no detections), 39.9ms\n",
      "Speed: 1.4ms preprocess, 39.9ms inference, 0.3ms postprocess per image at shape (1, 3, 384, 640)\n",
      "Processing frame 244\n",
      "\n",
      "0: 384x640 (no detections), 40.2ms\n",
      "Speed: 1.3ms preprocess, 40.2ms inference, 0.3ms postprocess per image at shape (1, 3, 384, 640)\n",
      "Processing frame 245\n",
      "\n",
      "0: 384x640 (no detections), 52.1ms\n",
      "Speed: 1.7ms preprocess, 52.1ms inference, 0.2ms postprocess per image at shape (1, 3, 384, 640)\n",
      "Processing frame 246\n",
      "\n",
      "0: 384x640 (no detections), 45.7ms\n",
      "Speed: 1.6ms preprocess, 45.7ms inference, 0.3ms postprocess per image at shape (1, 3, 384, 640)\n",
      "Processing frame 247\n",
      "\n",
      "0: 384x640 (no detections), 40.8ms\n",
      "Speed: 1.7ms preprocess, 40.8ms inference, 0.3ms postprocess per image at shape (1, 3, 384, 640)\n",
      "Processing frame 248\n",
      "\n",
      "0: 384x640 (no detections), 44.3ms\n",
      "Speed: 1.7ms preprocess, 44.3ms inference, 0.3ms postprocess per image at shape (1, 3, 384, 640)\n",
      "Processing frame 249\n",
      "\n",
      "0: 384x640 (no detections), 51.6ms\n",
      "Speed: 1.6ms preprocess, 51.6ms inference, 0.2ms postprocess per image at shape (1, 3, 384, 640)\n",
      "Processing frame 250\n",
      "\n",
      "0: 384x640 (no detections), 46.8ms\n",
      "Speed: 2.2ms preprocess, 46.8ms inference, 0.2ms postprocess per image at shape (1, 3, 384, 640)\n",
      "Processing frame 251\n",
      "\n",
      "0: 384x640 (no detections), 39.5ms\n",
      "Speed: 1.1ms preprocess, 39.5ms inference, 0.5ms postprocess per image at shape (1, 3, 384, 640)\n",
      "Processing frame 252\n",
      "\n",
      "0: 384x640 (no detections), 38.9ms\n",
      "Speed: 1.8ms preprocess, 38.9ms inference, 0.3ms postprocess per image at shape (1, 3, 384, 640)\n",
      "Processing frame 253\n",
      "\n",
      "0: 384x640 (no detections), 41.2ms\n",
      "Speed: 1.3ms preprocess, 41.2ms inference, 0.2ms postprocess per image at shape (1, 3, 384, 640)\n",
      "Processing frame 254\n",
      "\n",
      "0: 384x640 (no detections), 41.9ms\n",
      "Speed: 1.3ms preprocess, 41.9ms inference, 0.3ms postprocess per image at shape (1, 3, 384, 640)\n",
      "Processing frame 255\n",
      "\n",
      "0: 384x640 (no detections), 42.6ms\n",
      "Speed: 1.4ms preprocess, 42.6ms inference, 0.3ms postprocess per image at shape (1, 3, 384, 640)\n",
      "Processing frame 256\n",
      "\n",
      "0: 384x640 (no detections), 39.5ms\n",
      "Speed: 1.2ms preprocess, 39.5ms inference, 0.3ms postprocess per image at shape (1, 3, 384, 640)\n",
      "Processing frame 257\n",
      "\n",
      "0: 384x640 (no detections), 42.7ms\n",
      "Speed: 2.2ms preprocess, 42.7ms inference, 0.3ms postprocess per image at shape (1, 3, 384, 640)\n",
      "Processing frame 258\n",
      "\n",
      "0: 384x640 (no detections), 40.0ms\n",
      "Speed: 1.3ms preprocess, 40.0ms inference, 0.3ms postprocess per image at shape (1, 3, 384, 640)\n",
      "Processing frame 259\n",
      "\n",
      "0: 384x640 (no detections), 41.3ms\n",
      "Speed: 1.3ms preprocess, 41.3ms inference, 0.3ms postprocess per image at shape (1, 3, 384, 640)\n",
      "Processing frame 260\n",
      "\n",
      "0: 384x640 (no detections), 41.0ms\n",
      "Speed: 1.8ms preprocess, 41.0ms inference, 0.3ms postprocess per image at shape (1, 3, 384, 640)\n",
      "Processing frame 261\n",
      "\n",
      "0: 384x640 (no detections), 42.4ms\n",
      "Speed: 1.3ms preprocess, 42.4ms inference, 0.2ms postprocess per image at shape (1, 3, 384, 640)\n",
      "Processing frame 262\n",
      "\n",
      "0: 384x640 (no detections), 39.6ms\n",
      "Speed: 1.3ms preprocess, 39.6ms inference, 0.3ms postprocess per image at shape (1, 3, 384, 640)\n",
      "Processing frame 263\n",
      "\n",
      "0: 384x640 (no detections), 40.0ms\n",
      "Speed: 1.5ms preprocess, 40.0ms inference, 0.3ms postprocess per image at shape (1, 3, 384, 640)\n",
      "Processing frame 264\n",
      "\n",
      "0: 384x640 (no detections), 39.7ms\n",
      "Speed: 1.6ms preprocess, 39.7ms inference, 0.3ms postprocess per image at shape (1, 3, 384, 640)\n",
      "Processing frame 265\n",
      "\n",
      "0: 384x640 (no detections), 41.2ms\n",
      "Speed: 1.5ms preprocess, 41.2ms inference, 0.3ms postprocess per image at shape (1, 3, 384, 640)\n",
      "Processing frame 266\n",
      "\n",
      "0: 384x640 (no detections), 39.6ms\n",
      "Speed: 1.2ms preprocess, 39.6ms inference, 0.3ms postprocess per image at shape (1, 3, 384, 640)\n",
      "Processing frame 267\n",
      "\n",
      "0: 384x640 (no detections), 40.8ms\n",
      "Speed: 1.3ms preprocess, 40.8ms inference, 0.2ms postprocess per image at shape (1, 3, 384, 640)\n",
      "Processing frame 268\n",
      "\n",
      "0: 384x640 (no detections), 40.9ms\n",
      "Speed: 1.8ms preprocess, 40.9ms inference, 0.3ms postprocess per image at shape (1, 3, 384, 640)\n",
      "Processing frame 269\n",
      "\n",
      "0: 384x640 (no detections), 50.1ms\n",
      "Speed: 1.5ms preprocess, 50.1ms inference, 0.2ms postprocess per image at shape (1, 3, 384, 640)\n",
      "Processing frame 270\n",
      "\n",
      "0: 384x640 (no detections), 50.4ms\n",
      "Speed: 1.8ms preprocess, 50.4ms inference, 0.3ms postprocess per image at shape (1, 3, 384, 640)\n",
      "Processing frame 271\n",
      "\n",
      "0: 384x640 (no detections), 42.1ms\n",
      "Speed: 1.7ms preprocess, 42.1ms inference, 0.3ms postprocess per image at shape (1, 3, 384, 640)\n",
      "Processing frame 272\n",
      "\n",
      "0: 384x640 (no detections), 39.5ms\n",
      "Speed: 1.5ms preprocess, 39.5ms inference, 0.2ms postprocess per image at shape (1, 3, 384, 640)\n",
      "Processing frame 273\n",
      "\n",
      "0: 384x640 (no detections), 39.8ms\n",
      "Speed: 1.2ms preprocess, 39.8ms inference, 0.3ms postprocess per image at shape (1, 3, 384, 640)\n",
      "Processing frame 274\n",
      "\n",
      "0: 384x640 (no detections), 39.8ms\n",
      "Speed: 1.5ms preprocess, 39.8ms inference, 0.3ms postprocess per image at shape (1, 3, 384, 640)\n",
      "Processing frame 275\n",
      "\n",
      "0: 384x640 (no detections), 38.9ms\n",
      "Speed: 1.3ms preprocess, 38.9ms inference, 0.3ms postprocess per image at shape (1, 3, 384, 640)\n",
      "Processing frame 276\n",
      "\n",
      "0: 384x640 (no detections), 41.6ms\n",
      "Speed: 1.3ms preprocess, 41.6ms inference, 0.2ms postprocess per image at shape (1, 3, 384, 640)\n",
      "Processing frame 277\n",
      "\n",
      "0: 384x640 1 pothole, 41.8ms\n",
      "Speed: 1.6ms preprocess, 41.8ms inference, 0.6ms postprocess per image at shape (1, 3, 384, 640)\n",
      "Frame 277: Pothole Detected with confidence 0.55!\n",
      "Processing frame 278\n",
      "\n",
      "0: 384x640 (no detections), 40.4ms\n",
      "Speed: 1.8ms preprocess, 40.4ms inference, 0.2ms postprocess per image at shape (1, 3, 384, 640)\n",
      "Processing frame 279\n",
      "\n",
      "0: 384x640 (no detections), 43.1ms\n",
      "Speed: 1.6ms preprocess, 43.1ms inference, 0.2ms postprocess per image at shape (1, 3, 384, 640)\n",
      "Processing frame 280\n",
      "\n",
      "0: 384x640 (no detections), 41.2ms\n",
      "Speed: 1.3ms preprocess, 41.2ms inference, 0.2ms postprocess per image at shape (1, 3, 384, 640)\n",
      "Processing frame 281\n",
      "\n",
      "0: 384x640 (no detections), 43.8ms\n",
      "Speed: 1.7ms preprocess, 43.8ms inference, 0.3ms postprocess per image at shape (1, 3, 384, 640)\n",
      "Processing frame 282\n",
      "\n",
      "0: 384x640 (no detections), 45.8ms\n",
      "Speed: 1.3ms preprocess, 45.8ms inference, 0.3ms postprocess per image at shape (1, 3, 384, 640)\n",
      "Processing frame 283\n",
      "\n",
      "0: 384x640 (no detections), 63.6ms\n",
      "Speed: 1.9ms preprocess, 63.6ms inference, 0.3ms postprocess per image at shape (1, 3, 384, 640)\n",
      "Processing frame 284\n",
      "\n",
      "0: 384x640 (no detections), 58.3ms\n",
      "Speed: 1.6ms preprocess, 58.3ms inference, 0.3ms postprocess per image at shape (1, 3, 384, 640)\n",
      "Processing frame 285\n",
      "\n",
      "0: 384x640 (no detections), 53.4ms\n",
      "Speed: 1.4ms preprocess, 53.4ms inference, 0.2ms postprocess per image at shape (1, 3, 384, 640)\n",
      "Processing frame 286\n",
      "\n",
      "0: 384x640 (no detections), 53.5ms\n",
      "Speed: 1.9ms preprocess, 53.5ms inference, 0.3ms postprocess per image at shape (1, 3, 384, 640)\n",
      "Processing frame 287\n",
      "\n",
      "0: 384x640 (no detections), 58.1ms\n",
      "Speed: 1.7ms preprocess, 58.1ms inference, 0.3ms postprocess per image at shape (1, 3, 384, 640)\n",
      "Processing frame 288\n",
      "\n",
      "0: 384x640 (no detections), 61.9ms\n",
      "Speed: 1.8ms preprocess, 61.9ms inference, 0.3ms postprocess per image at shape (1, 3, 384, 640)\n",
      "Processing frame 289\n",
      "\n",
      "0: 384x640 (no detections), 49.9ms\n",
      "Speed: 1.5ms preprocess, 49.9ms inference, 0.2ms postprocess per image at shape (1, 3, 384, 640)\n",
      "Processing frame 290\n",
      "\n",
      "0: 384x640 (no detections), 42.3ms\n",
      "Speed: 1.6ms preprocess, 42.3ms inference, 0.3ms postprocess per image at shape (1, 3, 384, 640)\n",
      "Processing frame 291\n",
      "\n",
      "0: 384x640 (no detections), 40.5ms\n",
      "Speed: 1.6ms preprocess, 40.5ms inference, 0.3ms postprocess per image at shape (1, 3, 384, 640)\n",
      "Processing frame 292\n",
      "\n",
      "0: 384x640 (no detections), 46.6ms\n",
      "Speed: 1.2ms preprocess, 46.6ms inference, 0.3ms postprocess per image at shape (1, 3, 384, 640)\n",
      "Processing frame 293\n",
      "\n",
      "0: 384x640 (no detections), 54.5ms\n",
      "Speed: 1.2ms preprocess, 54.5ms inference, 0.3ms postprocess per image at shape (1, 3, 384, 640)\n",
      "Processing frame 294\n",
      "\n",
      "0: 384x640 (no detections), 75.7ms\n",
      "Speed: 3.2ms preprocess, 75.7ms inference, 0.2ms postprocess per image at shape (1, 3, 384, 640)\n",
      "Processing frame 295\n",
      "\n",
      "0: 384x640 (no detections), 51.1ms\n",
      "Speed: 1.6ms preprocess, 51.1ms inference, 0.3ms postprocess per image at shape (1, 3, 384, 640)\n",
      "Processing frame 296\n",
      "\n",
      "0: 384x640 (no detections), 46.0ms\n",
      "Speed: 1.7ms preprocess, 46.0ms inference, 0.3ms postprocess per image at shape (1, 3, 384, 640)\n",
      "Processing frame 297\n",
      "\n",
      "0: 384x640 (no detections), 43.8ms\n",
      "Speed: 1.8ms preprocess, 43.8ms inference, 0.3ms postprocess per image at shape (1, 3, 384, 640)\n",
      "Processing frame 298\n",
      "\n",
      "0: 384x640 (no detections), 51.5ms\n",
      "Speed: 1.6ms preprocess, 51.5ms inference, 0.3ms postprocess per image at shape (1, 3, 384, 640)\n",
      "Processing frame 299\n",
      "\n",
      "0: 384x640 (no detections), 56.3ms\n",
      "Speed: 1.6ms preprocess, 56.3ms inference, 0.4ms postprocess per image at shape (1, 3, 384, 640)\n",
      "Processing frame 300\n",
      "\n",
      "0: 384x640 (no detections), 60.4ms\n",
      "Speed: 1.8ms preprocess, 60.4ms inference, 0.3ms postprocess per image at shape (1, 3, 384, 640)\n",
      "Processing frame 301\n",
      "\n",
      "0: 384x640 (no detections), 47.9ms\n",
      "Speed: 1.6ms preprocess, 47.9ms inference, 0.3ms postprocess per image at shape (1, 3, 384, 640)\n",
      "Processing frame 302\n",
      "\n",
      "0: 384x640 (no detections), 48.6ms\n",
      "Speed: 1.6ms preprocess, 48.6ms inference, 0.2ms postprocess per image at shape (1, 3, 384, 640)\n",
      "Processing frame 303\n",
      "\n",
      "0: 384x640 (no detections), 45.5ms\n",
      "Speed: 1.1ms preprocess, 45.5ms inference, 0.3ms postprocess per image at shape (1, 3, 384, 640)\n",
      "Processing frame 304\n",
      "\n",
      "0: 384x640 (no detections), 46.2ms\n",
      "Speed: 1.4ms preprocess, 46.2ms inference, 0.3ms postprocess per image at shape (1, 3, 384, 640)\n",
      "Processing frame 305\n",
      "\n",
      "0: 384x640 (no detections), 55.2ms\n",
      "Speed: 1.8ms preprocess, 55.2ms inference, 0.3ms postprocess per image at shape (1, 3, 384, 640)\n",
      "Processing frame 306\n",
      "\n",
      "0: 384x640 (no detections), 47.6ms\n",
      "Speed: 1.8ms preprocess, 47.6ms inference, 0.2ms postprocess per image at shape (1, 3, 384, 640)\n",
      "Processing frame 307\n",
      "\n",
      "0: 384x640 (no detections), 45.6ms\n",
      "Speed: 1.3ms preprocess, 45.6ms inference, 0.3ms postprocess per image at shape (1, 3, 384, 640)\n",
      "Processing frame 308\n",
      "\n",
      "0: 384x640 (no detections), 44.1ms\n",
      "Speed: 1.5ms preprocess, 44.1ms inference, 0.2ms postprocess per image at shape (1, 3, 384, 640)\n",
      "Processing frame 309\n",
      "\n",
      "0: 384x640 (no detections), 46.4ms\n",
      "Speed: 2.2ms preprocess, 46.4ms inference, 0.3ms postprocess per image at shape (1, 3, 384, 640)\n",
      "Processing frame 310\n",
      "\n",
      "0: 384x640 (no detections), 43.9ms\n",
      "Speed: 1.6ms preprocess, 43.9ms inference, 0.3ms postprocess per image at shape (1, 3, 384, 640)\n",
      "Processing frame 311\n",
      "\n",
      "0: 384x640 (no detections), 43.7ms\n",
      "Speed: 1.4ms preprocess, 43.7ms inference, 0.3ms postprocess per image at shape (1, 3, 384, 640)\n",
      "Processing frame 312\n",
      "\n",
      "0: 384x640 (no detections), 42.8ms\n",
      "Speed: 1.2ms preprocess, 42.8ms inference, 0.3ms postprocess per image at shape (1, 3, 384, 640)\n",
      "Processing frame 313\n",
      "\n",
      "0: 384x640 (no detections), 44.7ms\n",
      "Speed: 1.7ms preprocess, 44.7ms inference, 0.2ms postprocess per image at shape (1, 3, 384, 640)\n",
      "Processing frame 314\n",
      "\n",
      "0: 384x640 (no detections), 45.0ms\n",
      "Speed: 1.5ms preprocess, 45.0ms inference, 0.3ms postprocess per image at shape (1, 3, 384, 640)\n",
      "Processing frame 315\n",
      "\n",
      "0: 384x640 (no detections), 50.8ms\n",
      "Speed: 2.9ms preprocess, 50.8ms inference, 0.3ms postprocess per image at shape (1, 3, 384, 640)\n",
      "Processing frame 316\n",
      "\n",
      "0: 384x640 (no detections), 52.4ms\n",
      "Speed: 2.0ms preprocess, 52.4ms inference, 0.3ms postprocess per image at shape (1, 3, 384, 640)\n",
      "Processing frame 317\n",
      "\n",
      "0: 384x640 (no detections), 49.4ms\n",
      "Speed: 1.5ms preprocess, 49.4ms inference, 0.3ms postprocess per image at shape (1, 3, 384, 640)\n",
      "Processing frame 318\n",
      "\n",
      "0: 384x640 (no detections), 47.4ms\n",
      "Speed: 1.4ms preprocess, 47.4ms inference, 0.3ms postprocess per image at shape (1, 3, 384, 640)\n",
      "Processing frame 319\n",
      "\n",
      "0: 384x640 (no detections), 47.4ms\n",
      "Speed: 1.5ms preprocess, 47.4ms inference, 0.3ms postprocess per image at shape (1, 3, 384, 640)\n",
      "Processing frame 320\n",
      "\n",
      "0: 384x640 (no detections), 49.1ms\n",
      "Speed: 2.3ms preprocess, 49.1ms inference, 0.3ms postprocess per image at shape (1, 3, 384, 640)\n",
      "Processing frame 321\n",
      "\n",
      "0: 384x640 (no detections), 64.7ms\n",
      "Speed: 1.8ms preprocess, 64.7ms inference, 0.4ms postprocess per image at shape (1, 3, 384, 640)\n",
      "Processing frame 322\n",
      "\n",
      "0: 384x640 (no detections), 66.3ms\n",
      "Speed: 1.4ms preprocess, 66.3ms inference, 0.3ms postprocess per image at shape (1, 3, 384, 640)\n",
      "Processing frame 323\n",
      "\n",
      "0: 384x640 (no detections), 62.7ms\n",
      "Speed: 1.5ms preprocess, 62.7ms inference, 0.2ms postprocess per image at shape (1, 3, 384, 640)\n",
      "Processing frame 324\n",
      "\n",
      "0: 384x640 (no detections), 54.9ms\n",
      "Speed: 3.1ms preprocess, 54.9ms inference, 0.3ms postprocess per image at shape (1, 3, 384, 640)\n",
      "Processing frame 325\n",
      "\n",
      "0: 384x640 (no detections), 53.2ms\n",
      "Speed: 1.2ms preprocess, 53.2ms inference, 0.3ms postprocess per image at shape (1, 3, 384, 640)\n",
      "Processing frame 326\n",
      "\n",
      "0: 384x640 (no detections), 56.0ms\n",
      "Speed: 3.0ms preprocess, 56.0ms inference, 0.2ms postprocess per image at shape (1, 3, 384, 640)\n",
      "Processing frame 327\n",
      "\n",
      "0: 384x640 (no detections), 56.5ms\n",
      "Speed: 3.0ms preprocess, 56.5ms inference, 0.2ms postprocess per image at shape (1, 3, 384, 640)\n",
      "Processing frame 328\n",
      "\n",
      "0: 384x640 (no detections), 50.0ms\n",
      "Speed: 2.0ms preprocess, 50.0ms inference, 0.3ms postprocess per image at shape (1, 3, 384, 640)\n",
      "Processing frame 329\n",
      "\n",
      "0: 384x640 (no detections), 47.6ms\n",
      "Speed: 2.1ms preprocess, 47.6ms inference, 0.3ms postprocess per image at shape (1, 3, 384, 640)\n",
      "Processing frame 330\n",
      "\n",
      "0: 384x640 (no detections), 48.0ms\n",
      "Speed: 2.5ms preprocess, 48.0ms inference, 0.2ms postprocess per image at shape (1, 3, 384, 640)\n",
      "Processing frame 331\n",
      "\n",
      "0: 384x640 (no detections), 47.2ms\n",
      "Speed: 1.8ms preprocess, 47.2ms inference, 0.3ms postprocess per image at shape (1, 3, 384, 640)\n",
      "Processing frame 332\n",
      "\n",
      "0: 384x640 (no detections), 45.7ms\n",
      "Speed: 2.2ms preprocess, 45.7ms inference, 0.2ms postprocess per image at shape (1, 3, 384, 640)\n",
      "Processing frame 333\n",
      "\n",
      "0: 384x640 (no detections), 47.4ms\n",
      "Speed: 2.0ms preprocess, 47.4ms inference, 0.2ms postprocess per image at shape (1, 3, 384, 640)\n",
      "Processing frame 334\n",
      "\n",
      "0: 384x640 1 pothole, 45.7ms\n",
      "Speed: 1.7ms preprocess, 45.7ms inference, 0.4ms postprocess per image at shape (1, 3, 384, 640)\n",
      "Frame 334: Pothole Detected with confidence 0.51!\n",
      "Processing frame 335\n",
      "\n",
      "0: 384x640 (no detections), 46.4ms\n",
      "Speed: 1.4ms preprocess, 46.4ms inference, 0.3ms postprocess per image at shape (1, 3, 384, 640)\n",
      "Processing frame 336\n",
      "\n",
      "0: 384x640 (no detections), 48.5ms\n",
      "Speed: 1.7ms preprocess, 48.5ms inference, 0.3ms postprocess per image at shape (1, 3, 384, 640)\n",
      "Processing frame 337\n",
      "\n",
      "0: 384x640 (no detections), 47.4ms\n",
      "Speed: 1.8ms preprocess, 47.4ms inference, 0.3ms postprocess per image at shape (1, 3, 384, 640)\n",
      "Processing frame 338\n",
      "\n",
      "0: 384x640 (no detections), 45.0ms\n",
      "Speed: 1.9ms preprocess, 45.0ms inference, 0.2ms postprocess per image at shape (1, 3, 384, 640)\n",
      "Processing frame 339\n",
      "\n",
      "0: 384x640 1 pothole, 48.1ms\n",
      "Speed: 1.3ms preprocess, 48.1ms inference, 0.5ms postprocess per image at shape (1, 3, 384, 640)\n",
      "Frame 339: Pothole Detected with confidence 0.52!\n",
      "Processing frame 340\n",
      "\n",
      "0: 384x640 (no detections), 62.6ms\n",
      "Speed: 2.4ms preprocess, 62.6ms inference, 0.2ms postprocess per image at shape (1, 3, 384, 640)\n",
      "Processing frame 341\n",
      "\n",
      "0: 384x640 (no detections), 60.4ms\n",
      "Speed: 2.2ms preprocess, 60.4ms inference, 0.2ms postprocess per image at shape (1, 3, 384, 640)\n",
      "Processing frame 342\n",
      "\n",
      "0: 384x640 (no detections), 70.4ms\n",
      "Speed: 1.4ms preprocess, 70.4ms inference, 0.6ms postprocess per image at shape (1, 3, 384, 640)\n",
      "Processing frame 343\n",
      "\n",
      "0: 384x640 (no detections), 61.5ms\n",
      "Speed: 2.5ms preprocess, 61.5ms inference, 0.3ms postprocess per image at shape (1, 3, 384, 640)\n",
      "Processing frame 344\n",
      "\n",
      "0: 384x640 (no detections), 45.6ms\n",
      "Speed: 1.1ms preprocess, 45.6ms inference, 0.3ms postprocess per image at shape (1, 3, 384, 640)\n",
      "Processing frame 345\n",
      "\n",
      "0: 384x640 (no detections), 45.0ms\n",
      "Speed: 1.4ms preprocess, 45.0ms inference, 0.3ms postprocess per image at shape (1, 3, 384, 640)\n",
      "Processing frame 346\n",
      "\n",
      "0: 384x640 (no detections), 51.2ms\n",
      "Speed: 1.6ms preprocess, 51.2ms inference, 0.3ms postprocess per image at shape (1, 3, 384, 640)\n",
      "Processing frame 347\n",
      "\n",
      "0: 384x640 (no detections), 49.6ms\n",
      "Speed: 1.6ms preprocess, 49.6ms inference, 0.2ms postprocess per image at shape (1, 3, 384, 640)\n",
      "Processing frame 348\n",
      "\n",
      "0: 384x640 (no detections), 60.5ms\n",
      "Speed: 1.8ms preprocess, 60.5ms inference, 0.2ms postprocess per image at shape (1, 3, 384, 640)\n",
      "Processing frame 349\n",
      "\n",
      "0: 384x640 (no detections), 56.8ms\n",
      "Speed: 1.6ms preprocess, 56.8ms inference, 0.3ms postprocess per image at shape (1, 3, 384, 640)\n",
      "Processing frame 350\n",
      "\n",
      "0: 384x640 (no detections), 53.4ms\n",
      "Speed: 1.8ms preprocess, 53.4ms inference, 0.3ms postprocess per image at shape (1, 3, 384, 640)\n",
      "Processing frame 351\n",
      "\n",
      "0: 384x640 (no detections), 56.2ms\n",
      "Speed: 1.8ms preprocess, 56.2ms inference, 0.3ms postprocess per image at shape (1, 3, 384, 640)\n",
      "Processing frame 352\n",
      "\n",
      "0: 384x640 (no detections), 59.5ms\n",
      "Speed: 1.7ms preprocess, 59.5ms inference, 0.3ms postprocess per image at shape (1, 3, 384, 640)\n",
      "Processing frame 353\n",
      "\n",
      "0: 384x640 (no detections), 49.9ms\n",
      "Speed: 2.6ms preprocess, 49.9ms inference, 0.3ms postprocess per image at shape (1, 3, 384, 640)\n",
      "Processing frame 354\n",
      "\n",
      "0: 384x640 (no detections), 45.8ms\n",
      "Speed: 1.8ms preprocess, 45.8ms inference, 0.2ms postprocess per image at shape (1, 3, 384, 640)\n",
      "Processing frame 355\n",
      "\n",
      "0: 384x640 (no detections), 48.3ms\n",
      "Speed: 1.3ms preprocess, 48.3ms inference, 0.3ms postprocess per image at shape (1, 3, 384, 640)\n",
      "Processing frame 356\n",
      "\n",
      "0: 384x640 (no detections), 58.9ms\n",
      "Speed: 1.9ms preprocess, 58.9ms inference, 0.5ms postprocess per image at shape (1, 3, 384, 640)\n",
      "Processing frame 357\n",
      "\n",
      "0: 384x640 (no detections), 61.4ms\n",
      "Speed: 2.3ms preprocess, 61.4ms inference, 0.3ms postprocess per image at shape (1, 3, 384, 640)\n",
      "Processing frame 358\n",
      "\n",
      "0: 384x640 (no detections), 57.8ms\n",
      "Speed: 2.1ms preprocess, 57.8ms inference, 0.2ms postprocess per image at shape (1, 3, 384, 640)\n",
      "Processing frame 359\n",
      "\n",
      "0: 384x640 (no detections), 55.7ms\n",
      "Speed: 1.3ms preprocess, 55.7ms inference, 0.3ms postprocess per image at shape (1, 3, 384, 640)\n",
      "Processing frame 360\n",
      "\n",
      "0: 384x640 (no detections), 56.1ms\n",
      "Speed: 2.1ms preprocess, 56.1ms inference, 0.3ms postprocess per image at shape (1, 3, 384, 640)\n",
      "Processing frame 361\n",
      "\n",
      "0: 384x640 1 pothole, 61.1ms\n",
      "Speed: 1.7ms preprocess, 61.1ms inference, 0.6ms postprocess per image at shape (1, 3, 384, 640)\n",
      "Frame 361: Pothole Detected with confidence 0.56!\n",
      "Processing frame 362\n",
      "\n",
      "0: 384x640 1 pothole, 49.3ms\n",
      "Speed: 1.7ms preprocess, 49.3ms inference, 0.4ms postprocess per image at shape (1, 3, 384, 640)\n",
      "Frame 362: Pothole Detected with confidence 0.52!\n",
      "Processing frame 363\n",
      "\n",
      "0: 384x640 (no detections), 50.2ms\n",
      "Speed: 2.4ms preprocess, 50.2ms inference, 0.3ms postprocess per image at shape (1, 3, 384, 640)\n",
      "Processing frame 364\n",
      "\n",
      "0: 384x640 (no detections), 55.7ms\n",
      "Speed: 2.0ms preprocess, 55.7ms inference, 0.3ms postprocess per image at shape (1, 3, 384, 640)\n",
      "Processing frame 365\n",
      "\n",
      "0: 384x640 (no detections), 47.5ms\n",
      "Speed: 1.3ms preprocess, 47.5ms inference, 0.3ms postprocess per image at shape (1, 3, 384, 640)\n",
      "Processing frame 366\n",
      "\n",
      "0: 384x640 (no detections), 49.6ms\n",
      "Speed: 1.4ms preprocess, 49.6ms inference, 0.3ms postprocess per image at shape (1, 3, 384, 640)\n",
      "Processing frame 367\n",
      "\n",
      "0: 384x640 (no detections), 52.9ms\n",
      "Speed: 2.9ms preprocess, 52.9ms inference, 0.2ms postprocess per image at shape (1, 3, 384, 640)\n",
      "Processing frame 368\n",
      "\n",
      "0: 384x640 1 pothole, 46.5ms\n",
      "Speed: 4.2ms preprocess, 46.5ms inference, 0.4ms postprocess per image at shape (1, 3, 384, 640)\n",
      "Frame 368: Pothole Detected with confidence 0.51!\n",
      "Processing frame 369\n",
      "\n",
      "0: 384x640 1 pothole, 48.9ms\n",
      "Speed: 1.7ms preprocess, 48.9ms inference, 0.4ms postprocess per image at shape (1, 3, 384, 640)\n",
      "Frame 369: Pothole Detected with confidence 0.59!\n",
      "Processing frame 370\n",
      "\n",
      "0: 384x640 1 pothole, 49.9ms\n",
      "Speed: 1.4ms preprocess, 49.9ms inference, 0.5ms postprocess per image at shape (1, 3, 384, 640)\n",
      "Frame 370: Pothole Detected with confidence 0.54!\n",
      "Processing frame 371\n",
      "\n",
      "0: 384x640 (no detections), 44.6ms\n",
      "Speed: 1.5ms preprocess, 44.6ms inference, 0.3ms postprocess per image at shape (1, 3, 384, 640)\n",
      "Processing frame 372\n",
      "\n",
      "0: 384x640 1 pothole, 42.4ms\n",
      "Speed: 1.7ms preprocess, 42.4ms inference, 0.4ms postprocess per image at shape (1, 3, 384, 640)\n",
      "Frame 372: Pothole Detected with confidence 0.51!\n",
      "Processing frame 373\n",
      "\n",
      "0: 384x640 (no detections), 53.1ms\n",
      "Speed: 1.9ms preprocess, 53.1ms inference, 0.2ms postprocess per image at shape (1, 3, 384, 640)\n",
      "Processing frame 374\n",
      "\n",
      "0: 384x640 (no detections), 57.2ms\n",
      "Speed: 1.5ms preprocess, 57.2ms inference, 0.3ms postprocess per image at shape (1, 3, 384, 640)\n",
      "Processing frame 375\n",
      "\n",
      "0: 384x640 1 pothole, 53.7ms\n",
      "Speed: 1.3ms preprocess, 53.7ms inference, 0.4ms postprocess per image at shape (1, 3, 384, 640)\n",
      "Frame 375: Pothole Detected with confidence 0.51!\n",
      "Processing frame 376\n",
      "\n",
      "0: 384x640 (no detections), 46.2ms\n",
      "Speed: 1.9ms preprocess, 46.2ms inference, 0.3ms postprocess per image at shape (1, 3, 384, 640)\n",
      "Processing frame 377\n",
      "\n",
      "0: 384x640 (no detections), 42.9ms\n",
      "Speed: 2.0ms preprocess, 42.9ms inference, 0.2ms postprocess per image at shape (1, 3, 384, 640)\n",
      "Processing frame 378\n",
      "\n",
      "0: 384x640 (no detections), 43.4ms\n",
      "Speed: 2.2ms preprocess, 43.4ms inference, 0.3ms postprocess per image at shape (1, 3, 384, 640)\n",
      "Processing frame 379\n",
      "\n",
      "0: 384x640 (no detections), 42.2ms\n",
      "Speed: 1.3ms preprocess, 42.2ms inference, 0.3ms postprocess per image at shape (1, 3, 384, 640)\n",
      "Processing frame 380\n",
      "\n",
      "0: 384x640 (no detections), 41.6ms\n",
      "Speed: 1.5ms preprocess, 41.6ms inference, 0.3ms postprocess per image at shape (1, 3, 384, 640)\n",
      "Processing frame 381\n",
      "\n",
      "0: 384x640 (no detections), 44.0ms\n",
      "Speed: 2.6ms preprocess, 44.0ms inference, 0.3ms postprocess per image at shape (1, 3, 384, 640)\n",
      "Processing frame 382\n",
      "\n",
      "0: 384x640 (no detections), 60.8ms\n",
      "Speed: 1.5ms preprocess, 60.8ms inference, 0.2ms postprocess per image at shape (1, 3, 384, 640)\n",
      "Processing frame 383\n",
      "\n",
      "0: 384x640 (no detections), 46.6ms\n",
      "Speed: 2.0ms preprocess, 46.6ms inference, 0.2ms postprocess per image at shape (1, 3, 384, 640)\n",
      "Processing frame 384\n",
      "\n",
      "0: 384x640 (no detections), 43.8ms\n",
      "Speed: 1.6ms preprocess, 43.8ms inference, 0.3ms postprocess per image at shape (1, 3, 384, 640)\n",
      "Processing frame 385\n",
      "\n",
      "0: 384x640 (no detections), 42.1ms\n",
      "Speed: 1.6ms preprocess, 42.1ms inference, 0.3ms postprocess per image at shape (1, 3, 384, 640)\n",
      "Processing frame 386\n",
      "\n",
      "0: 384x640 (no detections), 41.0ms\n",
      "Speed: 1.2ms preprocess, 41.0ms inference, 0.3ms postprocess per image at shape (1, 3, 384, 640)\n",
      "Processing frame 387\n",
      "\n",
      "0: 384x640 (no detections), 44.6ms\n",
      "Speed: 1.9ms preprocess, 44.6ms inference, 0.3ms postprocess per image at shape (1, 3, 384, 640)\n",
      "Processing frame 388\n",
      "\n",
      "0: 384x640 (no detections), 42.4ms\n",
      "Speed: 1.4ms preprocess, 42.4ms inference, 0.3ms postprocess per image at shape (1, 3, 384, 640)\n",
      "Processing frame 389\n",
      "\n",
      "0: 384x640 (no detections), 41.8ms\n",
      "Speed: 1.3ms preprocess, 41.8ms inference, 0.2ms postprocess per image at shape (1, 3, 384, 640)\n",
      "Processing frame 390\n",
      "\n",
      "0: 384x640 (no detections), 44.4ms\n",
      "Speed: 1.4ms preprocess, 44.4ms inference, 0.2ms postprocess per image at shape (1, 3, 384, 640)\n",
      "Processing frame 391\n",
      "\n",
      "0: 384x640 (no detections), 49.9ms\n",
      "Speed: 1.9ms preprocess, 49.9ms inference, 0.3ms postprocess per image at shape (1, 3, 384, 640)\n",
      "Processing frame 392\n",
      "\n",
      "0: 384x640 (no detections), 50.7ms\n",
      "Speed: 1.6ms preprocess, 50.7ms inference, 0.3ms postprocess per image at shape (1, 3, 384, 640)\n",
      "Processing frame 393\n",
      "\n",
      "0: 384x640 (no detections), 51.2ms\n",
      "Speed: 1.6ms preprocess, 51.2ms inference, 0.2ms postprocess per image at shape (1, 3, 384, 640)\n",
      "Processing frame 394\n",
      "\n",
      "0: 384x640 (no detections), 43.9ms\n",
      "Speed: 1.2ms preprocess, 43.9ms inference, 0.3ms postprocess per image at shape (1, 3, 384, 640)\n",
      "Processing frame 395\n",
      "\n",
      "0: 384x640 (no detections), 41.9ms\n",
      "Speed: 1.2ms preprocess, 41.9ms inference, 0.3ms postprocess per image at shape (1, 3, 384, 640)\n",
      "Processing frame 396\n",
      "\n",
      "0: 384x640 (no detections), 42.0ms\n",
      "Speed: 1.3ms preprocess, 42.0ms inference, 0.2ms postprocess per image at shape (1, 3, 384, 640)\n",
      "Processing frame 397\n",
      "\n",
      "0: 384x640 (no detections), 42.6ms\n",
      "Speed: 1.5ms preprocess, 42.6ms inference, 0.3ms postprocess per image at shape (1, 3, 384, 640)\n",
      "Processing frame 398\n",
      "\n",
      "0: 384x640 (no detections), 40.9ms\n",
      "Speed: 1.3ms preprocess, 40.9ms inference, 0.2ms postprocess per image at shape (1, 3, 384, 640)\n",
      "Processing frame 399\n",
      "\n",
      "0: 384x640 (no detections), 42.2ms\n",
      "Speed: 1.2ms preprocess, 42.2ms inference, 0.2ms postprocess per image at shape (1, 3, 384, 640)\n",
      "Processing frame 400\n",
      "\n",
      "0: 384x640 (no detections), 42.9ms\n",
      "Speed: 1.3ms preprocess, 42.9ms inference, 0.3ms postprocess per image at shape (1, 3, 384, 640)\n",
      "Processing frame 401\n",
      "\n",
      "0: 384x640 (no detections), 44.3ms\n",
      "Speed: 1.7ms preprocess, 44.3ms inference, 0.2ms postprocess per image at shape (1, 3, 384, 640)\n",
      "Processing frame 402\n",
      "\n",
      "0: 384x640 (no detections), 42.4ms\n",
      "Speed: 1.7ms preprocess, 42.4ms inference, 0.2ms postprocess per image at shape (1, 3, 384, 640)\n",
      "Processing frame 403\n",
      "\n",
      "0: 384x640 (no detections), 60.2ms\n",
      "Speed: 1.8ms preprocess, 60.2ms inference, 0.4ms postprocess per image at shape (1, 3, 384, 640)\n",
      "Processing frame 404\n",
      "\n",
      "0: 384x640 (no detections), 52.2ms\n",
      "Speed: 1.6ms preprocess, 52.2ms inference, 0.2ms postprocess per image at shape (1, 3, 384, 640)\n",
      "Processing frame 405\n",
      "\n",
      "0: 384x640 (no detections), 44.1ms\n",
      "Speed: 1.4ms preprocess, 44.1ms inference, 0.3ms postprocess per image at shape (1, 3, 384, 640)\n",
      "Processing frame 406\n",
      "\n",
      "0: 384x640 (no detections), 43.4ms\n",
      "Speed: 1.2ms preprocess, 43.4ms inference, 0.2ms postprocess per image at shape (1, 3, 384, 640)\n",
      "Processing frame 407\n",
      "\n",
      "0: 384x640 (no detections), 43.0ms\n",
      "Speed: 1.1ms preprocess, 43.0ms inference, 0.2ms postprocess per image at shape (1, 3, 384, 640)\n",
      "Processing frame 408\n",
      "\n",
      "0: 384x640 (no detections), 51.5ms\n",
      "Speed: 1.7ms preprocess, 51.5ms inference, 0.2ms postprocess per image at shape (1, 3, 384, 640)\n",
      "Processing frame 409\n",
      "\n",
      "0: 384x640 (no detections), 48.3ms\n",
      "Speed: 2.4ms preprocess, 48.3ms inference, 0.2ms postprocess per image at shape (1, 3, 384, 640)\n",
      "Processing frame 410\n",
      "\n",
      "0: 384x640 (no detections), 52.3ms\n",
      "Speed: 1.7ms preprocess, 52.3ms inference, 0.2ms postprocess per image at shape (1, 3, 384, 640)\n",
      "Processing frame 411\n",
      "\n",
      "0: 384x640 (no detections), 57.8ms\n",
      "Speed: 2.0ms preprocess, 57.8ms inference, 0.2ms postprocess per image at shape (1, 3, 384, 640)\n",
      "Processing frame 412\n",
      "\n",
      "0: 384x640 (no detections), 53.4ms\n",
      "Speed: 2.3ms preprocess, 53.4ms inference, 0.3ms postprocess per image at shape (1, 3, 384, 640)\n",
      "Processing frame 413\n",
      "\n",
      "0: 384x640 (no detections), 55.8ms\n",
      "Speed: 1.8ms preprocess, 55.8ms inference, 0.3ms postprocess per image at shape (1, 3, 384, 640)\n",
      "Processing frame 414\n",
      "\n",
      "0: 384x640 (no detections), 53.0ms\n",
      "Speed: 1.7ms preprocess, 53.0ms inference, 0.2ms postprocess per image at shape (1, 3, 384, 640)\n",
      "Processing frame 415\n",
      "\n",
      "0: 384x640 (no detections), 61.6ms\n",
      "Speed: 2.3ms preprocess, 61.6ms inference, 0.3ms postprocess per image at shape (1, 3, 384, 640)\n",
      "Processing frame 416\n",
      "\n",
      "0: 384x640 (no detections), 51.0ms\n",
      "Speed: 1.6ms preprocess, 51.0ms inference, 0.2ms postprocess per image at shape (1, 3, 384, 640)\n",
      "Processing frame 417\n",
      "\n",
      "0: 384x640 (no detections), 48.4ms\n",
      "Speed: 1.8ms preprocess, 48.4ms inference, 0.2ms postprocess per image at shape (1, 3, 384, 640)\n",
      "Processing frame 418\n",
      "\n",
      "0: 384x640 (no detections), 47.5ms\n",
      "Speed: 1.9ms preprocess, 47.5ms inference, 0.3ms postprocess per image at shape (1, 3, 384, 640)\n",
      "Processing frame 419\n",
      "\n",
      "0: 384x640 (no detections), 47.7ms\n",
      "Speed: 1.3ms preprocess, 47.7ms inference, 0.2ms postprocess per image at shape (1, 3, 384, 640)\n",
      "Processing frame 420\n",
      "\n",
      "0: 384x640 (no detections), 45.8ms\n",
      "Speed: 1.9ms preprocess, 45.8ms inference, 0.2ms postprocess per image at shape (1, 3, 384, 640)\n",
      "Processing frame 421\n",
      "\n",
      "0: 384x640 (no detections), 42.6ms\n",
      "Speed: 1.1ms preprocess, 42.6ms inference, 0.2ms postprocess per image at shape (1, 3, 384, 640)\n",
      "Processing frame 422\n",
      "\n",
      "0: 384x640 (no detections), 46.4ms\n",
      "Speed: 1.5ms preprocess, 46.4ms inference, 0.2ms postprocess per image at shape (1, 3, 384, 640)\n",
      "Processing frame 423\n",
      "\n",
      "0: 384x640 (no detections), 53.7ms\n",
      "Speed: 1.7ms preprocess, 53.7ms inference, 0.2ms postprocess per image at shape (1, 3, 384, 640)\n",
      "Processing frame 424\n",
      "\n",
      "0: 384x640 1 pothole, 49.5ms\n",
      "Speed: 2.0ms preprocess, 49.5ms inference, 0.4ms postprocess per image at shape (1, 3, 384, 640)\n",
      "Frame 424: Pothole Detected with confidence 0.55!\n",
      "Processing frame 425\n",
      "\n",
      "0: 384x640 (no detections), 41.2ms\n",
      "Speed: 1.7ms preprocess, 41.2ms inference, 0.4ms postprocess per image at shape (1, 3, 384, 640)\n",
      "Processing frame 426\n",
      "\n",
      "0: 384x640 (no detections), 43.7ms\n",
      "Speed: 2.1ms preprocess, 43.7ms inference, 0.3ms postprocess per image at shape (1, 3, 384, 640)\n",
      "Processing frame 427\n",
      "\n",
      "0: 384x640 (no detections), 47.9ms\n",
      "Speed: 2.0ms preprocess, 47.9ms inference, 0.2ms postprocess per image at shape (1, 3, 384, 640)\n",
      "Processing frame 428\n",
      "\n",
      "0: 384x640 (no detections), 56.0ms\n",
      "Speed: 1.3ms preprocess, 56.0ms inference, 0.2ms postprocess per image at shape (1, 3, 384, 640)\n",
      "Processing frame 429\n",
      "\n",
      "0: 384x640 (no detections), 54.7ms\n",
      "Speed: 2.0ms preprocess, 54.7ms inference, 0.2ms postprocess per image at shape (1, 3, 384, 640)\n",
      "Processing frame 430\n",
      "\n",
      "0: 384x640 (no detections), 42.9ms\n",
      "Speed: 1.8ms preprocess, 42.9ms inference, 0.3ms postprocess per image at shape (1, 3, 384, 640)\n",
      "Processing frame 431\n",
      "\n",
      "0: 384x640 (no detections), 42.4ms\n",
      "Speed: 1.8ms preprocess, 42.4ms inference, 0.3ms postprocess per image at shape (1, 3, 384, 640)\n",
      "Processing frame 432\n",
      "\n",
      "0: 384x640 (no detections), 46.1ms\n",
      "Speed: 1.7ms preprocess, 46.1ms inference, 0.3ms postprocess per image at shape (1, 3, 384, 640)\n",
      "Processing frame 433\n",
      "\n",
      "0: 384x640 (no detections), 45.2ms\n",
      "Speed: 1.2ms preprocess, 45.2ms inference, 0.5ms postprocess per image at shape (1, 3, 384, 640)\n",
      "Processing frame 434\n",
      "\n",
      "0: 384x640 (no detections), 42.9ms\n",
      "Speed: 1.7ms preprocess, 42.9ms inference, 0.3ms postprocess per image at shape (1, 3, 384, 640)\n",
      "Processing frame 435\n",
      "\n",
      "0: 384x640 (no detections), 52.1ms\n",
      "Speed: 2.4ms preprocess, 52.1ms inference, 0.3ms postprocess per image at shape (1, 3, 384, 640)\n",
      "Processing frame 436\n",
      "\n",
      "0: 384x640 (no detections), 45.8ms\n",
      "Speed: 1.5ms preprocess, 45.8ms inference, 0.3ms postprocess per image at shape (1, 3, 384, 640)\n",
      "Processing frame 437\n",
      "\n",
      "0: 384x640 (no detections), 42.4ms\n",
      "Speed: 1.9ms preprocess, 42.4ms inference, 0.2ms postprocess per image at shape (1, 3, 384, 640)\n",
      "Processing frame 438\n",
      "\n",
      "0: 384x640 1 pothole, 44.5ms\n",
      "Speed: 1.6ms preprocess, 44.5ms inference, 0.4ms postprocess per image at shape (1, 3, 384, 640)\n",
      "Frame 438: Pothole Detected with confidence 0.50!\n",
      "Processing frame 439\n",
      "\n",
      "0: 384x640 1 pothole, 42.8ms\n",
      "Speed: 1.6ms preprocess, 42.8ms inference, 0.4ms postprocess per image at shape (1, 3, 384, 640)\n",
      "Frame 439: Pothole Detected with confidence 0.52!\n",
      "Processing frame 440\n",
      "\n",
      "0: 384x640 1 pothole, 49.7ms\n",
      "Speed: 1.8ms preprocess, 49.7ms inference, 0.4ms postprocess per image at shape (1, 3, 384, 640)\n",
      "Frame 440: Pothole Detected with confidence 0.53!\n",
      "Processing frame 441\n",
      "\n",
      "0: 384x640 1 pothole, 45.6ms\n",
      "Speed: 1.8ms preprocess, 45.6ms inference, 0.4ms postprocess per image at shape (1, 3, 384, 640)\n",
      "Frame 441: Pothole Detected with confidence 0.55!\n",
      "Processing frame 442\n",
      "\n",
      "0: 384x640 1 pothole, 41.7ms\n",
      "Speed: 1.8ms preprocess, 41.7ms inference, 0.5ms postprocess per image at shape (1, 3, 384, 640)\n",
      "Frame 442: Pothole Detected with confidence 0.50!\n",
      "Processing frame 443\n",
      "\n",
      "0: 384x640 1 pothole, 43.9ms\n",
      "Speed: 1.8ms preprocess, 43.9ms inference, 0.4ms postprocess per image at shape (1, 3, 384, 640)\n",
      "Frame 443: Pothole Detected with confidence 0.51!\n",
      "Processing frame 444\n",
      "\n",
      "0: 384x640 1 pothole, 47.8ms\n",
      "Speed: 1.5ms preprocess, 47.8ms inference, 0.4ms postprocess per image at shape (1, 3, 384, 640)\n",
      "Frame 444: Pothole Detected with confidence 0.50!\n",
      "Processing frame 445\n",
      "\n",
      "0: 384x640 (no detections), 49.3ms\n",
      "Speed: 1.9ms preprocess, 49.3ms inference, 0.2ms postprocess per image at shape (1, 3, 384, 640)\n",
      "Processing frame 446\n",
      "\n",
      "0: 384x640 (no detections), 48.8ms\n",
      "Speed: 1.3ms preprocess, 48.8ms inference, 0.3ms postprocess per image at shape (1, 3, 384, 640)\n",
      "Processing frame 447\n",
      "\n",
      "0: 384x640 1 pothole, 65.7ms\n",
      "Speed: 1.5ms preprocess, 65.7ms inference, 0.5ms postprocess per image at shape (1, 3, 384, 640)\n",
      "Frame 447: Pothole Detected with confidence 0.56!\n",
      "Processing frame 448\n",
      "\n",
      "0: 384x640 1 pothole, 52.6ms\n",
      "Speed: 2.0ms preprocess, 52.6ms inference, 0.4ms postprocess per image at shape (1, 3, 384, 640)\n",
      "Frame 448: Pothole Detected with confidence 0.50!\n",
      "Processing frame 449\n",
      "\n",
      "0: 384x640 (no detections), 44.6ms\n",
      "Speed: 1.8ms preprocess, 44.6ms inference, 0.2ms postprocess per image at shape (1, 3, 384, 640)\n",
      "Processing frame 450\n",
      "\n",
      "0: 384x640 (no detections), 42.4ms\n",
      "Speed: 1.8ms preprocess, 42.4ms inference, 0.2ms postprocess per image at shape (1, 3, 384, 640)\n",
      "Processing frame 451\n",
      "\n",
      "0: 384x640 (no detections), 41.4ms\n",
      "Speed: 1.4ms preprocess, 41.4ms inference, 0.2ms postprocess per image at shape (1, 3, 384, 640)\n",
      "Processing frame 452\n",
      "\n",
      "0: 384x640 (no detections), 42.1ms\n",
      "Speed: 1.5ms preprocess, 42.1ms inference, 0.3ms postprocess per image at shape (1, 3, 384, 640)\n",
      "Processing frame 453\n",
      "\n",
      "0: 384x640 (no detections), 47.2ms\n",
      "Speed: 1.6ms preprocess, 47.2ms inference, 0.3ms postprocess per image at shape (1, 3, 384, 640)\n",
      "Processing frame 454\n",
      "\n",
      "0: 384x640 (no detections), 42.5ms\n",
      "Speed: 1.4ms preprocess, 42.5ms inference, 0.3ms postprocess per image at shape (1, 3, 384, 640)\n",
      "Processing frame 455\n",
      "\n",
      "0: 384x640 (no detections), 45.7ms\n",
      "Speed: 2.1ms preprocess, 45.7ms inference, 0.3ms postprocess per image at shape (1, 3, 384, 640)\n",
      "Processing frame 456\n",
      "\n",
      "0: 384x640 (no detections), 43.4ms\n",
      "Speed: 2.3ms preprocess, 43.4ms inference, 0.2ms postprocess per image at shape (1, 3, 384, 640)\n",
      "Processing frame 457\n",
      "\n",
      "0: 384x640 (no detections), 46.5ms\n",
      "Speed: 1.7ms preprocess, 46.5ms inference, 0.3ms postprocess per image at shape (1, 3, 384, 640)\n",
      "Processing frame 458\n",
      "\n",
      "0: 384x640 (no detections), 46.1ms\n",
      "Speed: 2.0ms preprocess, 46.1ms inference, 0.2ms postprocess per image at shape (1, 3, 384, 640)\n",
      "Processing frame 459\n",
      "\n",
      "0: 384x640 (no detections), 40.3ms\n",
      "Speed: 1.5ms preprocess, 40.3ms inference, 0.3ms postprocess per image at shape (1, 3, 384, 640)\n",
      "Processing frame 460\n",
      "\n",
      "0: 384x640 (no detections), 43.5ms\n",
      "Speed: 2.0ms preprocess, 43.5ms inference, 0.2ms postprocess per image at shape (1, 3, 384, 640)\n",
      "Processing frame 461\n",
      "\n",
      "0: 384x640 (no detections), 42.5ms\n",
      "Speed: 2.1ms preprocess, 42.5ms inference, 0.2ms postprocess per image at shape (1, 3, 384, 640)\n",
      "Processing frame 462\n",
      "\n",
      "0: 384x640 (no detections), 46.1ms\n",
      "Speed: 1.8ms preprocess, 46.1ms inference, 0.2ms postprocess per image at shape (1, 3, 384, 640)\n",
      "Processing frame 463\n",
      "\n",
      "0: 384x640 (no detections), 47.2ms\n",
      "Speed: 2.5ms preprocess, 47.2ms inference, 0.4ms postprocess per image at shape (1, 3, 384, 640)\n",
      "Processing frame 464\n",
      "\n",
      "0: 384x640 (no detections), 41.6ms\n",
      "Speed: 1.6ms preprocess, 41.6ms inference, 0.3ms postprocess per image at shape (1, 3, 384, 640)\n",
      "Processing frame 465\n",
      "\n",
      "0: 384x640 (no detections), 43.1ms\n",
      "Speed: 1.7ms preprocess, 43.1ms inference, 0.2ms postprocess per image at shape (1, 3, 384, 640)\n",
      "Processing frame 466\n",
      "\n",
      "0: 384x640 (no detections), 52.1ms\n",
      "Speed: 1.8ms preprocess, 52.1ms inference, 0.3ms postprocess per image at shape (1, 3, 384, 640)\n",
      "Processing frame 467\n",
      "\n",
      "0: 384x640 (no detections), 50.4ms\n",
      "Speed: 1.6ms preprocess, 50.4ms inference, 0.3ms postprocess per image at shape (1, 3, 384, 640)\n",
      "Processing frame 468\n",
      "\n",
      "0: 384x640 (no detections), 48.6ms\n",
      "Speed: 1.8ms preprocess, 48.6ms inference, 0.2ms postprocess per image at shape (1, 3, 384, 640)\n",
      "Processing frame 469\n",
      "\n",
      "0: 384x640 1 pothole, 49.8ms\n",
      "Speed: 1.6ms preprocess, 49.8ms inference, 0.4ms postprocess per image at shape (1, 3, 384, 640)\n",
      "Frame 469: Pothole Detected with confidence 0.51!\n",
      "Processing frame 470\n",
      "\n",
      "0: 384x640 1 pothole, 49.6ms\n",
      "Speed: 1.5ms preprocess, 49.6ms inference, 0.4ms postprocess per image at shape (1, 3, 384, 640)\n",
      "Frame 470: Pothole Detected with confidence 0.52!\n",
      "Processing frame 471\n",
      "\n",
      "0: 384x640 (no detections), 46.5ms\n",
      "Speed: 1.4ms preprocess, 46.5ms inference, 0.3ms postprocess per image at shape (1, 3, 384, 640)\n",
      "Processing frame 472\n",
      "\n",
      "0: 384x640 (no detections), 48.4ms\n",
      "Speed: 1.4ms preprocess, 48.4ms inference, 0.3ms postprocess per image at shape (1, 3, 384, 640)\n",
      "Processing frame 473\n",
      "\n",
      "0: 384x640 1 pothole, 48.9ms\n",
      "Speed: 1.7ms preprocess, 48.9ms inference, 0.4ms postprocess per image at shape (1, 3, 384, 640)\n",
      "Frame 473: Pothole Detected with confidence 0.50!\n",
      "Processing frame 474\n",
      "\n",
      "0: 384x640 1 pothole, 49.4ms\n",
      "Speed: 1.5ms preprocess, 49.4ms inference, 0.8ms postprocess per image at shape (1, 3, 384, 640)\n",
      "Frame 474: Pothole Detected with confidence 0.51!\n",
      "Processing frame 475\n",
      "\n",
      "0: 384x640 (no detections), 50.2ms\n",
      "Speed: 1.7ms preprocess, 50.2ms inference, 0.2ms postprocess per image at shape (1, 3, 384, 640)\n",
      "Processing frame 476\n",
      "\n",
      "0: 384x640 (no detections), 48.9ms\n",
      "Speed: 1.7ms preprocess, 48.9ms inference, 0.5ms postprocess per image at shape (1, 3, 384, 640)\n",
      "Processing frame 477\n",
      "\n",
      "0: 384x640 (no detections), 62.4ms\n",
      "Speed: 1.7ms preprocess, 62.4ms inference, 0.3ms postprocess per image at shape (1, 3, 384, 640)\n",
      "Processing frame 478\n",
      "\n",
      "0: 384x640 (no detections), 54.8ms\n",
      "Speed: 1.9ms preprocess, 54.8ms inference, 0.3ms postprocess per image at shape (1, 3, 384, 640)\n",
      "Processing frame 479\n",
      "\n",
      "0: 384x640 (no detections), 43.5ms\n",
      "Speed: 2.0ms preprocess, 43.5ms inference, 0.2ms postprocess per image at shape (1, 3, 384, 640)\n",
      "Processing frame 480\n",
      "\n",
      "0: 384x640 (no detections), 42.7ms\n",
      "Speed: 1.6ms preprocess, 42.7ms inference, 0.3ms postprocess per image at shape (1, 3, 384, 640)\n",
      "Processing frame 481\n",
      "\n",
      "0: 384x640 (no detections), 46.6ms\n",
      "Speed: 1.7ms preprocess, 46.6ms inference, 0.2ms postprocess per image at shape (1, 3, 384, 640)\n",
      "Processing frame 482\n",
      "\n",
      "0: 384x640 (no detections), 46.3ms\n",
      "Speed: 1.2ms preprocess, 46.3ms inference, 0.3ms postprocess per image at shape (1, 3, 384, 640)\n",
      "Processing frame 483\n",
      "\n",
      "0: 384x640 (no detections), 48.2ms\n",
      "Speed: 1.7ms preprocess, 48.2ms inference, 0.3ms postprocess per image at shape (1, 3, 384, 640)\n",
      "Processing frame 484\n",
      "\n",
      "0: 384x640 (no detections), 51.1ms\n",
      "Speed: 1.2ms preprocess, 51.1ms inference, 0.5ms postprocess per image at shape (1, 3, 384, 640)\n",
      "Processing frame 485\n",
      "\n",
      "0: 384x640 (no detections), 43.1ms\n",
      "Speed: 1.8ms preprocess, 43.1ms inference, 0.3ms postprocess per image at shape (1, 3, 384, 640)\n",
      "Processing frame 486\n",
      "\n",
      "0: 384x640 (no detections), 44.2ms\n",
      "Speed: 2.5ms preprocess, 44.2ms inference, 0.3ms postprocess per image at shape (1, 3, 384, 640)\n",
      "Processing frame 487\n",
      "\n",
      "0: 384x640 (no detections), 42.9ms\n",
      "Speed: 1.5ms preprocess, 42.9ms inference, 0.2ms postprocess per image at shape (1, 3, 384, 640)\n",
      "Processing frame 488\n",
      "\n",
      "0: 384x640 (no detections), 43.2ms\n",
      "Speed: 1.3ms preprocess, 43.2ms inference, 0.3ms postprocess per image at shape (1, 3, 384, 640)\n",
      "Processing frame 489\n",
      "\n",
      "0: 384x640 (no detections), 42.5ms\n",
      "Speed: 1.8ms preprocess, 42.5ms inference, 0.3ms postprocess per image at shape (1, 3, 384, 640)\n",
      "Processing frame 490\n",
      "\n",
      "0: 384x640 (no detections), 43.4ms\n",
      "Speed: 1.2ms preprocess, 43.4ms inference, 0.5ms postprocess per image at shape (1, 3, 384, 640)\n",
      "Processing frame 491\n",
      "\n",
      "0: 384x640 (no detections), 43.3ms\n",
      "Speed: 2.0ms preprocess, 43.3ms inference, 0.3ms postprocess per image at shape (1, 3, 384, 640)\n",
      "Processing frame 492\n",
      "\n",
      "0: 384x640 (no detections), 42.9ms\n",
      "Speed: 2.0ms preprocess, 42.9ms inference, 0.3ms postprocess per image at shape (1, 3, 384, 640)\n",
      "Processing frame 493\n",
      "\n",
      "0: 384x640 (no detections), 42.3ms\n",
      "Speed: 1.8ms preprocess, 42.3ms inference, 0.3ms postprocess per image at shape (1, 3, 384, 640)\n",
      "Processing frame 494\n",
      "\n",
      "0: 384x640 (no detections), 41.7ms\n",
      "Speed: 2.0ms preprocess, 41.7ms inference, 0.3ms postprocess per image at shape (1, 3, 384, 640)\n",
      "Processing frame 495\n",
      "\n",
      "0: 384x640 (no detections), 42.2ms\n",
      "Speed: 1.8ms preprocess, 42.2ms inference, 0.3ms postprocess per image at shape (1, 3, 384, 640)\n",
      "Processing frame 496\n",
      "\n",
      "0: 384x640 (no detections), 43.2ms\n",
      "Speed: 1.7ms preprocess, 43.2ms inference, 0.3ms postprocess per image at shape (1, 3, 384, 640)\n",
      "Processing frame 497\n",
      "\n",
      "0: 384x640 (no detections), 42.4ms\n",
      "Speed: 1.4ms preprocess, 42.4ms inference, 0.3ms postprocess per image at shape (1, 3, 384, 640)\n",
      "Processing frame 498\n",
      "\n",
      "0: 384x640 (no detections), 47.8ms\n",
      "Speed: 1.4ms preprocess, 47.8ms inference, 0.3ms postprocess per image at shape (1, 3, 384, 640)\n",
      "Processing frame 499\n",
      "\n",
      "0: 384x640 (no detections), 51.5ms\n",
      "Speed: 1.6ms preprocess, 51.5ms inference, 0.2ms postprocess per image at shape (1, 3, 384, 640)\n",
      "Processing frame 500\n",
      "\n",
      "0: 384x640 (no detections), 50.0ms\n",
      "Speed: 1.9ms preprocess, 50.0ms inference, 0.3ms postprocess per image at shape (1, 3, 384, 640)\n",
      "Processing frame 501\n",
      "\n",
      "0: 384x640 (no detections), 48.0ms\n",
      "Speed: 1.8ms preprocess, 48.0ms inference, 0.3ms postprocess per image at shape (1, 3, 384, 640)\n",
      "Processing frame 502\n",
      "\n",
      "0: 384x640 (no detections), 52.4ms\n",
      "Speed: 1.3ms preprocess, 52.4ms inference, 0.2ms postprocess per image at shape (1, 3, 384, 640)\n",
      "Processing frame 503\n",
      "\n",
      "0: 384x640 (no detections), 56.7ms\n",
      "Speed: 1.7ms preprocess, 56.7ms inference, 0.2ms postprocess per image at shape (1, 3, 384, 640)\n",
      "Processing frame 504\n",
      "\n",
      "0: 384x640 (no detections), 44.0ms\n",
      "Speed: 1.5ms preprocess, 44.0ms inference, 0.3ms postprocess per image at shape (1, 3, 384, 640)\n",
      "Processing frame 505\n",
      "\n",
      "0: 384x640 (no detections), 57.5ms\n",
      "Speed: 1.3ms preprocess, 57.5ms inference, 0.3ms postprocess per image at shape (1, 3, 384, 640)\n",
      "Processing frame 506\n",
      "\n",
      "0: 384x640 (no detections), 44.1ms\n",
      "Speed: 1.8ms preprocess, 44.1ms inference, 0.2ms postprocess per image at shape (1, 3, 384, 640)\n",
      "Processing frame 507\n",
      "\n",
      "0: 384x640 (no detections), 41.9ms\n",
      "Speed: 1.5ms preprocess, 41.9ms inference, 0.3ms postprocess per image at shape (1, 3, 384, 640)\n",
      "Processing frame 508\n",
      "\n",
      "0: 384x640 (no detections), 46.0ms\n",
      "Speed: 1.2ms preprocess, 46.0ms inference, 0.2ms postprocess per image at shape (1, 3, 384, 640)\n",
      "Processing frame 509\n",
      "\n",
      "0: 384x640 (no detections), 51.2ms\n",
      "Speed: 1.5ms preprocess, 51.2ms inference, 0.3ms postprocess per image at shape (1, 3, 384, 640)\n",
      "Processing frame 510\n",
      "\n",
      "0: 384x640 1 pothole, 49.1ms\n",
      "Speed: 1.9ms preprocess, 49.1ms inference, 0.5ms postprocess per image at shape (1, 3, 384, 640)\n",
      "Frame 510: Pothole Detected with confidence 0.51!\n",
      "Processing frame 511\n",
      "\n",
      "0: 384x640 (no detections), 46.4ms\n",
      "Speed: 1.8ms preprocess, 46.4ms inference, 0.3ms postprocess per image at shape (1, 3, 384, 640)\n",
      "Processing frame 512\n",
      "\n",
      "0: 384x640 (no detections), 43.4ms\n",
      "Speed: 1.3ms preprocess, 43.4ms inference, 0.3ms postprocess per image at shape (1, 3, 384, 640)\n",
      "Processing frame 513\n",
      "\n",
      "0: 384x640 (no detections), 42.3ms\n",
      "Speed: 1.2ms preprocess, 42.3ms inference, 0.3ms postprocess per image at shape (1, 3, 384, 640)\n",
      "Processing frame 514\n",
      "\n",
      "0: 384x640 (no detections), 45.6ms\n",
      "Speed: 1.6ms preprocess, 45.6ms inference, 0.3ms postprocess per image at shape (1, 3, 384, 640)\n",
      "Processing frame 515\n",
      "\n",
      "0: 384x640 (no detections), 43.2ms\n",
      "Speed: 2.3ms preprocess, 43.2ms inference, 0.3ms postprocess per image at shape (1, 3, 384, 640)\n",
      "Processing frame 516\n",
      "\n",
      "0: 384x640 (no detections), 43.5ms\n",
      "Speed: 1.4ms preprocess, 43.5ms inference, 0.3ms postprocess per image at shape (1, 3, 384, 640)\n",
      "Processing frame 517\n",
      "\n",
      "0: 384x640 (no detections), 46.9ms\n",
      "Speed: 1.8ms preprocess, 46.9ms inference, 0.3ms postprocess per image at shape (1, 3, 384, 640)\n",
      "Processing frame 518\n",
      "\n",
      "0: 384x640 (no detections), 46.7ms\n",
      "Speed: 2.0ms preprocess, 46.7ms inference, 0.3ms postprocess per image at shape (1, 3, 384, 640)\n",
      "Processing frame 519\n",
      "\n",
      "0: 384x640 (no detections), 43.1ms\n",
      "Speed: 1.4ms preprocess, 43.1ms inference, 0.3ms postprocess per image at shape (1, 3, 384, 640)\n",
      "Processing frame 520\n",
      "\n",
      "0: 384x640 (no detections), 44.0ms\n",
      "Speed: 1.3ms preprocess, 44.0ms inference, 0.3ms postprocess per image at shape (1, 3, 384, 640)\n",
      "Processing frame 521\n",
      "\n",
      "0: 384x640 (no detections), 48.8ms\n",
      "Speed: 1.6ms preprocess, 48.8ms inference, 0.3ms postprocess per image at shape (1, 3, 384, 640)\n",
      "Processing frame 522\n",
      "\n",
      "0: 384x640 (no detections), 53.8ms\n",
      "Speed: 1.5ms preprocess, 53.8ms inference, 0.3ms postprocess per image at shape (1, 3, 384, 640)\n",
      "Processing frame 523\n",
      "\n",
      "0: 384x640 (no detections), 43.3ms\n",
      "Speed: 1.7ms preprocess, 43.3ms inference, 0.3ms postprocess per image at shape (1, 3, 384, 640)\n",
      "Processing frame 524\n",
      "\n",
      "0: 384x640 (no detections), 43.1ms\n",
      "Speed: 2.1ms preprocess, 43.1ms inference, 0.3ms postprocess per image at shape (1, 3, 384, 640)\n",
      "Processing frame 525\n",
      "\n",
      "0: 384x640 (no detections), 41.8ms\n",
      "Speed: 1.8ms preprocess, 41.8ms inference, 0.3ms postprocess per image at shape (1, 3, 384, 640)\n",
      "Processing frame 526\n",
      "\n",
      "0: 384x640 (no detections), 41.2ms\n",
      "Speed: 1.3ms preprocess, 41.2ms inference, 0.3ms postprocess per image at shape (1, 3, 384, 640)\n",
      "Processing frame 527\n",
      "\n",
      "0: 384x640 (no detections), 43.5ms\n",
      "Speed: 1.5ms preprocess, 43.5ms inference, 0.3ms postprocess per image at shape (1, 3, 384, 640)\n",
      "Processing frame 528\n",
      "\n",
      "0: 384x640 (no detections), 44.6ms\n",
      "Speed: 1.2ms preprocess, 44.6ms inference, 0.3ms postprocess per image at shape (1, 3, 384, 640)\n",
      "Processing frame 529\n",
      "\n",
      "0: 384x640 (no detections), 43.0ms\n",
      "Speed: 1.3ms preprocess, 43.0ms inference, 0.3ms postprocess per image at shape (1, 3, 384, 640)\n",
      "Processing frame 530\n",
      "\n",
      "0: 384x640 (no detections), 43.7ms\n",
      "Speed: 1.6ms preprocess, 43.7ms inference, 0.3ms postprocess per image at shape (1, 3, 384, 640)\n",
      "Processing frame 531\n",
      "\n",
      "0: 384x640 (no detections), 41.1ms\n",
      "Speed: 1.8ms preprocess, 41.1ms inference, 0.3ms postprocess per image at shape (1, 3, 384, 640)\n",
      "Processing frame 532\n",
      "\n",
      "0: 384x640 (no detections), 55.5ms\n",
      "Speed: 2.0ms preprocess, 55.5ms inference, 0.2ms postprocess per image at shape (1, 3, 384, 640)\n",
      "Processing frame 533\n",
      "\n",
      "0: 384x640 (no detections), 44.9ms\n",
      "Speed: 1.9ms preprocess, 44.9ms inference, 0.3ms postprocess per image at shape (1, 3, 384, 640)\n",
      "Processing frame 534\n",
      "\n",
      "0: 384x640 (no detections), 40.9ms\n",
      "Speed: 1.7ms preprocess, 40.9ms inference, 0.3ms postprocess per image at shape (1, 3, 384, 640)\n",
      "Processing frame 535\n",
      "\n",
      "0: 384x640 (no detections), 49.3ms\n",
      "Speed: 1.6ms preprocess, 49.3ms inference, 0.2ms postprocess per image at shape (1, 3, 384, 640)\n",
      "Processing frame 536\n",
      "\n",
      "0: 384x640 (no detections), 48.9ms\n",
      "Speed: 2.1ms preprocess, 48.9ms inference, 0.3ms postprocess per image at shape (1, 3, 384, 640)\n",
      "Processing frame 537\n",
      "\n",
      "0: 384x640 (no detections), 43.4ms\n",
      "Speed: 2.1ms preprocess, 43.4ms inference, 0.3ms postprocess per image at shape (1, 3, 384, 640)\n",
      "Processing frame 538\n",
      "\n",
      "0: 384x640 (no detections), 42.7ms\n",
      "Speed: 2.0ms preprocess, 42.7ms inference, 0.3ms postprocess per image at shape (1, 3, 384, 640)\n",
      "Processing frame 539\n",
      "\n",
      "0: 384x640 (no detections), 40.8ms\n",
      "Speed: 1.7ms preprocess, 40.8ms inference, 0.3ms postprocess per image at shape (1, 3, 384, 640)\n",
      "Processing frame 540\n",
      "\n",
      "0: 384x640 (no detections), 49.8ms\n",
      "Speed: 1.4ms preprocess, 49.8ms inference, 0.3ms postprocess per image at shape (1, 3, 384, 640)\n",
      "Processing frame 541\n",
      "\n",
      "0: 384x640 (no detections), 49.3ms\n",
      "Speed: 1.3ms preprocess, 49.3ms inference, 0.3ms postprocess per image at shape (1, 3, 384, 640)\n",
      "Processing frame 542\n",
      "\n",
      "0: 384x640 (no detections), 42.7ms\n",
      "Speed: 1.2ms preprocess, 42.7ms inference, 0.3ms postprocess per image at shape (1, 3, 384, 640)\n",
      "Processing frame 543\n",
      "\n",
      "0: 384x640 (no detections), 40.6ms\n",
      "Speed: 1.4ms preprocess, 40.6ms inference, 0.3ms postprocess per image at shape (1, 3, 384, 640)\n",
      "Processing frame 544\n",
      "\n",
      "0: 384x640 (no detections), 44.6ms\n",
      "Speed: 2.3ms preprocess, 44.6ms inference, 0.2ms postprocess per image at shape (1, 3, 384, 640)\n",
      "Processing frame 545\n",
      "\n",
      "0: 384x640 (no detections), 41.0ms\n",
      "Speed: 1.3ms preprocess, 41.0ms inference, 0.3ms postprocess per image at shape (1, 3, 384, 640)\n",
      "Processing frame 546\n",
      "\n",
      "0: 384x640 (no detections), 41.9ms\n",
      "Speed: 1.1ms preprocess, 41.9ms inference, 0.3ms postprocess per image at shape (1, 3, 384, 640)\n",
      "Processing frame 547\n",
      "\n",
      "0: 384x640 (no detections), 42.1ms\n",
      "Speed: 1.7ms preprocess, 42.1ms inference, 0.3ms postprocess per image at shape (1, 3, 384, 640)\n",
      "Processing frame 548\n",
      "\n",
      "0: 384x640 (no detections), 41.1ms\n",
      "Speed: 1.1ms preprocess, 41.1ms inference, 0.3ms postprocess per image at shape (1, 3, 384, 640)\n",
      "Processing frame 549\n",
      "\n",
      "0: 384x640 (no detections), 41.5ms\n",
      "Speed: 1.4ms preprocess, 41.5ms inference, 0.3ms postprocess per image at shape (1, 3, 384, 640)\n",
      "Processing frame 550\n",
      "\n",
      "0: 384x640 (no detections), 41.7ms\n",
      "Speed: 1.5ms preprocess, 41.7ms inference, 0.3ms postprocess per image at shape (1, 3, 384, 640)\n",
      "Processing frame 551\n",
      "\n",
      "0: 384x640 (no detections), 42.3ms\n",
      "Speed: 1.7ms preprocess, 42.3ms inference, 0.3ms postprocess per image at shape (1, 3, 384, 640)\n",
      "Processing frame 552\n",
      "\n",
      "0: 384x640 (no detections), 40.8ms\n",
      "Speed: 1.5ms preprocess, 40.8ms inference, 0.3ms postprocess per image at shape (1, 3, 384, 640)\n",
      "Processing frame 553\n",
      "\n",
      "0: 384x640 (no detections), 41.4ms\n",
      "Speed: 1.4ms preprocess, 41.4ms inference, 0.3ms postprocess per image at shape (1, 3, 384, 640)\n",
      "Processing frame 554\n",
      "\n",
      "0: 384x640 (no detections), 49.0ms\n",
      "Speed: 1.2ms preprocess, 49.0ms inference, 0.3ms postprocess per image at shape (1, 3, 384, 640)\n",
      "Processing frame 555\n",
      "\n",
      "0: 384x640 (no detections), 48.6ms\n",
      "Speed: 2.5ms preprocess, 48.6ms inference, 0.3ms postprocess per image at shape (1, 3, 384, 640)\n",
      "Processing frame 556\n",
      "\n",
      "0: 384x640 (no detections), 43.3ms\n",
      "Speed: 1.3ms preprocess, 43.3ms inference, 0.2ms postprocess per image at shape (1, 3, 384, 640)\n",
      "Processing frame 557\n",
      "\n",
      "0: 384x640 (no detections), 48.0ms\n",
      "Speed: 1.3ms preprocess, 48.0ms inference, 0.3ms postprocess per image at shape (1, 3, 384, 640)\n",
      "Processing frame 558\n",
      "\n",
      "0: 384x640 (no detections), 48.6ms\n",
      "Speed: 1.5ms preprocess, 48.6ms inference, 0.3ms postprocess per image at shape (1, 3, 384, 640)\n",
      "Processing frame 559\n",
      "\n",
      "0: 384x640 (no detections), 53.4ms\n",
      "Speed: 1.3ms preprocess, 53.4ms inference, 0.3ms postprocess per image at shape (1, 3, 384, 640)\n",
      "Processing frame 560\n",
      "\n",
      "0: 384x640 (no detections), 59.3ms\n",
      "Speed: 2.0ms preprocess, 59.3ms inference, 0.2ms postprocess per image at shape (1, 3, 384, 640)\n",
      "Processing frame 561\n",
      "\n",
      "0: 384x640 (no detections), 61.3ms\n",
      "Speed: 1.7ms preprocess, 61.3ms inference, 0.3ms postprocess per image at shape (1, 3, 384, 640)\n",
      "Processing frame 562\n",
      "\n",
      "0: 384x640 (no detections), 48.5ms\n",
      "Speed: 2.2ms preprocess, 48.5ms inference, 0.3ms postprocess per image at shape (1, 3, 384, 640)\n",
      "Processing frame 563\n",
      "\n",
      "0: 384x640 (no detections), 46.6ms\n",
      "Speed: 1.9ms preprocess, 46.6ms inference, 0.3ms postprocess per image at shape (1, 3, 384, 640)\n",
      "Processing frame 564\n",
      "\n",
      "0: 384x640 (no detections), 50.1ms\n",
      "Speed: 1.7ms preprocess, 50.1ms inference, 0.2ms postprocess per image at shape (1, 3, 384, 640)\n",
      "Processing frame 565\n",
      "\n",
      "0: 384x640 (no detections), 53.0ms\n",
      "Speed: 2.1ms preprocess, 53.0ms inference, 0.3ms postprocess per image at shape (1, 3, 384, 640)\n",
      "Processing frame 566\n",
      "\n",
      "0: 384x640 (no detections), 46.7ms\n",
      "Speed: 1.7ms preprocess, 46.7ms inference, 0.2ms postprocess per image at shape (1, 3, 384, 640)\n",
      "Processing frame 567\n",
      "\n",
      "0: 384x640 (no detections), 42.5ms\n",
      "Speed: 2.0ms preprocess, 42.5ms inference, 0.3ms postprocess per image at shape (1, 3, 384, 640)\n",
      "Processing frame 568\n",
      "\n",
      "0: 384x640 (no detections), 43.1ms\n",
      "Speed: 1.7ms preprocess, 43.1ms inference, 0.3ms postprocess per image at shape (1, 3, 384, 640)\n",
      "Processing frame 569\n",
      "\n",
      "0: 384x640 (no detections), 40.2ms\n",
      "Speed: 1.6ms preprocess, 40.2ms inference, 0.3ms postprocess per image at shape (1, 3, 384, 640)\n",
      "Processing frame 570\n",
      "\n",
      "0: 384x640 (no detections), 41.6ms\n",
      "Speed: 1.7ms preprocess, 41.6ms inference, 0.2ms postprocess per image at shape (1, 3, 384, 640)\n",
      "Processing frame 571\n",
      "\n",
      "0: 384x640 (no detections), 41.6ms\n",
      "Speed: 1.5ms preprocess, 41.6ms inference, 0.3ms postprocess per image at shape (1, 3, 384, 640)\n",
      "Processing frame 572\n",
      "\n",
      "0: 384x640 (no detections), 48.1ms\n",
      "Speed: 1.5ms preprocess, 48.1ms inference, 0.2ms postprocess per image at shape (1, 3, 384, 640)\n",
      "Processing frame 573\n",
      "\n",
      "0: 384x640 (no detections), 44.6ms\n",
      "Speed: 1.5ms preprocess, 44.6ms inference, 0.2ms postprocess per image at shape (1, 3, 384, 640)\n",
      "Processing frame 574\n",
      "\n",
      "0: 384x640 (no detections), 40.7ms\n",
      "Speed: 1.6ms preprocess, 40.7ms inference, 0.3ms postprocess per image at shape (1, 3, 384, 640)\n",
      "Processing frame 575\n",
      "\n",
      "0: 384x640 (no detections), 40.2ms\n",
      "Speed: 1.3ms preprocess, 40.2ms inference, 0.3ms postprocess per image at shape (1, 3, 384, 640)\n",
      "Processing frame 576\n",
      "\n",
      "0: 384x640 (no detections), 42.1ms\n",
      "Speed: 1.2ms preprocess, 42.1ms inference, 0.2ms postprocess per image at shape (1, 3, 384, 640)\n",
      "Processing frame 577\n",
      "\n",
      "0: 384x640 (no detections), 41.7ms\n",
      "Speed: 1.3ms preprocess, 41.7ms inference, 0.2ms postprocess per image at shape (1, 3, 384, 640)\n",
      "Processing frame 578\n",
      "\n",
      "0: 384x640 (no detections), 51.1ms\n",
      "Speed: 1.3ms preprocess, 51.1ms inference, 0.2ms postprocess per image at shape (1, 3, 384, 640)\n",
      "Processing frame 579\n",
      "\n",
      "0: 384x640 (no detections), 52.3ms\n",
      "Speed: 2.2ms preprocess, 52.3ms inference, 0.2ms postprocess per image at shape (1, 3, 384, 640)\n",
      "Processing frame 580\n",
      "\n",
      "0: 384x640 (no detections), 42.6ms\n",
      "Speed: 2.5ms preprocess, 42.6ms inference, 0.2ms postprocess per image at shape (1, 3, 384, 640)\n",
      "Processing frame 581\n",
      "\n",
      "0: 384x640 (no detections), 41.6ms\n",
      "Speed: 1.3ms preprocess, 41.6ms inference, 0.3ms postprocess per image at shape (1, 3, 384, 640)\n",
      "Processing frame 582\n",
      "\n",
      "0: 384x640 (no detections), 42.1ms\n",
      "Speed: 1.8ms preprocess, 42.1ms inference, 0.2ms postprocess per image at shape (1, 3, 384, 640)\n",
      "Processing frame 583\n",
      "\n",
      "0: 384x640 (no detections), 40.9ms\n",
      "Speed: 1.6ms preprocess, 40.9ms inference, 0.2ms postprocess per image at shape (1, 3, 384, 640)\n",
      "Processing frame 584\n",
      "\n",
      "0: 384x640 (no detections), 42.2ms\n",
      "Speed: 1.3ms preprocess, 42.2ms inference, 0.3ms postprocess per image at shape (1, 3, 384, 640)\n",
      "Processing frame 585\n",
      "\n",
      "0: 384x640 (no detections), 43.4ms\n",
      "Speed: 1.8ms preprocess, 43.4ms inference, 0.3ms postprocess per image at shape (1, 3, 384, 640)\n",
      "Processing frame 586\n",
      "\n",
      "0: 384x640 (no detections), 41.1ms\n",
      "Speed: 1.5ms preprocess, 41.1ms inference, 0.3ms postprocess per image at shape (1, 3, 384, 640)\n",
      "Processing frame 587\n",
      "\n",
      "0: 384x640 (no detections), 42.5ms\n",
      "Speed: 1.7ms preprocess, 42.5ms inference, 0.3ms postprocess per image at shape (1, 3, 384, 640)\n",
      "Processing frame 588\n",
      "\n",
      "0: 384x640 (no detections), 55.0ms\n",
      "Speed: 1.3ms preprocess, 55.0ms inference, 0.3ms postprocess per image at shape (1, 3, 384, 640)\n",
      "Processing frame 589\n",
      "\n",
      "0: 384x640 (no detections), 45.8ms\n",
      "Speed: 1.8ms preprocess, 45.8ms inference, 0.3ms postprocess per image at shape (1, 3, 384, 640)\n",
      "Processing frame 590\n",
      "\n",
      "0: 384x640 (no detections), 48.6ms\n",
      "Speed: 1.6ms preprocess, 48.6ms inference, 0.3ms postprocess per image at shape (1, 3, 384, 640)\n",
      "Processing frame 591\n",
      "\n",
      "0: 384x640 (no detections), 42.4ms\n",
      "Speed: 2.0ms preprocess, 42.4ms inference, 0.3ms postprocess per image at shape (1, 3, 384, 640)\n",
      "Processing frame 592\n",
      "\n",
      "0: 384x640 (no detections), 41.0ms\n",
      "Speed: 1.4ms preprocess, 41.0ms inference, 0.3ms postprocess per image at shape (1, 3, 384, 640)\n",
      "Processing frame 593\n",
      "\n",
      "0: 384x640 (no detections), 42.1ms\n",
      "Speed: 1.6ms preprocess, 42.1ms inference, 0.3ms postprocess per image at shape (1, 3, 384, 640)\n",
      "Processing frame 594\n",
      "\n",
      "0: 384x640 (no detections), 41.8ms\n",
      "Speed: 1.6ms preprocess, 41.8ms inference, 0.3ms postprocess per image at shape (1, 3, 384, 640)\n",
      "Processing frame 595\n",
      "\n",
      "0: 384x640 (no detections), 43.4ms\n",
      "Speed: 1.6ms preprocess, 43.4ms inference, 0.3ms postprocess per image at shape (1, 3, 384, 640)\n",
      "Processing frame 596\n",
      "\n",
      "0: 384x640 (no detections), 43.8ms\n",
      "Speed: 1.7ms preprocess, 43.8ms inference, 0.3ms postprocess per image at shape (1, 3, 384, 640)\n",
      "Processing frame 597\n",
      "\n",
      "0: 384x640 (no detections), 55.9ms\n",
      "Speed: 1.5ms preprocess, 55.9ms inference, 0.2ms postprocess per image at shape (1, 3, 384, 640)\n",
      "Processing frame 598\n",
      "\n",
      "0: 384x640 (no detections), 58.0ms\n",
      "Speed: 1.8ms preprocess, 58.0ms inference, 0.3ms postprocess per image at shape (1, 3, 384, 640)\n",
      "Processing frame 599\n",
      "\n",
      "0: 384x640 (no detections), 44.8ms\n",
      "Speed: 1.6ms preprocess, 44.8ms inference, 0.3ms postprocess per image at shape (1, 3, 384, 640)\n",
      "Processing frame 600\n",
      "\n",
      "0: 384x640 (no detections), 42.5ms\n",
      "Speed: 1.9ms preprocess, 42.5ms inference, 0.3ms postprocess per image at shape (1, 3, 384, 640)\n",
      "Processing frame 601\n",
      "\n",
      "0: 384x640 (no detections), 45.2ms\n",
      "Speed: 1.3ms preprocess, 45.2ms inference, 0.3ms postprocess per image at shape (1, 3, 384, 640)\n",
      "Processing frame 602\n",
      "\n",
      "0: 384x640 (no detections), 50.8ms\n",
      "Speed: 2.0ms preprocess, 50.8ms inference, 0.3ms postprocess per image at shape (1, 3, 384, 640)\n",
      "Processing frame 603\n",
      "\n",
      "0: 384x640 (no detections), 48.0ms\n",
      "Speed: 1.9ms preprocess, 48.0ms inference, 0.3ms postprocess per image at shape (1, 3, 384, 640)\n",
      "Processing frame 604\n",
      "\n",
      "0: 384x640 (no detections), 45.7ms\n",
      "Speed: 1.4ms preprocess, 45.7ms inference, 0.3ms postprocess per image at shape (1, 3, 384, 640)\n",
      "Processing frame 605\n",
      "\n",
      "0: 384x640 (no detections), 47.5ms\n",
      "Speed: 2.0ms preprocess, 47.5ms inference, 0.3ms postprocess per image at shape (1, 3, 384, 640)\n",
      "Processing frame 606\n",
      "\n",
      "0: 384x640 (no detections), 51.1ms\n",
      "Speed: 1.6ms preprocess, 51.1ms inference, 0.2ms postprocess per image at shape (1, 3, 384, 640)\n",
      "Processing frame 607\n",
      "\n",
      "0: 384x640 (no detections), 52.6ms\n",
      "Speed: 1.9ms preprocess, 52.6ms inference, 0.3ms postprocess per image at shape (1, 3, 384, 640)\n",
      "Processing frame 608\n",
      "\n",
      "0: 384x640 (no detections), 50.0ms\n",
      "Speed: 2.5ms preprocess, 50.0ms inference, 0.2ms postprocess per image at shape (1, 3, 384, 640)\n",
      "Processing frame 609\n",
      "\n",
      "0: 384x640 (no detections), 45.4ms\n",
      "Speed: 1.6ms preprocess, 45.4ms inference, 0.4ms postprocess per image at shape (1, 3, 384, 640)\n",
      "Processing frame 610\n",
      "\n",
      "0: 384x640 (no detections), 45.2ms\n",
      "Speed: 1.5ms preprocess, 45.2ms inference, 0.2ms postprocess per image at shape (1, 3, 384, 640)\n",
      "Processing frame 611\n",
      "\n",
      "0: 384x640 (no detections), 56.0ms\n",
      "Speed: 1.8ms preprocess, 56.0ms inference, 0.3ms postprocess per image at shape (1, 3, 384, 640)\n",
      "Processing frame 612\n",
      "\n",
      "0: 384x640 (no detections), 49.2ms\n",
      "Speed: 1.8ms preprocess, 49.2ms inference, 0.3ms postprocess per image at shape (1, 3, 384, 640)\n",
      "Processing frame 613\n",
      "\n",
      "0: 384x640 (no detections), 46.5ms\n",
      "Speed: 1.5ms preprocess, 46.5ms inference, 0.3ms postprocess per image at shape (1, 3, 384, 640)\n",
      "Processing frame 614\n",
      "\n",
      "0: 384x640 (no detections), 51.0ms\n",
      "Speed: 2.0ms preprocess, 51.0ms inference, 0.3ms postprocess per image at shape (1, 3, 384, 640)\n",
      "Processing frame 615\n",
      "\n",
      "0: 384x640 (no detections), 59.9ms\n",
      "Speed: 1.4ms preprocess, 59.9ms inference, 0.3ms postprocess per image at shape (1, 3, 384, 640)\n",
      "Processing frame 616\n",
      "\n",
      "0: 384x640 (no detections), 47.7ms\n",
      "Speed: 2.0ms preprocess, 47.7ms inference, 0.3ms postprocess per image at shape (1, 3, 384, 640)\n",
      "Processing frame 617\n",
      "\n",
      "0: 384x640 (no detections), 58.0ms\n",
      "Speed: 1.4ms preprocess, 58.0ms inference, 0.3ms postprocess per image at shape (1, 3, 384, 640)\n",
      "Processing frame 618\n",
      "\n",
      "0: 384x640 (no detections), 51.4ms\n",
      "Speed: 1.4ms preprocess, 51.4ms inference, 0.3ms postprocess per image at shape (1, 3, 384, 640)\n",
      "Processing frame 619\n",
      "\n",
      "0: 384x640 (no detections), 69.0ms\n",
      "Speed: 1.5ms preprocess, 69.0ms inference, 0.3ms postprocess per image at shape (1, 3, 384, 640)\n",
      "Processing frame 620\n",
      "\n",
      "0: 384x640 (no detections), 56.6ms\n",
      "Speed: 1.9ms preprocess, 56.6ms inference, 0.3ms postprocess per image at shape (1, 3, 384, 640)\n",
      "Processing frame 621\n",
      "\n",
      "0: 384x640 (no detections), 66.3ms\n",
      "Speed: 3.1ms preprocess, 66.3ms inference, 0.4ms postprocess per image at shape (1, 3, 384, 640)\n",
      "Processing frame 622\n",
      "\n",
      "0: 384x640 (no detections), 44.9ms\n",
      "Speed: 1.7ms preprocess, 44.9ms inference, 0.3ms postprocess per image at shape (1, 3, 384, 640)\n",
      "Processing frame 623\n",
      "\n",
      "0: 384x640 (no detections), 47.3ms\n",
      "Speed: 2.0ms preprocess, 47.3ms inference, 0.3ms postprocess per image at shape (1, 3, 384, 640)\n",
      "Processing frame 624\n",
      "\n",
      "0: 384x640 (no detections), 43.7ms\n",
      "Speed: 1.4ms preprocess, 43.7ms inference, 0.2ms postprocess per image at shape (1, 3, 384, 640)\n",
      "Processing frame 625\n",
      "\n",
      "0: 384x640 (no detections), 41.9ms\n",
      "Speed: 2.1ms preprocess, 41.9ms inference, 0.3ms postprocess per image at shape (1, 3, 384, 640)\n",
      "Processing frame 626\n",
      "\n",
      "0: 384x640 (no detections), 42.3ms\n",
      "Speed: 1.5ms preprocess, 42.3ms inference, 0.2ms postprocess per image at shape (1, 3, 384, 640)\n",
      "Processing frame 627\n",
      "\n",
      "0: 384x640 (no detections), 41.7ms\n",
      "Speed: 1.5ms preprocess, 41.7ms inference, 0.3ms postprocess per image at shape (1, 3, 384, 640)\n",
      "Processing frame 628\n",
      "\n",
      "0: 384x640 (no detections), 43.6ms\n",
      "Speed: 1.6ms preprocess, 43.6ms inference, 0.3ms postprocess per image at shape (1, 3, 384, 640)\n",
      "Processing frame 629\n",
      "\n",
      "0: 384x640 (no detections), 47.9ms\n",
      "Speed: 1.6ms preprocess, 47.9ms inference, 0.3ms postprocess per image at shape (1, 3, 384, 640)\n",
      "Processing frame 630\n",
      "\n",
      "0: 384x640 (no detections), 41.5ms\n",
      "Speed: 1.3ms preprocess, 41.5ms inference, 0.3ms postprocess per image at shape (1, 3, 384, 640)\n",
      "Processing frame 631\n",
      "\n",
      "0: 384x640 1 pothole, 39.5ms\n",
      "Speed: 1.7ms preprocess, 39.5ms inference, 0.6ms postprocess per image at shape (1, 3, 384, 640)\n",
      "Frame 631: Pothole Detected with confidence 0.55!\n",
      "Processing frame 632\n",
      "\n",
      "0: 384x640 (no detections), 41.8ms\n",
      "Speed: 1.8ms preprocess, 41.8ms inference, 0.2ms postprocess per image at shape (1, 3, 384, 640)\n",
      "Processing frame 633\n",
      "\n",
      "0: 384x640 (no detections), 47.6ms\n",
      "Speed: 1.4ms preprocess, 47.6ms inference, 0.2ms postprocess per image at shape (1, 3, 384, 640)\n",
      "Processing frame 634\n",
      "\n",
      "0: 384x640 (no detections), 50.0ms\n",
      "Speed: 1.8ms preprocess, 50.0ms inference, 0.3ms postprocess per image at shape (1, 3, 384, 640)\n",
      "Processing frame 635\n",
      "\n",
      "0: 384x640 (no detections), 43.5ms\n",
      "Speed: 1.6ms preprocess, 43.5ms inference, 0.2ms postprocess per image at shape (1, 3, 384, 640)\n",
      "Processing frame 636\n",
      "\n",
      "0: 384x640 (no detections), 48.6ms\n",
      "Speed: 1.3ms preprocess, 48.6ms inference, 0.3ms postprocess per image at shape (1, 3, 384, 640)\n",
      "Processing frame 637\n",
      "\n",
      "0: 384x640 (no detections), 50.8ms\n",
      "Speed: 1.3ms preprocess, 50.8ms inference, 0.3ms postprocess per image at shape (1, 3, 384, 640)\n",
      "Processing frame 638\n",
      "\n",
      "0: 384x640 (no detections), 44.4ms\n",
      "Speed: 1.7ms preprocess, 44.4ms inference, 0.2ms postprocess per image at shape (1, 3, 384, 640)\n",
      "Processing frame 639\n",
      "\n",
      "0: 384x640 (no detections), 44.5ms\n",
      "Speed: 1.8ms preprocess, 44.5ms inference, 0.3ms postprocess per image at shape (1, 3, 384, 640)\n",
      "Processing frame 640\n",
      "\n",
      "0: 384x640 (no detections), 54.0ms\n",
      "Speed: 2.5ms preprocess, 54.0ms inference, 0.3ms postprocess per image at shape (1, 3, 384, 640)\n",
      "Processing frame 641\n",
      "\n",
      "0: 384x640 (no detections), 52.5ms\n",
      "Speed: 2.1ms preprocess, 52.5ms inference, 0.2ms postprocess per image at shape (1, 3, 384, 640)\n",
      "Processing frame 642\n",
      "\n",
      "0: 384x640 (no detections), 52.7ms\n",
      "Speed: 1.8ms preprocess, 52.7ms inference, 0.3ms postprocess per image at shape (1, 3, 384, 640)\n",
      "Processing frame 643\n",
      "\n",
      "0: 384x640 (no detections), 62.5ms\n",
      "Speed: 2.1ms preprocess, 62.5ms inference, 0.4ms postprocess per image at shape (1, 3, 384, 640)\n",
      "Processing frame 644\n",
      "\n",
      "0: 384x640 (no detections), 47.5ms\n",
      "Speed: 1.8ms preprocess, 47.5ms inference, 0.2ms postprocess per image at shape (1, 3, 384, 640)\n",
      "Processing frame 645\n",
      "\n",
      "0: 384x640 (no detections), 46.6ms\n",
      "Speed: 2.3ms preprocess, 46.6ms inference, 0.2ms postprocess per image at shape (1, 3, 384, 640)\n",
      "Processing frame 646\n",
      "\n",
      "0: 384x640 (no detections), 40.9ms\n",
      "Speed: 2.0ms preprocess, 40.9ms inference, 0.3ms postprocess per image at shape (1, 3, 384, 640)\n",
      "Processing frame 647\n",
      "\n",
      "0: 384x640 1 pothole, 66.1ms\n",
      "Speed: 1.7ms preprocess, 66.1ms inference, 0.5ms postprocess per image at shape (1, 3, 384, 640)\n",
      "Frame 647: Pothole Detected with confidence 0.51!\n",
      "Processing frame 648\n",
      "\n",
      "0: 384x640 (no detections), 53.5ms\n",
      "Speed: 2.1ms preprocess, 53.5ms inference, 0.3ms postprocess per image at shape (1, 3, 384, 640)\n",
      "Processing frame 649\n",
      "\n",
      "0: 384x640 (no detections), 44.6ms\n",
      "Speed: 1.6ms preprocess, 44.6ms inference, 0.3ms postprocess per image at shape (1, 3, 384, 640)\n",
      "Processing frame 650\n",
      "\n",
      "0: 384x640 (no detections), 58.8ms\n",
      "Speed: 1.6ms preprocess, 58.8ms inference, 0.2ms postprocess per image at shape (1, 3, 384, 640)\n",
      "Processing frame 651\n",
      "\n",
      "0: 384x640 (no detections), 47.9ms\n",
      "Speed: 1.6ms preprocess, 47.9ms inference, 0.3ms postprocess per image at shape (1, 3, 384, 640)\n",
      "Processing frame 652\n",
      "\n",
      "0: 384x640 (no detections), 42.8ms\n",
      "Speed: 1.6ms preprocess, 42.8ms inference, 0.3ms postprocess per image at shape (1, 3, 384, 640)\n",
      "Processing frame 653\n",
      "\n",
      "0: 384x640 (no detections), 43.3ms\n",
      "Speed: 1.4ms preprocess, 43.3ms inference, 0.3ms postprocess per image at shape (1, 3, 384, 640)\n",
      "Processing frame 654\n",
      "\n",
      "0: 384x640 (no detections), 40.1ms\n",
      "Speed: 1.3ms preprocess, 40.1ms inference, 0.3ms postprocess per image at shape (1, 3, 384, 640)\n",
      "Processing frame 655\n",
      "\n",
      "0: 384x640 (no detections), 43.1ms\n",
      "Speed: 1.9ms preprocess, 43.1ms inference, 0.3ms postprocess per image at shape (1, 3, 384, 640)\n",
      "Processing frame 656\n",
      "\n",
      "0: 384x640 (no detections), 43.4ms\n",
      "Speed: 1.8ms preprocess, 43.4ms inference, 0.3ms postprocess per image at shape (1, 3, 384, 640)\n",
      "Processing frame 657\n",
      "\n",
      "0: 384x640 (no detections), 43.3ms\n",
      "Speed: 1.1ms preprocess, 43.3ms inference, 0.3ms postprocess per image at shape (1, 3, 384, 640)\n",
      "Processing frame 658\n",
      "\n",
      "0: 384x640 (no detections), 50.0ms\n",
      "Speed: 1.8ms preprocess, 50.0ms inference, 0.3ms postprocess per image at shape (1, 3, 384, 640)\n",
      "Processing frame 659\n",
      "\n",
      "0: 384x640 (no detections), 47.5ms\n",
      "Speed: 1.6ms preprocess, 47.5ms inference, 0.2ms postprocess per image at shape (1, 3, 384, 640)\n",
      "Processing frame 660\n",
      "\n",
      "0: 384x640 (no detections), 46.4ms\n",
      "Speed: 1.4ms preprocess, 46.4ms inference, 0.3ms postprocess per image at shape (1, 3, 384, 640)\n",
      "Processing frame 661\n",
      "\n",
      "0: 384x640 (no detections), 45.5ms\n",
      "Speed: 1.3ms preprocess, 45.5ms inference, 0.2ms postprocess per image at shape (1, 3, 384, 640)\n",
      "Processing frame 662\n",
      "\n",
      "0: 384x640 (no detections), 46.9ms\n",
      "Speed: 1.8ms preprocess, 46.9ms inference, 0.3ms postprocess per image at shape (1, 3, 384, 640)\n",
      "Processing frame 663\n",
      "\n",
      "0: 384x640 (no detections), 49.6ms\n",
      "Speed: 2.5ms preprocess, 49.6ms inference, 0.3ms postprocess per image at shape (1, 3, 384, 640)\n",
      "Processing frame 664\n",
      "\n",
      "0: 384x640 (no detections), 49.0ms\n",
      "Speed: 1.9ms preprocess, 49.0ms inference, 0.3ms postprocess per image at shape (1, 3, 384, 640)\n",
      "Processing frame 665\n",
      "\n",
      "0: 384x640 (no detections), 59.3ms\n",
      "Speed: 1.6ms preprocess, 59.3ms inference, 0.4ms postprocess per image at shape (1, 3, 384, 640)\n",
      "Processing frame 666\n",
      "\n",
      "0: 384x640 (no detections), 57.1ms\n",
      "Speed: 1.9ms preprocess, 57.1ms inference, 0.3ms postprocess per image at shape (1, 3, 384, 640)\n",
      "Processing frame 667\n",
      "\n",
      "0: 384x640 (no detections), 67.0ms\n",
      "Speed: 1.4ms preprocess, 67.0ms inference, 0.3ms postprocess per image at shape (1, 3, 384, 640)\n",
      "Processing frame 668\n",
      "\n",
      "0: 384x640 (no detections), 52.4ms\n",
      "Speed: 2.0ms preprocess, 52.4ms inference, 0.4ms postprocess per image at shape (1, 3, 384, 640)\n",
      "Processing frame 669\n",
      "\n",
      "0: 384x640 (no detections), 68.6ms\n",
      "Speed: 1.8ms preprocess, 68.6ms inference, 0.3ms postprocess per image at shape (1, 3, 384, 640)\n",
      "Processing frame 670\n",
      "\n",
      "0: 384x640 (no detections), 58.4ms\n",
      "Speed: 1.8ms preprocess, 58.4ms inference, 0.3ms postprocess per image at shape (1, 3, 384, 640)\n",
      "Processing frame 671\n",
      "\n",
      "0: 384x640 (no detections), 56.9ms\n",
      "Speed: 1.9ms preprocess, 56.9ms inference, 0.2ms postprocess per image at shape (1, 3, 384, 640)\n",
      "Processing frame 672\n",
      "\n",
      "0: 384x640 (no detections), 53.0ms\n",
      "Speed: 2.2ms preprocess, 53.0ms inference, 0.3ms postprocess per image at shape (1, 3, 384, 640)\n",
      "Processing frame 673\n",
      "\n",
      "0: 384x640 (no detections), 49.4ms\n",
      "Speed: 1.3ms preprocess, 49.4ms inference, 0.3ms postprocess per image at shape (1, 3, 384, 640)\n",
      "Processing frame 674\n",
      "\n",
      "0: 384x640 (no detections), 47.4ms\n",
      "Speed: 1.4ms preprocess, 47.4ms inference, 0.2ms postprocess per image at shape (1, 3, 384, 640)\n",
      "Processing frame 675\n",
      "\n",
      "0: 384x640 (no detections), 45.1ms\n",
      "Speed: 1.8ms preprocess, 45.1ms inference, 0.3ms postprocess per image at shape (1, 3, 384, 640)\n",
      "Processing frame 676\n",
      "\n",
      "0: 384x640 (no detections), 45.9ms\n",
      "Speed: 1.4ms preprocess, 45.9ms inference, 0.3ms postprocess per image at shape (1, 3, 384, 640)\n",
      "Processing frame 677\n",
      "\n",
      "0: 384x640 (no detections), 47.8ms\n",
      "Speed: 1.7ms preprocess, 47.8ms inference, 0.3ms postprocess per image at shape (1, 3, 384, 640)\n",
      "Processing frame 678\n",
      "\n",
      "0: 384x640 (no detections), 53.8ms\n",
      "Speed: 1.3ms preprocess, 53.8ms inference, 0.3ms postprocess per image at shape (1, 3, 384, 640)\n",
      "Processing frame 679\n",
      "\n",
      "0: 384x640 (no detections), 50.2ms\n",
      "Speed: 1.9ms preprocess, 50.2ms inference, 0.2ms postprocess per image at shape (1, 3, 384, 640)\n",
      "Processing frame 680\n",
      "\n",
      "0: 384x640 (no detections), 48.6ms\n",
      "Speed: 2.6ms preprocess, 48.6ms inference, 0.2ms postprocess per image at shape (1, 3, 384, 640)\n",
      "Processing frame 681\n",
      "\n",
      "0: 384x640 (no detections), 44.1ms\n",
      "Speed: 1.2ms preprocess, 44.1ms inference, 0.3ms postprocess per image at shape (1, 3, 384, 640)\n",
      "Processing frame 682\n",
      "\n",
      "0: 384x640 (no detections), 44.8ms\n",
      "Speed: 1.3ms preprocess, 44.8ms inference, 0.3ms postprocess per image at shape (1, 3, 384, 640)\n",
      "Processing frame 683\n",
      "\n",
      "0: 384x640 (no detections), 46.3ms\n",
      "Speed: 1.4ms preprocess, 46.3ms inference, 0.3ms postprocess per image at shape (1, 3, 384, 640)\n",
      "Processing frame 684\n",
      "\n",
      "0: 384x640 (no detections), 46.3ms\n",
      "Speed: 1.9ms preprocess, 46.3ms inference, 0.3ms postprocess per image at shape (1, 3, 384, 640)\n",
      "Processing frame 685\n",
      "\n",
      "0: 384x640 (no detections), 43.6ms\n",
      "Speed: 1.5ms preprocess, 43.6ms inference, 0.3ms postprocess per image at shape (1, 3, 384, 640)\n",
      "Processing frame 686\n",
      "\n",
      "0: 384x640 1 pothole, 52.5ms\n",
      "Speed: 1.4ms preprocess, 52.5ms inference, 0.4ms postprocess per image at shape (1, 3, 384, 640)\n",
      "Frame 686: Pothole Detected with confidence 0.53!\n",
      "Processing frame 687\n",
      "\n",
      "0: 384x640 (no detections), 51.5ms\n",
      "Speed: 1.8ms preprocess, 51.5ms inference, 0.3ms postprocess per image at shape (1, 3, 384, 640)\n",
      "Processing frame 688\n",
      "\n",
      "0: 384x640 (no detections), 48.3ms\n",
      "Speed: 1.7ms preprocess, 48.3ms inference, 0.3ms postprocess per image at shape (1, 3, 384, 640)\n",
      "Processing frame 689\n",
      "\n",
      "0: 384x640 (no detections), 46.3ms\n",
      "Speed: 1.7ms preprocess, 46.3ms inference, 0.3ms postprocess per image at shape (1, 3, 384, 640)\n",
      "Processing frame 690\n",
      "\n",
      "0: 384x640 (no detections), 62.6ms\n",
      "Speed: 1.3ms preprocess, 62.6ms inference, 0.2ms postprocess per image at shape (1, 3, 384, 640)\n",
      "Processing frame 691\n",
      "\n",
      "0: 384x640 (no detections), 49.2ms\n",
      "Speed: 1.9ms preprocess, 49.2ms inference, 0.2ms postprocess per image at shape (1, 3, 384, 640)\n",
      "Processing frame 692\n",
      "\n",
      "0: 384x640 (no detections), 44.2ms\n",
      "Speed: 1.6ms preprocess, 44.2ms inference, 0.3ms postprocess per image at shape (1, 3, 384, 640)\n",
      "Processing frame 693\n",
      "\n",
      "0: 384x640 (no detections), 46.2ms\n",
      "Speed: 2.1ms preprocess, 46.2ms inference, 0.2ms postprocess per image at shape (1, 3, 384, 640)\n",
      "Processing frame 694\n",
      "\n",
      "0: 384x640 (no detections), 52.7ms\n",
      "Speed: 1.7ms preprocess, 52.7ms inference, 0.2ms postprocess per image at shape (1, 3, 384, 640)\n",
      "Processing frame 695\n",
      "\n",
      "0: 384x640 (no detections), 51.9ms\n",
      "Speed: 1.7ms preprocess, 51.9ms inference, 0.3ms postprocess per image at shape (1, 3, 384, 640)\n",
      "Processing frame 696\n",
      "\n",
      "0: 384x640 (no detections), 44.5ms\n",
      "Speed: 2.0ms preprocess, 44.5ms inference, 0.3ms postprocess per image at shape (1, 3, 384, 640)\n",
      "Processing frame 697\n",
      "\n",
      "0: 384x640 (no detections), 43.4ms\n",
      "Speed: 1.5ms preprocess, 43.4ms inference, 0.3ms postprocess per image at shape (1, 3, 384, 640)\n",
      "Processing frame 698\n",
      "\n",
      "0: 384x640 (no detections), 45.2ms\n",
      "Speed: 2.2ms preprocess, 45.2ms inference, 0.2ms postprocess per image at shape (1, 3, 384, 640)\n",
      "Processing frame 699\n",
      "\n",
      "0: 384x640 (no detections), 45.8ms\n",
      "Speed: 1.7ms preprocess, 45.8ms inference, 0.3ms postprocess per image at shape (1, 3, 384, 640)\n",
      "Processing frame 700\n",
      "\n",
      "0: 384x640 (no detections), 43.8ms\n",
      "Speed: 1.6ms preprocess, 43.8ms inference, 0.3ms postprocess per image at shape (1, 3, 384, 640)\n",
      "Processing frame 701\n",
      "\n",
      "0: 384x640 (no detections), 42.8ms\n",
      "Speed: 1.4ms preprocess, 42.8ms inference, 0.3ms postprocess per image at shape (1, 3, 384, 640)\n",
      "Processing frame 702\n",
      "\n",
      "0: 384x640 (no detections), 46.0ms\n",
      "Speed: 1.2ms preprocess, 46.0ms inference, 0.3ms postprocess per image at shape (1, 3, 384, 640)\n",
      "Processing frame 703\n",
      "\n",
      "0: 384x640 (no detections), 45.2ms\n",
      "Speed: 1.7ms preprocess, 45.2ms inference, 0.3ms postprocess per image at shape (1, 3, 384, 640)\n",
      "Processing frame 704\n",
      "\n",
      "0: 384x640 (no detections), 57.3ms\n",
      "Speed: 1.4ms preprocess, 57.3ms inference, 0.2ms postprocess per image at shape (1, 3, 384, 640)\n",
      "Processing frame 705\n",
      "\n",
      "0: 384x640 (no detections), 56.7ms\n",
      "Speed: 2.2ms preprocess, 56.7ms inference, 0.2ms postprocess per image at shape (1, 3, 384, 640)\n",
      "Processing frame 706\n",
      "\n",
      "0: 384x640 (no detections), 44.0ms\n",
      "Speed: 1.3ms preprocess, 44.0ms inference, 0.3ms postprocess per image at shape (1, 3, 384, 640)\n",
      "Processing frame 707\n",
      "\n",
      "0: 384x640 (no detections), 43.3ms\n",
      "Speed: 1.6ms preprocess, 43.3ms inference, 0.3ms postprocess per image at shape (1, 3, 384, 640)\n",
      "Processing frame 708\n",
      "\n",
      "0: 384x640 (no detections), 46.9ms\n",
      "Speed: 1.3ms preprocess, 46.9ms inference, 0.3ms postprocess per image at shape (1, 3, 384, 640)\n",
      "Processing frame 709\n",
      "\n",
      "0: 384x640 (no detections), 47.5ms\n",
      "Speed: 1.6ms preprocess, 47.5ms inference, 0.3ms postprocess per image at shape (1, 3, 384, 640)\n",
      "Processing frame 710\n",
      "\n",
      "0: 384x640 (no detections), 44.7ms\n",
      "Speed: 1.6ms preprocess, 44.7ms inference, 0.2ms postprocess per image at shape (1, 3, 384, 640)\n",
      "Processing frame 711\n",
      "\n",
      "0: 384x640 (no detections), 49.4ms\n",
      "Speed: 1.2ms preprocess, 49.4ms inference, 0.3ms postprocess per image at shape (1, 3, 384, 640)\n",
      "Processing frame 712\n",
      "\n",
      "0: 384x640 (no detections), 44.5ms\n",
      "Speed: 1.9ms preprocess, 44.5ms inference, 0.3ms postprocess per image at shape (1, 3, 384, 640)\n",
      "Processing frame 713\n",
      "\n",
      "0: 384x640 (no detections), 60.2ms\n",
      "Speed: 1.9ms preprocess, 60.2ms inference, 0.3ms postprocess per image at shape (1, 3, 384, 640)\n",
      "Processing frame 714\n",
      "\n",
      "0: 384x640 (no detections), 43.0ms\n",
      "Speed: 2.3ms preprocess, 43.0ms inference, 0.3ms postprocess per image at shape (1, 3, 384, 640)\n",
      "Processing frame 715\n",
      "\n",
      "0: 384x640 (no detections), 42.8ms\n",
      "Speed: 1.7ms preprocess, 42.8ms inference, 0.2ms postprocess per image at shape (1, 3, 384, 640)\n",
      "Processing frame 716\n",
      "\n",
      "0: 384x640 (no detections), 42.4ms\n",
      "Speed: 2.2ms preprocess, 42.4ms inference, 0.3ms postprocess per image at shape (1, 3, 384, 640)\n",
      "Processing frame 717\n",
      "\n",
      "0: 384x640 (no detections), 50.4ms\n",
      "Speed: 2.2ms preprocess, 50.4ms inference, 0.3ms postprocess per image at shape (1, 3, 384, 640)\n",
      "Processing frame 718\n",
      "\n",
      "0: 384x640 (no detections), 52.5ms\n",
      "Speed: 1.6ms preprocess, 52.5ms inference, 0.3ms postprocess per image at shape (1, 3, 384, 640)\n",
      "Processing frame 719\n",
      "\n",
      "0: 384x640 1 pothole, 42.2ms\n",
      "Speed: 1.2ms preprocess, 42.2ms inference, 0.4ms postprocess per image at shape (1, 3, 384, 640)\n",
      "Frame 719: Pothole Detected with confidence 0.54!\n",
      "Processing frame 720\n",
      "\n",
      "0: 384x640 (no detections), 41.2ms\n",
      "Speed: 1.9ms preprocess, 41.2ms inference, 0.2ms postprocess per image at shape (1, 3, 384, 640)\n",
      "Processing frame 721\n",
      "\n",
      "0: 384x640 (no detections), 44.7ms\n",
      "Speed: 2.0ms preprocess, 44.7ms inference, 0.3ms postprocess per image at shape (1, 3, 384, 640)\n",
      "Processing frame 722\n",
      "\n",
      "0: 384x640 (no detections), 48.2ms\n",
      "Speed: 1.8ms preprocess, 48.2ms inference, 0.3ms postprocess per image at shape (1, 3, 384, 640)\n",
      "Processing frame 723\n",
      "\n",
      "0: 384x640 (no detections), 60.3ms\n",
      "Speed: 1.9ms preprocess, 60.3ms inference, 0.2ms postprocess per image at shape (1, 3, 384, 640)\n",
      "Processing frame 724\n",
      "\n",
      "0: 384x640 (no detections), 49.0ms\n",
      "Speed: 1.8ms preprocess, 49.0ms inference, 0.3ms postprocess per image at shape (1, 3, 384, 640)\n",
      "Processing frame 725\n",
      "\n",
      "0: 384x640 (no detections), 49.6ms\n",
      "Speed: 1.7ms preprocess, 49.6ms inference, 0.3ms postprocess per image at shape (1, 3, 384, 640)\n",
      "Processing frame 726\n",
      "\n",
      "0: 384x640 1 pothole, 53.5ms\n",
      "Speed: 2.1ms preprocess, 53.5ms inference, 0.4ms postprocess per image at shape (1, 3, 384, 640)\n",
      "Frame 726: Pothole Detected with confidence 0.56!\n",
      "Processing frame 727\n",
      "\n",
      "0: 384x640 1 pothole, 46.7ms\n",
      "Speed: 1.8ms preprocess, 46.7ms inference, 0.5ms postprocess per image at shape (1, 3, 384, 640)\n",
      "Frame 727: Pothole Detected with confidence 0.58!\n",
      "Processing frame 728\n",
      "\n",
      "0: 384x640 (no detections), 44.8ms\n",
      "Speed: 1.6ms preprocess, 44.8ms inference, 0.3ms postprocess per image at shape (1, 3, 384, 640)\n",
      "Processing frame 729\n",
      "\n",
      "0: 384x640 1 pothole, 43.4ms\n",
      "Speed: 1.5ms preprocess, 43.4ms inference, 0.6ms postprocess per image at shape (1, 3, 384, 640)\n",
      "Frame 729: Pothole Detected with confidence 0.59!\n",
      "Processing frame 730\n",
      "\n",
      "0: 384x640 (no detections), 44.5ms\n",
      "Speed: 1.8ms preprocess, 44.5ms inference, 0.3ms postprocess per image at shape (1, 3, 384, 640)\n",
      "Processing frame 731\n",
      "\n",
      "0: 384x640 (no detections), 46.1ms\n",
      "Speed: 1.4ms preprocess, 46.1ms inference, 0.3ms postprocess per image at shape (1, 3, 384, 640)\n",
      "Processing frame 732\n",
      "\n",
      "0: 384x640 (no detections), 44.6ms\n",
      "Speed: 1.8ms preprocess, 44.6ms inference, 0.3ms postprocess per image at shape (1, 3, 384, 640)\n",
      "Processing frame 733\n",
      "\n",
      "0: 384x640 (no detections), 42.3ms\n",
      "Speed: 1.6ms preprocess, 42.3ms inference, 0.3ms postprocess per image at shape (1, 3, 384, 640)\n",
      "Processing frame 734\n",
      "\n",
      "0: 384x640 (no detections), 44.5ms\n",
      "Speed: 1.7ms preprocess, 44.5ms inference, 0.3ms postprocess per image at shape (1, 3, 384, 640)\n",
      "Processing frame 735\n",
      "\n",
      "0: 384x640 (no detections), 43.0ms\n",
      "Speed: 1.1ms preprocess, 43.0ms inference, 0.3ms postprocess per image at shape (1, 3, 384, 640)\n",
      "Processing frame 736\n",
      "\n",
      "0: 384x640 (no detections), 60.0ms\n",
      "Speed: 1.4ms preprocess, 60.0ms inference, 0.7ms postprocess per image at shape (1, 3, 384, 640)\n",
      "Processing frame 737\n",
      "\n",
      "0: 384x640 (no detections), 60.2ms\n",
      "Speed: 1.9ms preprocess, 60.2ms inference, 0.6ms postprocess per image at shape (1, 3, 384, 640)\n",
      "Processing frame 738\n",
      "\n",
      "0: 384x640 (no detections), 53.0ms\n",
      "Speed: 1.4ms preprocess, 53.0ms inference, 0.3ms postprocess per image at shape (1, 3, 384, 640)\n",
      "Processing frame 739\n",
      "\n",
      "0: 384x640 (no detections), 52.1ms\n",
      "Speed: 1.5ms preprocess, 52.1ms inference, 0.3ms postprocess per image at shape (1, 3, 384, 640)\n",
      "Processing frame 740\n",
      "\n",
      "0: 384x640 (no detections), 58.0ms\n",
      "Speed: 2.0ms preprocess, 58.0ms inference, 0.3ms postprocess per image at shape (1, 3, 384, 640)\n",
      "Processing frame 741\n",
      "\n",
      "0: 384x640 (no detections), 61.0ms\n",
      "Speed: 1.4ms preprocess, 61.0ms inference, 0.3ms postprocess per image at shape (1, 3, 384, 640)\n",
      "Processing frame 742\n",
      "\n",
      "0: 384x640 (no detections), 56.2ms\n",
      "Speed: 1.5ms preprocess, 56.2ms inference, 0.3ms postprocess per image at shape (1, 3, 384, 640)\n",
      "Processing frame 743\n",
      "\n",
      "0: 384x640 (no detections), 54.7ms\n",
      "Speed: 1.8ms preprocess, 54.7ms inference, 0.3ms postprocess per image at shape (1, 3, 384, 640)\n",
      "Processing frame 744\n",
      "\n",
      "0: 384x640 (no detections), 48.6ms\n",
      "Speed: 1.6ms preprocess, 48.6ms inference, 0.3ms postprocess per image at shape (1, 3, 384, 640)\n",
      "Processing frame 745\n",
      "\n",
      "0: 384x640 (no detections), 44.2ms\n",
      "Speed: 2.0ms preprocess, 44.2ms inference, 0.3ms postprocess per image at shape (1, 3, 384, 640)\n",
      "Processing frame 746\n",
      "\n",
      "0: 384x640 (no detections), 44.7ms\n",
      "Speed: 1.5ms preprocess, 44.7ms inference, 0.3ms postprocess per image at shape (1, 3, 384, 640)\n",
      "Processing frame 747\n",
      "\n",
      "0: 384x640 (no detections), 44.0ms\n",
      "Speed: 2.1ms preprocess, 44.0ms inference, 0.3ms postprocess per image at shape (1, 3, 384, 640)\n",
      "Processing frame 748\n",
      "\n",
      "0: 384x640 (no detections), 42.8ms\n",
      "Speed: 1.2ms preprocess, 42.8ms inference, 0.3ms postprocess per image at shape (1, 3, 384, 640)\n",
      "Processing frame 749\n",
      "\n",
      "0: 384x640 (no detections), 46.1ms\n",
      "Speed: 1.5ms preprocess, 46.1ms inference, 0.3ms postprocess per image at shape (1, 3, 384, 640)\n",
      "Processing frame 750\n",
      "\n",
      "0: 384x640 (no detections), 43.2ms\n",
      "Speed: 1.3ms preprocess, 43.2ms inference, 0.3ms postprocess per image at shape (1, 3, 384, 640)\n",
      "Processing frame 751\n",
      "\n",
      "0: 384x640 (no detections), 41.8ms\n",
      "Speed: 1.4ms preprocess, 41.8ms inference, 0.3ms postprocess per image at shape (1, 3, 384, 640)\n",
      "Processing frame 752\n",
      "\n",
      "0: 384x640 (no detections), 45.1ms\n",
      "Speed: 1.6ms preprocess, 45.1ms inference, 0.3ms postprocess per image at shape (1, 3, 384, 640)\n",
      "Processing frame 753\n",
      "\n",
      "0: 384x640 (no detections), 47.8ms\n",
      "Speed: 1.5ms preprocess, 47.8ms inference, 0.3ms postprocess per image at shape (1, 3, 384, 640)\n",
      "Processing frame 754\n",
      "\n",
      "0: 384x640 (no detections), 43.8ms\n",
      "Speed: 1.8ms preprocess, 43.8ms inference, 0.3ms postprocess per image at shape (1, 3, 384, 640)\n",
      "Processing frame 755\n",
      "\n",
      "0: 384x640 (no detections), 46.2ms\n",
      "Speed: 1.7ms preprocess, 46.2ms inference, 0.3ms postprocess per image at shape (1, 3, 384, 640)\n",
      "Processing frame 756\n",
      "\n",
      "0: 384x640 (no detections), 43.2ms\n",
      "Speed: 1.4ms preprocess, 43.2ms inference, 0.3ms postprocess per image at shape (1, 3, 384, 640)\n",
      "Processing frame 757\n",
      "\n",
      "0: 384x640 (no detections), 51.0ms\n",
      "Speed: 1.4ms preprocess, 51.0ms inference, 1.0ms postprocess per image at shape (1, 3, 384, 640)\n",
      "Processing frame 758\n",
      "\n",
      "0: 384x640 (no detections), 48.3ms\n",
      "Speed: 1.8ms preprocess, 48.3ms inference, 0.3ms postprocess per image at shape (1, 3, 384, 640)\n",
      "Processing frame 759\n",
      "\n",
      "0: 384x640 (no detections), 56.3ms\n",
      "Speed: 2.5ms preprocess, 56.3ms inference, 0.2ms postprocess per image at shape (1, 3, 384, 640)\n",
      "Processing frame 760\n",
      "\n",
      "0: 384x640 (no detections), 48.2ms\n",
      "Speed: 1.7ms preprocess, 48.2ms inference, 0.3ms postprocess per image at shape (1, 3, 384, 640)\n",
      "Processing frame 761\n",
      "\n",
      "0: 384x640 (no detections), 45.2ms\n",
      "Speed: 1.3ms preprocess, 45.2ms inference, 0.3ms postprocess per image at shape (1, 3, 384, 640)\n",
      "Processing frame 762\n",
      "\n",
      "0: 384x640 (no detections), 43.6ms\n",
      "Speed: 1.8ms preprocess, 43.6ms inference, 0.3ms postprocess per image at shape (1, 3, 384, 640)\n",
      "Processing frame 763\n",
      "\n",
      "0: 384x640 (no detections), 44.6ms\n",
      "Speed: 1.1ms preprocess, 44.6ms inference, 0.2ms postprocess per image at shape (1, 3, 384, 640)\n",
      "Processing frame 764\n",
      "\n",
      "0: 384x640 (no detections), 54.7ms\n",
      "Speed: 1.8ms preprocess, 54.7ms inference, 0.3ms postprocess per image at shape (1, 3, 384, 640)\n",
      "Processing frame 765\n",
      "\n",
      "0: 384x640 (no detections), 56.6ms\n",
      "Speed: 1.2ms preprocess, 56.6ms inference, 0.3ms postprocess per image at shape (1, 3, 384, 640)\n",
      "Processing frame 766\n",
      "\n",
      "0: 384x640 (no detections), 59.9ms\n",
      "Speed: 2.7ms preprocess, 59.9ms inference, 0.3ms postprocess per image at shape (1, 3, 384, 640)\n",
      "Processing frame 767\n",
      "\n",
      "0: 384x640 (no detections), 51.1ms\n",
      "Speed: 1.4ms preprocess, 51.1ms inference, 0.4ms postprocess per image at shape (1, 3, 384, 640)\n",
      "Processing frame 768\n",
      "\n",
      "0: 384x640 (no detections), 53.1ms\n",
      "Speed: 1.9ms preprocess, 53.1ms inference, 0.3ms postprocess per image at shape (1, 3, 384, 640)\n",
      "Processing frame 769\n",
      "\n",
      "0: 384x640 (no detections), 45.2ms\n",
      "Speed: 1.8ms preprocess, 45.2ms inference, 0.3ms postprocess per image at shape (1, 3, 384, 640)\n",
      "Processing frame 770\n",
      "\n",
      "0: 384x640 (no detections), 49.2ms\n",
      "Speed: 1.4ms preprocess, 49.2ms inference, 0.3ms postprocess per image at shape (1, 3, 384, 640)\n",
      "Processing frame 771\n",
      "\n",
      "0: 384x640 (no detections), 48.9ms\n",
      "Speed: 1.5ms preprocess, 48.9ms inference, 0.3ms postprocess per image at shape (1, 3, 384, 640)\n",
      "Processing frame 772\n",
      "\n",
      "0: 384x640 (no detections), 55.7ms\n",
      "Speed: 2.9ms preprocess, 55.7ms inference, 0.3ms postprocess per image at shape (1, 3, 384, 640)\n",
      "Processing frame 773\n",
      "\n",
      "0: 384x640 (no detections), 53.5ms\n",
      "Speed: 1.7ms preprocess, 53.5ms inference, 0.3ms postprocess per image at shape (1, 3, 384, 640)\n",
      "Processing frame 774\n",
      "\n",
      "0: 384x640 (no detections), 66.6ms\n",
      "Speed: 1.2ms preprocess, 66.6ms inference, 0.3ms postprocess per image at shape (1, 3, 384, 640)\n",
      "Processing frame 775\n",
      "\n",
      "0: 384x640 (no detections), 58.2ms\n",
      "Speed: 2.1ms preprocess, 58.2ms inference, 0.3ms postprocess per image at shape (1, 3, 384, 640)\n",
      "Processing frame 776\n",
      "\n",
      "0: 384x640 (no detections), 51.9ms\n",
      "Speed: 1.7ms preprocess, 51.9ms inference, 0.3ms postprocess per image at shape (1, 3, 384, 640)\n",
      "Processing frame 777\n",
      "\n",
      "0: 384x640 (no detections), 52.9ms\n",
      "Speed: 2.1ms preprocess, 52.9ms inference, 0.3ms postprocess per image at shape (1, 3, 384, 640)\n",
      "Processing frame 778\n",
      "\n",
      "0: 384x640 (no detections), 50.8ms\n",
      "Speed: 1.8ms preprocess, 50.8ms inference, 0.3ms postprocess per image at shape (1, 3, 384, 640)\n",
      "Processing frame 779\n",
      "\n",
      "0: 384x640 (no detections), 47.2ms\n",
      "Speed: 1.9ms preprocess, 47.2ms inference, 0.3ms postprocess per image at shape (1, 3, 384, 640)\n",
      "Processing frame 780\n",
      "\n",
      "0: 384x640 (no detections), 44.6ms\n",
      "Speed: 1.2ms preprocess, 44.6ms inference, 0.3ms postprocess per image at shape (1, 3, 384, 640)\n",
      "Processing frame 781\n",
      "\n",
      "0: 384x640 (no detections), 43.5ms\n",
      "Speed: 1.3ms preprocess, 43.5ms inference, 0.3ms postprocess per image at shape (1, 3, 384, 640)\n",
      "Processing frame 782\n",
      "\n",
      "0: 384x640 (no detections), 43.8ms\n",
      "Speed: 1.4ms preprocess, 43.8ms inference, 0.3ms postprocess per image at shape (1, 3, 384, 640)\n",
      "Processing frame 783\n",
      "\n",
      "0: 384x640 (no detections), 45.1ms\n",
      "Speed: 1.8ms preprocess, 45.1ms inference, 0.3ms postprocess per image at shape (1, 3, 384, 640)\n",
      "Processing frame 784\n",
      "\n",
      "0: 384x640 (no detections), 44.0ms\n",
      "Speed: 1.7ms preprocess, 44.0ms inference, 0.3ms postprocess per image at shape (1, 3, 384, 640)\n",
      "Processing frame 785\n",
      "\n",
      "0: 384x640 (no detections), 43.3ms\n",
      "Speed: 1.4ms preprocess, 43.3ms inference, 0.3ms postprocess per image at shape (1, 3, 384, 640)\n",
      "Processing frame 786\n",
      "\n",
      "0: 384x640 (no detections), 44.2ms\n",
      "Speed: 1.4ms preprocess, 44.2ms inference, 0.3ms postprocess per image at shape (1, 3, 384, 640)\n",
      "Processing frame 787\n",
      "\n",
      "0: 384x640 (no detections), 50.7ms\n",
      "Speed: 1.6ms preprocess, 50.7ms inference, 0.3ms postprocess per image at shape (1, 3, 384, 640)\n",
      "Processing frame 788\n",
      "\n",
      "0: 384x640 (no detections), 59.6ms\n",
      "Speed: 1.6ms preprocess, 59.6ms inference, 0.3ms postprocess per image at shape (1, 3, 384, 640)\n",
      "Processing frame 789\n",
      "\n",
      "0: 384x640 (no detections), 58.9ms\n",
      "Speed: 1.7ms preprocess, 58.9ms inference, 0.3ms postprocess per image at shape (1, 3, 384, 640)\n",
      "Processing frame 790\n",
      "\n",
      "0: 384x640 (no detections), 48.1ms\n",
      "Speed: 1.7ms preprocess, 48.1ms inference, 0.3ms postprocess per image at shape (1, 3, 384, 640)\n",
      "Processing frame 791\n",
      "\n",
      "0: 384x640 (no detections), 48.1ms\n",
      "Speed: 1.7ms preprocess, 48.1ms inference, 0.3ms postprocess per image at shape (1, 3, 384, 640)\n",
      "Processing frame 792\n",
      "\n",
      "0: 384x640 (no detections), 63.1ms\n",
      "Speed: 1.4ms preprocess, 63.1ms inference, 0.2ms postprocess per image at shape (1, 3, 384, 640)\n",
      "Processing frame 793\n",
      "\n",
      "0: 384x640 (no detections), 56.8ms\n",
      "Speed: 1.7ms preprocess, 56.8ms inference, 0.6ms postprocess per image at shape (1, 3, 384, 640)\n",
      "Processing frame 794\n",
      "\n",
      "0: 384x640 (no detections), 63.8ms\n",
      "Speed: 2.2ms preprocess, 63.8ms inference, 0.3ms postprocess per image at shape (1, 3, 384, 640)\n",
      "Processing frame 795\n",
      "\n",
      "0: 384x640 (no detections), 55.1ms\n",
      "Speed: 1.5ms preprocess, 55.1ms inference, 0.2ms postprocess per image at shape (1, 3, 384, 640)\n",
      "Processing frame 796\n",
      "\n",
      "0: 384x640 1 pothole, 47.6ms\n",
      "Speed: 1.7ms preprocess, 47.6ms inference, 0.4ms postprocess per image at shape (1, 3, 384, 640)\n",
      "Frame 796: Pothole Detected with confidence 0.57!\n",
      "Processing frame 797\n",
      "\n",
      "0: 384x640 1 pothole, 47.4ms\n",
      "Speed: 2.0ms preprocess, 47.4ms inference, 0.7ms postprocess per image at shape (1, 3, 384, 640)\n",
      "Frame 797: Pothole Detected with confidence 0.67!\n",
      "Processing frame 798\n",
      "\n",
      "0: 384x640 (no detections), 45.8ms\n",
      "Speed: 1.7ms preprocess, 45.8ms inference, 0.3ms postprocess per image at shape (1, 3, 384, 640)\n",
      "Processing frame 799\n",
      "\n",
      "0: 384x640 1 pothole, 45.0ms\n",
      "Speed: 1.6ms preprocess, 45.0ms inference, 0.6ms postprocess per image at shape (1, 3, 384, 640)\n",
      "Frame 799: Pothole Detected with confidence 0.65!\n",
      "Processing frame 800\n",
      "\n",
      "0: 384x640 (no detections), 51.2ms\n",
      "Speed: 2.5ms preprocess, 51.2ms inference, 0.3ms postprocess per image at shape (1, 3, 384, 640)\n",
      "Processing frame 801\n",
      "\n",
      "0: 384x640 (no detections), 46.6ms\n",
      "Speed: 1.9ms preprocess, 46.6ms inference, 0.3ms postprocess per image at shape (1, 3, 384, 640)\n",
      "Processing frame 802\n",
      "\n",
      "0: 384x640 (no detections), 46.1ms\n",
      "Speed: 2.1ms preprocess, 46.1ms inference, 0.3ms postprocess per image at shape (1, 3, 384, 640)\n",
      "Processing frame 803\n",
      "\n",
      "0: 384x640 (no detections), 51.4ms\n",
      "Speed: 1.6ms preprocess, 51.4ms inference, 0.3ms postprocess per image at shape (1, 3, 384, 640)\n",
      "Processing frame 804\n",
      "\n",
      "0: 384x640 1 pothole, 70.0ms\n",
      "Speed: 1.6ms preprocess, 70.0ms inference, 1.0ms postprocess per image at shape (1, 3, 384, 640)\n",
      "Frame 804: Pothole Detected with confidence 0.54!\n",
      "Processing frame 805\n",
      "\n",
      "0: 384x640 (no detections), 52.1ms\n",
      "Speed: 2.4ms preprocess, 52.1ms inference, 0.3ms postprocess per image at shape (1, 3, 384, 640)\n",
      "Processing frame 806\n",
      "\n",
      "0: 384x640 (no detections), 47.7ms\n",
      "Speed: 1.6ms preprocess, 47.7ms inference, 0.3ms postprocess per image at shape (1, 3, 384, 640)\n",
      "Processing frame 807\n",
      "\n",
      "0: 384x640 (no detections), 48.8ms\n",
      "Speed: 1.7ms preprocess, 48.8ms inference, 0.3ms postprocess per image at shape (1, 3, 384, 640)\n",
      "Processing frame 808\n",
      "\n",
      "0: 384x640 1 pothole, 47.2ms\n",
      "Speed: 1.9ms preprocess, 47.2ms inference, 0.6ms postprocess per image at shape (1, 3, 384, 640)\n",
      "Frame 808: Pothole Detected with confidence 0.58!\n",
      "Processing frame 809\n",
      "\n",
      "0: 384x640 (no detections), 51.4ms\n",
      "Speed: 1.7ms preprocess, 51.4ms inference, 0.4ms postprocess per image at shape (1, 3, 384, 640)\n",
      "Processing frame 810\n",
      "\n",
      "0: 384x640 (no detections), 53.6ms\n",
      "Speed: 1.2ms preprocess, 53.6ms inference, 0.3ms postprocess per image at shape (1, 3, 384, 640)\n",
      "Processing frame 811\n",
      "\n",
      "0: 384x640 (no detections), 60.3ms\n",
      "Speed: 1.8ms preprocess, 60.3ms inference, 0.3ms postprocess per image at shape (1, 3, 384, 640)\n",
      "Processing frame 812\n",
      "\n",
      "0: 384x640 1 pothole, 50.5ms\n",
      "Speed: 1.7ms preprocess, 50.5ms inference, 0.6ms postprocess per image at shape (1, 3, 384, 640)\n",
      "Frame 812: Pothole Detected with confidence 0.53!\n",
      "Processing frame 813\n",
      "\n",
      "0: 384x640 1 pothole, 47.9ms\n",
      "Speed: 2.1ms preprocess, 47.9ms inference, 0.5ms postprocess per image at shape (1, 3, 384, 640)\n",
      "Frame 813: Pothole Detected with confidence 0.54!\n",
      "Processing frame 814\n",
      "\n",
      "0: 384x640 (no detections), 48.0ms\n",
      "Speed: 1.5ms preprocess, 48.0ms inference, 0.3ms postprocess per image at shape (1, 3, 384, 640)\n",
      "Processing frame 815\n",
      "\n",
      "0: 384x640 (no detections), 48.4ms\n",
      "Speed: 1.5ms preprocess, 48.4ms inference, 0.3ms postprocess per image at shape (1, 3, 384, 640)\n",
      "Processing frame 816\n",
      "\n",
      "0: 384x640 (no detections), 48.5ms\n",
      "Speed: 1.5ms preprocess, 48.5ms inference, 0.3ms postprocess per image at shape (1, 3, 384, 640)\n",
      "Processing frame 817\n",
      "\n",
      "0: 384x640 (no detections), 47.3ms\n",
      "Speed: 1.7ms preprocess, 47.3ms inference, 0.3ms postprocess per image at shape (1, 3, 384, 640)\n",
      "Processing frame 818\n",
      "\n",
      "0: 384x640 (no detections), 44.1ms\n",
      "Speed: 1.5ms preprocess, 44.1ms inference, 0.3ms postprocess per image at shape (1, 3, 384, 640)\n",
      "Processing frame 819\n",
      "\n",
      "0: 384x640 (no detections), 44.0ms\n",
      "Speed: 1.8ms preprocess, 44.0ms inference, 0.3ms postprocess per image at shape (1, 3, 384, 640)\n",
      "Processing frame 820\n",
      "\n",
      "0: 384x640 (no detections), 47.3ms\n",
      "Speed: 1.3ms preprocess, 47.3ms inference, 0.2ms postprocess per image at shape (1, 3, 384, 640)\n",
      "Processing frame 821\n",
      "\n",
      "0: 384x640 (no detections), 42.0ms\n",
      "Speed: 1.5ms preprocess, 42.0ms inference, 0.3ms postprocess per image at shape (1, 3, 384, 640)\n",
      "Processing frame 822\n",
      "\n",
      "0: 384x640 (no detections), 44.8ms\n",
      "Speed: 1.2ms preprocess, 44.8ms inference, 0.3ms postprocess per image at shape (1, 3, 384, 640)\n",
      "Processing frame 823\n",
      "\n",
      "0: 384x640 (no detections), 43.4ms\n",
      "Speed: 1.5ms preprocess, 43.4ms inference, 0.3ms postprocess per image at shape (1, 3, 384, 640)\n",
      "Processing frame 824\n",
      "\n",
      "0: 384x640 (no detections), 65.0ms\n",
      "Speed: 2.0ms preprocess, 65.0ms inference, 0.3ms postprocess per image at shape (1, 3, 384, 640)\n",
      "Processing frame 825\n",
      "\n",
      "0: 384x640 (no detections), 55.8ms\n",
      "Speed: 1.9ms preprocess, 55.8ms inference, 0.3ms postprocess per image at shape (1, 3, 384, 640)\n",
      "Processing frame 826\n",
      "\n",
      "0: 384x640 (no detections), 45.9ms\n",
      "Speed: 1.9ms preprocess, 45.9ms inference, 0.3ms postprocess per image at shape (1, 3, 384, 640)\n",
      "Processing frame 827\n",
      "\n",
      "0: 384x640 (no detections), 45.6ms\n",
      "Speed: 1.6ms preprocess, 45.6ms inference, 0.3ms postprocess per image at shape (1, 3, 384, 640)\n",
      "Processing frame 828\n",
      "\n",
      "0: 384x640 (no detections), 45.0ms\n",
      "Speed: 1.4ms preprocess, 45.0ms inference, 0.3ms postprocess per image at shape (1, 3, 384, 640)\n",
      "Processing frame 829\n",
      "\n",
      "0: 384x640 (no detections), 57.9ms\n",
      "Speed: 1.8ms preprocess, 57.9ms inference, 0.2ms postprocess per image at shape (1, 3, 384, 640)\n",
      "Processing frame 830\n",
      "\n",
      "0: 384x640 1 pothole, 52.2ms\n",
      "Speed: 2.1ms preprocess, 52.2ms inference, 0.6ms postprocess per image at shape (1, 3, 384, 640)\n",
      "Frame 830: Pothole Detected with confidence 0.66!\n",
      "Processing frame 831\n",
      "\n",
      "0: 384x640 1 pothole, 50.3ms\n",
      "Speed: 2.0ms preprocess, 50.3ms inference, 0.7ms postprocess per image at shape (1, 3, 384, 640)\n",
      "Frame 831: Pothole Detected with confidence 0.62!\n",
      "Processing frame 832\n",
      "\n",
      "0: 384x640 1 pothole, 46.8ms\n",
      "Speed: 1.7ms preprocess, 46.8ms inference, 0.6ms postprocess per image at shape (1, 3, 384, 640)\n",
      "Frame 832: Pothole Detected with confidence 0.53!\n",
      "Processing frame 833\n",
      "\n",
      "0: 384x640 1 pothole, 50.6ms\n",
      "Speed: 1.4ms preprocess, 50.6ms inference, 0.7ms postprocess per image at shape (1, 3, 384, 640)\n",
      "Frame 833: Pothole Detected with confidence 0.58!\n",
      "Processing frame 834\n",
      "\n",
      "0: 384x640 1 pothole, 46.3ms\n",
      "Speed: 1.3ms preprocess, 46.3ms inference, 0.4ms postprocess per image at shape (1, 3, 384, 640)\n",
      "Frame 834: Pothole Detected with confidence 0.52!\n",
      "Processing frame 835\n",
      "\n",
      "0: 384x640 (no detections), 49.7ms\n",
      "Speed: 2.0ms preprocess, 49.7ms inference, 0.3ms postprocess per image at shape (1, 3, 384, 640)\n",
      "Processing frame 836\n",
      "\n",
      "0: 384x640 (no detections), 50.1ms\n",
      "Speed: 1.4ms preprocess, 50.1ms inference, 0.2ms postprocess per image at shape (1, 3, 384, 640)\n",
      "Processing frame 837\n",
      "\n",
      "0: 384x640 (no detections), 44.6ms\n",
      "Speed: 1.9ms preprocess, 44.6ms inference, 0.3ms postprocess per image at shape (1, 3, 384, 640)\n",
      "Processing frame 838\n",
      "\n",
      "0: 384x640 (no detections), 49.7ms\n",
      "Speed: 1.7ms preprocess, 49.7ms inference, 0.3ms postprocess per image at shape (1, 3, 384, 640)\n",
      "Processing frame 839\n",
      "\n",
      "0: 384x640 (no detections), 48.1ms\n",
      "Speed: 1.6ms preprocess, 48.1ms inference, 0.3ms postprocess per image at shape (1, 3, 384, 640)\n",
      "Processing frame 840\n",
      "\n",
      "0: 384x640 (no detections), 51.0ms\n",
      "Speed: 2.1ms preprocess, 51.0ms inference, 0.3ms postprocess per image at shape (1, 3, 384, 640)\n",
      "Processing frame 841\n",
      "\n",
      "0: 384x640 (no detections), 48.4ms\n",
      "Speed: 1.7ms preprocess, 48.4ms inference, 0.3ms postprocess per image at shape (1, 3, 384, 640)\n",
      "Processing frame 842\n",
      "\n",
      "0: 384x640 (no detections), 48.4ms\n",
      "Speed: 1.9ms preprocess, 48.4ms inference, 0.3ms postprocess per image at shape (1, 3, 384, 640)\n",
      "Processing frame 843\n",
      "\n",
      "0: 384x640 (no detections), 57.2ms\n",
      "Speed: 2.1ms preprocess, 57.2ms inference, 0.3ms postprocess per image at shape (1, 3, 384, 640)\n",
      "Processing frame 844\n",
      "\n",
      "0: 384x640 (no detections), 53.3ms\n",
      "Speed: 1.8ms preprocess, 53.3ms inference, 0.3ms postprocess per image at shape (1, 3, 384, 640)\n",
      "Processing frame 845\n",
      "\n",
      "0: 384x640 (no detections), 47.3ms\n",
      "Speed: 1.5ms preprocess, 47.3ms inference, 0.3ms postprocess per image at shape (1, 3, 384, 640)\n",
      "Processing frame 846\n",
      "\n",
      "0: 384x640 (no detections), 57.4ms\n",
      "Speed: 2.1ms preprocess, 57.4ms inference, 0.2ms postprocess per image at shape (1, 3, 384, 640)\n",
      "Processing frame 847\n",
      "\n",
      "0: 384x640 (no detections), 55.9ms\n",
      "Speed: 2.4ms preprocess, 55.9ms inference, 0.2ms postprocess per image at shape (1, 3, 384, 640)\n",
      "Processing frame 848\n",
      "\n",
      "0: 384x640 (no detections), 51.5ms\n",
      "Speed: 1.7ms preprocess, 51.5ms inference, 0.3ms postprocess per image at shape (1, 3, 384, 640)\n",
      "Processing frame 849\n",
      "\n",
      "0: 384x640 (no detections), 48.9ms\n",
      "Speed: 1.4ms preprocess, 48.9ms inference, 0.3ms postprocess per image at shape (1, 3, 384, 640)\n",
      "Processing frame 850\n",
      "\n",
      "0: 384x640 (no detections), 48.9ms\n",
      "Speed: 2.7ms preprocess, 48.9ms inference, 0.3ms postprocess per image at shape (1, 3, 384, 640)\n",
      "Processing frame 851\n",
      "\n",
      "0: 384x640 1 pothole, 46.4ms\n",
      "Speed: 1.7ms preprocess, 46.4ms inference, 0.4ms postprocess per image at shape (1, 3, 384, 640)\n",
      "Frame 851: Pothole Detected with confidence 0.54!\n",
      "Processing frame 852\n",
      "\n",
      "0: 384x640 1 pothole, 46.1ms\n",
      "Speed: 1.9ms preprocess, 46.1ms inference, 0.4ms postprocess per image at shape (1, 3, 384, 640)\n",
      "Frame 852: Pothole Detected with confidence 0.50!\n",
      "Processing frame 853\n",
      "\n",
      "0: 384x640 1 pothole, 45.1ms\n",
      "Speed: 1.5ms preprocess, 45.1ms inference, 0.6ms postprocess per image at shape (1, 3, 384, 640)\n",
      "Frame 853: Pothole Detected with confidence 0.66!\n",
      "Processing frame 854\n",
      "\n",
      "0: 384x640 (no detections), 48.4ms\n",
      "Speed: 1.6ms preprocess, 48.4ms inference, 0.3ms postprocess per image at shape (1, 3, 384, 640)\n",
      "Processing frame 855\n",
      "\n",
      "0: 384x640 (no detections), 50.0ms\n",
      "Speed: 1.5ms preprocess, 50.0ms inference, 0.3ms postprocess per image at shape (1, 3, 384, 640)\n",
      "Processing frame 856\n",
      "\n",
      "0: 384x640 (no detections), 49.5ms\n",
      "Speed: 2.2ms preprocess, 49.5ms inference, 0.3ms postprocess per image at shape (1, 3, 384, 640)\n",
      "Processing frame 857\n",
      "\n",
      "0: 384x640 (no detections), 45.1ms\n",
      "Speed: 1.7ms preprocess, 45.1ms inference, 0.3ms postprocess per image at shape (1, 3, 384, 640)\n",
      "Processing frame 858\n",
      "\n",
      "0: 384x640 (no detections), 49.4ms\n",
      "Speed: 1.4ms preprocess, 49.4ms inference, 0.3ms postprocess per image at shape (1, 3, 384, 640)\n",
      "Processing frame 859\n",
      "\n",
      "0: 384x640 (no detections), 52.4ms\n",
      "Speed: 1.8ms preprocess, 52.4ms inference, 0.3ms postprocess per image at shape (1, 3, 384, 640)\n",
      "Processing frame 860\n",
      "\n",
      "0: 384x640 (no detections), 47.2ms\n",
      "Speed: 1.7ms preprocess, 47.2ms inference, 0.3ms postprocess per image at shape (1, 3, 384, 640)\n",
      "Processing frame 861\n",
      "\n",
      "0: 384x640 (no detections), 53.2ms\n",
      "Speed: 1.9ms preprocess, 53.2ms inference, 0.3ms postprocess per image at shape (1, 3, 384, 640)\n",
      "Processing frame 862\n",
      "\n",
      "0: 384x640 (no detections), 52.2ms\n",
      "Speed: 2.6ms preprocess, 52.2ms inference, 0.3ms postprocess per image at shape (1, 3, 384, 640)\n",
      "Processing frame 863\n",
      "\n",
      "0: 384x640 (no detections), 43.6ms\n",
      "Speed: 1.7ms preprocess, 43.6ms inference, 0.3ms postprocess per image at shape (1, 3, 384, 640)\n",
      "Annotated video saved as pothole_detection_output.avi\n"
     ]
    }
   ],
   "source": [
    "# Process a video\n",
    "video_path = 'demo.mp4'  \n",
    "detect_potholes_in_video(best_model, video_path, scale_factor=0.1, grid_size=10)"
   ]
  }
 ],
 "metadata": {
  "kernelspec": {
   "display_name": ".venv",
   "language": "python",
   "name": "python3"
  },
  "language_info": {
   "codemirror_mode": {
    "name": "ipython",
    "version": 3
   },
   "file_extension": ".py",
   "mimetype": "text/x-python",
   "name": "python",
   "nbconvert_exporter": "python",
   "pygments_lexer": "ipython3",
   "version": "3.12.1"
  }
 },
 "nbformat": 4,
 "nbformat_minor": 2
}
